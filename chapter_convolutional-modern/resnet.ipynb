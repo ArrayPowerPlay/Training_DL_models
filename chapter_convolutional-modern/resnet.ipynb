{
  "cells": [
    {
      "cell_type": "markdown",
      "id": "17807647",
      "metadata": {
        "id": "17807647"
      },
      "source": [
        "The following additional libraries are needed to run this\n",
        "notebook. Note that running on Colab is experimental, please report a Github\n",
        "issue if you have any problem."
      ]
    },
    {
      "cell_type": "code",
      "execution_count": 1,
      "id": "7d7ab0ca",
      "metadata": {
        "colab": {
          "base_uri": "https://localhost:8080/"
        },
        "id": "7d7ab0ca",
        "outputId": "7f8efae2-3b38-4cb4-be93-d0133da22739"
      },
      "outputs": [
        {
          "output_type": "stream",
          "name": "stdout",
          "text": [
            "\u001b[31mERROR: Could not find a version that satisfies the requirement numpy==1.23.5 (from versions: 1.26.0, 1.26.1, 1.26.2, 1.26.3, 1.26.4, 2.0.0, 2.0.1, 2.0.2, 2.1.0, 2.1.1, 2.1.2, 2.1.3, 2.2.0, 2.2.1, 2.2.2, 2.2.3, 2.2.4, 2.2.5, 2.2.6, 2.3.0, 2.3.1, 2.3.2, 2.3.3)\u001b[0m\u001b[31m\n",
            "\u001b[0m\u001b[31mERROR: No matching distribution found for numpy==1.23.5\u001b[0m\u001b[31m\n",
            "\u001b[0mCollecting d2l==1.0.3\n",
            "  Downloading d2l-1.0.3-py3-none-any.whl.metadata (556 bytes)\n",
            "Downloading d2l-1.0.3-py3-none-any.whl (111 kB)\n",
            "\u001b[2K   \u001b[90m━━━━━━━━━━━━━━━━━━━━━━━━━━━━━━━━━━━━━━━━\u001b[0m \u001b[32m111.7/111.7 kB\u001b[0m \u001b[31m5.7 MB/s\u001b[0m eta \u001b[36m0:00:00\u001b[0m\n",
            "\u001b[?25hInstalling collected packages: d2l\n",
            "Successfully installed d2l-1.0.3\n"
          ]
        }
      ],
      "source": [
        "!pip install numpy==1.23.5 --only-binary=:all:\n",
        "!pip install d2l==1.0.3 --no-deps"
      ]
    },
    {
      "cell_type": "markdown",
      "id": "e11b4915",
      "metadata": {
        "origin_pos": 1,
        "id": "e11b4915"
      },
      "source": [
        "# Residual Networks (ResNet) and ResNeXt\n",
        ":label:`sec_resnet`\n",
        "\n",
        "As we design ever deeper networks it becomes imperative to understand how adding layers can increase the complexity and expressiveness of the network.\n",
        "Even more important is the ability to design networks where adding layers makes networks strictly more expressive rather than just different.\n",
        "To make some progress we need a bit of mathematics.\n"
      ]
    },
    {
      "cell_type": "code",
      "execution_count": 2,
      "id": "d6e5d075",
      "metadata": {
        "execution": {
          "iopub.execute_input": "2023-08-18T19:50:50.915858Z",
          "iopub.status.busy": "2023-08-18T19:50:50.915085Z",
          "iopub.status.idle": "2023-08-18T19:50:53.897064Z",
          "shell.execute_reply": "2023-08-18T19:50:53.895755Z"
        },
        "origin_pos": 3,
        "tab": [
          "pytorch"
        ],
        "id": "d6e5d075"
      },
      "outputs": [],
      "source": [
        "import torch\n",
        "from torch import nn\n",
        "from torch.nn import functional as F\n",
        "from d2l import torch as d2l"
      ]
    },
    {
      "cell_type": "markdown",
      "id": "f46d0878",
      "metadata": {
        "origin_pos": 6,
        "id": "f46d0878"
      },
      "source": [
        "## Function Classes\n",
        "\n",
        "Consider $\\mathcal{F}$, the class of functions that a specific network architecture (together with learning rates and other hyperparameter settings) can reach.\n",
        "That is, for all $f \\in \\mathcal{F}$ there exists some set of parameters (e.g., weights and biases) that can be obtained through training on a suitable dataset.\n",
        "Let's assume that $f^*$ is the \"truth\" function that we really would like to find.\n",
        "If it is in $\\mathcal{F}$, we are in good shape but typically we will not be quite so lucky.\n",
        "Instead, we will try to find some $f^*_\\mathcal{F}$ which is our best bet within $\\mathcal{F}$.\n",
        "For instance,\n",
        "given a dataset with features $\\mathbf{X}$\n",
        "and labels $\\mathbf{y}$,\n",
        "we might try finding it by solving the following optimization problem:\n",
        "\n",
        "$$f^*_\\mathcal{F} \\stackrel{\\textrm{def}}{=} \\mathop{\\mathrm{argmin}}_f L(\\mathbf{X}, \\mathbf{y}, f) \\textrm{ subject to } f \\in \\mathcal{F}.$$\n",
        "\n",
        "We know that regularization :cite:`tikhonov1977solutions,morozov2012methods` may control complexity of $\\mathcal{F}$\n",
        "and achieve consistency, so a larger size of training data\n",
        "generally leads to better $f^*_\\mathcal{F}$.\n",
        "It is only reasonable to assume that if we design a different and more powerful architecture $\\mathcal{F}'$ we should arrive at a better outcome. In other words, we would expect that $f^*_{\\mathcal{F}'}$ is \"better\" than $f^*_{\\mathcal{F}}$. However, if $\\mathcal{F} \\not\\subseteq \\mathcal{F}'$ there is no guarantee that this should even happen. In fact, $f^*_{\\mathcal{F}'}$ might well be worse.\n",
        "As illustrated by :numref:`fig_functionclasses`,\n",
        "for non-nested function classes, a larger function class does not always move closer to the \"truth\" function $f^*$. For instance,\n",
        "on the left of :numref:`fig_functionclasses`,\n",
        "though $\\mathcal{F}_3$ is closer to $f^*$ than $\\mathcal{F}_1$, $\\mathcal{F}_6$ moves away and there is no guarantee that further increasing the complexity can reduce the distance from $f^*$.\n",
        "With nested function classes\n",
        "where $\\mathcal{F}_1 \\subseteq \\cdots \\subseteq \\mathcal{F}_6$\n",
        "on the right of :numref:`fig_functionclasses`,\n",
        "we can avoid the aforementioned issue from the non-nested function classes.\n",
        "\n",
        "\n",
        "![For non-nested function classes, a larger (indicated by area) function class does not guarantee we will get closer to the \"truth\" function ($\\mathit{f}^*$). This does not happen in nested function classes.](http://d2l.ai/_images/functionclasses.svg)\n",
        ":label:`fig_functionclasses`\n",
        "\n",
        "Thus,\n",
        "only if larger function classes contain the smaller ones are we guaranteed that increasing them strictly increases the expressive power of the network.\n",
        "For deep neural networks,\n",
        "if we can\n",
        "train the newly-added layer into an identity function $f(\\mathbf{x}) = \\mathbf{x}$, the new model will be as effective as the original model. As the new model may get a better solution to fit the training dataset, the added layer might make it easier to reduce training errors.\n",
        "\n",
        "This is the question that :citet:`He.Zhang.Ren.ea.2016` considered when working on very deep computer vision models.\n",
        "At the heart of their proposed *residual network* (*ResNet*) is the idea that every additional layer should\n",
        "more easily\n",
        "contain the identity function as one of its elements.\n",
        "These considerations are rather profound but they led to a surprisingly simple\n",
        "solution, a *residual block*.\n",
        "With it, ResNet won the ImageNet Large Scale Visual Recognition Challenge in 2015. The design had a profound influence on how to\n",
        "build deep neural networks. For instance, residual blocks have been added to recurrent networks :cite:`prakash2016neural,kim2017residual`. Likewise, Transformers :cite:`Vaswani.Shazeer.Parmar.ea.2017` use them to stack many layers of networks efficiently. It is also used in graph neural networks :cite:`Kipf.Welling.2016` and, as a basic concept, it has been used extensively in computer vision :cite:`Redmon.Farhadi.2018,Ren.He.Girshick.ea.2015`.\n",
        "Note that residual networks are predated by highway networks :cite:`srivastava2015highway` that share some of the motivation, albeit without the elegant parametrization around the identity function.\n",
        "\n",
        "\n",
        "## (**Residual Blocks**)\n",
        ":label:`subsec_residual-blks`\n",
        "\n",
        "Let's focus on a local part of a neural network, as depicted in :numref:`fig_residual_block`. Denote the input by $\\mathbf{x}$.\n",
        "We assume that $f(\\mathbf{x})$, the desired underlying mapping we want to obtain by learning, is to be used as input to the activation function on the top.\n",
        "On the left,\n",
        "the portion within the dotted-line box\n",
        "must directly learn $f(\\mathbf{x})$.\n",
        "On the right,\n",
        "the portion within the dotted-line box\n",
        "needs to\n",
        "learn the *residual mapping* $g(\\mathbf{x}) = f(\\mathbf{x}) - \\mathbf{x}$,\n",
        "which is how the residual block derives its name.\n",
        "If the identity mapping $f(\\mathbf{x}) = \\mathbf{x}$ is the desired underlying mapping,\n",
        "the residual mapping amounts to $g(\\mathbf{x}) = 0$ and it is thus easier to learn:\n",
        "we only need to push the weights and biases\n",
        "of the\n",
        "upper weight layer (e.g., fully connected layer and convolutional layer)\n",
        "within the dotted-line box\n",
        "to zero.\n",
        "The right figure illustrates the *residual block* of ResNet,\n",
        "where the solid line carrying the layer input\n",
        "$\\mathbf{x}$ to the addition operator\n",
        "is called a *residual connection* (or *shortcut connection*).\n",
        "With residual blocks, inputs can\n",
        "forward propagate faster through the residual connections across layers.\n",
        "In fact,\n",
        "the residual block\n",
        "can be thought of as\n",
        "a special case of the multi-branch Inception block:\n",
        "it has two branches\n",
        "one of which is the identity mapping.\n",
        "\n",
        "![In a regular block (left), the portion within the dotted-line box must directly learn the mapping $\\mathit{f}(\\mathbf{x})$. In a residual block (right), the portion within the dotted-line box needs to learn the residual mapping $\\mathit{g}(\\mathbf{x}) = \\mathit{f}(\\mathbf{x}) - \\mathbf{x}$, making the identity mapping $\\mathit{f}(\\mathbf{x}) = \\mathbf{x}$ easier to learn.](https://github.com/d2l-ai/d2l-pytorch-colab/blob/master/img/residual-block.svg?raw=1)\n",
        ":label:`fig_residual_block`\n",
        "\n",
        "\n",
        "ResNet has VGG's full $3\\times 3$ convolutional layer design. The residual block has two $3\\times 3$ convolutional layers with the same number of output channels. Each convolutional layer is followed by a batch normalization layer and a ReLU activation function. Then, we skip these two convolution operations and add the input directly before the final ReLU activation function.\n",
        "This kind of design requires that the output of the two convolutional layers has to be of the same shape as the input, so that they can be added together. If we want to change the number of channels, we need to introduce an additional $1\\times 1$ convolutional layer to transform the input into the desired shape for the addition operation. Let's have a look at the code below.\n"
      ]
    },
    {
      "cell_type": "code",
      "execution_count": 3,
      "id": "35fa7497",
      "metadata": {
        "execution": {
          "iopub.execute_input": "2023-08-18T19:50:53.901535Z",
          "iopub.status.busy": "2023-08-18T19:50:53.900638Z",
          "iopub.status.idle": "2023-08-18T19:50:53.909065Z",
          "shell.execute_reply": "2023-08-18T19:50:53.907927Z"
        },
        "origin_pos": 8,
        "tab": [
          "pytorch"
        ],
        "id": "35fa7497"
      },
      "outputs": [],
      "source": [
        "class Residual(nn.Module):  #@save\n",
        "    \"\"\"The Residual block of ResNet models.\"\"\"\n",
        "    def __init__(self, num_channels, use_1x1conv=False, strides=1):\n",
        "        super().__init__()\n",
        "        self.conv1 = nn.LazyConv2d(num_channels, kernel_size=3, padding=1,\n",
        "                                   stride=strides)\n",
        "        self.conv2 = nn.LazyConv2d(num_channels, kernel_size=3, padding=1)\n",
        "        if use_1x1conv:\n",
        "            self.conv3 = nn.LazyConv2d(num_channels, kernel_size=1,\n",
        "                                       stride=strides)\n",
        "        else:\n",
        "            self.conv3 = None\n",
        "        self.bn1 = nn.LazyBatchNorm2d()\n",
        "        self.bn2 = nn.LazyBatchNorm2d()\n",
        "\n",
        "    def forward(self, X):\n",
        "        Y = F.relu(self.bn1(self.conv1(X)))\n",
        "        Y = self.bn2(self.conv2(Y))\n",
        "        if self.conv3:\n",
        "            X = self.conv3(X)\n",
        "        Y += X\n",
        "        return F.relu(Y)"
      ]
    },
    {
      "cell_type": "markdown",
      "id": "d5a254f6",
      "metadata": {
        "origin_pos": 11,
        "id": "d5a254f6"
      },
      "source": [
        "This code generates two types of networks: one where we add the input to the output before applying the ReLU nonlinearity whenever `use_1x1conv=False`; and one where we adjust channels and resolution by means of a $1 \\times 1$ convolution before adding. :numref:`fig_resnet_block` illustrates this.\n",
        "\n",
        "![ResNet block with and without $1 \\times 1$ convolution, which transforms the input into the desired shape for the addition operation.](https://github.com/d2l-ai/d2l-pytorch-colab/blob/master/img/resnet-block.svg?raw=1)\n",
        ":label:`fig_resnet_block`\n",
        "\n",
        "Now let's look at [**a situation where the input and output are of the same shape**], where $1 \\times 1$ convolution is not needed.\n"
      ]
    },
    {
      "cell_type": "code",
      "execution_count": 4,
      "id": "2057b8bc",
      "metadata": {
        "execution": {
          "iopub.execute_input": "2023-08-18T19:50:53.913050Z",
          "iopub.status.busy": "2023-08-18T19:50:53.912286Z",
          "iopub.status.idle": "2023-08-18T19:50:53.955152Z",
          "shell.execute_reply": "2023-08-18T19:50:53.953792Z"
        },
        "origin_pos": 12,
        "tab": [
          "pytorch"
        ],
        "colab": {
          "base_uri": "https://localhost:8080/"
        },
        "id": "2057b8bc",
        "outputId": "d190dcb2-25c1-4435-a53e-7f35567fc6b2"
      },
      "outputs": [
        {
          "output_type": "execute_result",
          "data": {
            "text/plain": [
              "torch.Size([4, 3, 6, 6])"
            ]
          },
          "metadata": {},
          "execution_count": 4
        }
      ],
      "source": [
        "blk = Residual(3)\n",
        "X = torch.randn(4, 3, 6, 6)\n",
        "blk(X).shape"
      ]
    },
    {
      "cell_type": "markdown",
      "id": "81b3b8b1",
      "metadata": {
        "origin_pos": 15,
        "id": "81b3b8b1"
      },
      "source": [
        "We also have the option to [**halve the output height and width while increasing the number of output channels**].\n",
        "In this case we use $1 \\times 1$ convolutions via `use_1x1conv=True`. This comes in handy at the beginning of each ResNet block to reduce the spatial dimensionality via `strides=2`.\n"
      ]
    },
    {
      "cell_type": "code",
      "execution_count": 5,
      "id": "341c1c55",
      "metadata": {
        "execution": {
          "iopub.execute_input": "2023-08-18T19:50:53.958860Z",
          "iopub.status.busy": "2023-08-18T19:50:53.958579Z",
          "iopub.status.idle": "2023-08-18T19:50:53.983195Z",
          "shell.execute_reply": "2023-08-18T19:50:53.981643Z"
        },
        "origin_pos": 16,
        "tab": [
          "pytorch"
        ],
        "colab": {
          "base_uri": "https://localhost:8080/"
        },
        "id": "341c1c55",
        "outputId": "36dbaaa8-80a5-456d-a6c1-e52118f9dc84"
      },
      "outputs": [
        {
          "output_type": "execute_result",
          "data": {
            "text/plain": [
              "torch.Size([4, 6, 3, 3])"
            ]
          },
          "metadata": {},
          "execution_count": 5
        }
      ],
      "source": [
        "blk = Residual(6, use_1x1conv=True, strides=2)\n",
        "blk(X).shape"
      ]
    },
    {
      "cell_type": "markdown",
      "id": "735745a2",
      "metadata": {
        "origin_pos": 18,
        "id": "735745a2"
      },
      "source": [
        "## [**ResNet Model**]\n",
        "\n",
        "The first two layers of ResNet are the same as those of the GoogLeNet we described before: the $7\\times 7$ convolutional layer with 64 output channels and a stride of 2 is followed by the $3\\times 3$ max-pooling layer with a stride of 2. The difference is the batch normalization layer added after each convolutional layer in ResNet.\n"
      ]
    },
    {
      "cell_type": "code",
      "execution_count": 6,
      "id": "393dd8de",
      "metadata": {
        "execution": {
          "iopub.execute_input": "2023-08-18T19:50:53.987745Z",
          "iopub.status.busy": "2023-08-18T19:50:53.986818Z",
          "iopub.status.idle": "2023-08-18T19:50:53.994446Z",
          "shell.execute_reply": "2023-08-18T19:50:53.993110Z"
        },
        "origin_pos": 19,
        "tab": [
          "pytorch"
        ],
        "id": "393dd8de"
      },
      "outputs": [],
      "source": [
        "class ResNet(d2l.Classifier):\n",
        "    def b1(self):\n",
        "        return nn.Sequential(\n",
        "            nn.LazyConv2d(64, kernel_size=7, stride=2, padding=3),\n",
        "            nn.LazyBatchNorm2d(), nn.ReLU(),\n",
        "            nn.MaxPool2d(kernel_size=3, stride=2, padding=1))"
      ]
    },
    {
      "cell_type": "markdown",
      "id": "537173c6",
      "metadata": {
        "origin_pos": 21,
        "id": "537173c6"
      },
      "source": [
        "GoogLeNet uses four modules made up of Inception blocks.\n",
        "However, ResNet uses four modules made up of residual blocks, each of which uses several residual blocks with the same number of output channels.\n",
        "The number of channels in the first module is the same as the number of input channels. Since a max-pooling layer with a stride of 2 has already been used, it is not necessary to reduce the height and width. In the first residual block for each of the subsequent modules, the number of channels is doubled compared with that of the previous module, and the height and width are halved.\n"
      ]
    },
    {
      "cell_type": "code",
      "execution_count": 7,
      "id": "4d92b69c",
      "metadata": {
        "execution": {
          "iopub.execute_input": "2023-08-18T19:50:53.998963Z",
          "iopub.status.busy": "2023-08-18T19:50:53.997879Z",
          "iopub.status.idle": "2023-08-18T19:50:54.005699Z",
          "shell.execute_reply": "2023-08-18T19:50:54.004419Z"
        },
        "origin_pos": 23,
        "tab": [
          "pytorch"
        ],
        "id": "4d92b69c"
      },
      "outputs": [],
      "source": [
        "@d2l.add_to_class(ResNet)\n",
        "def block(self, num_residuals, num_channels, first_block=False):\n",
        "    blk = []\n",
        "    for i in range(num_residuals):\n",
        "        if i == 0 and not first_block:\n",
        "            blk.append(Residual(num_channels, use_1x1conv=True, strides=2))\n",
        "        else:\n",
        "            blk.append(Residual(num_channels))\n",
        "    return nn.Sequential(*blk)"
      ]
    },
    {
      "cell_type": "markdown",
      "id": "582781fd",
      "metadata": {
        "origin_pos": 26,
        "id": "582781fd"
      },
      "source": [
        "Then, we add all the modules to ResNet. Here, two residual blocks are used for each module. Lastly, just like GoogLeNet, we add a global average pooling layer, followed by the fully connected layer output.\n"
      ]
    },
    {
      "cell_type": "code",
      "execution_count": 8,
      "id": "0019ee3f",
      "metadata": {
        "execution": {
          "iopub.execute_input": "2023-08-18T19:50:54.010309Z",
          "iopub.status.busy": "2023-08-18T19:50:54.009135Z",
          "iopub.status.idle": "2023-08-18T19:50:54.017906Z",
          "shell.execute_reply": "2023-08-18T19:50:54.016848Z"
        },
        "origin_pos": 27,
        "tab": [
          "pytorch"
        ],
        "id": "0019ee3f"
      },
      "outputs": [],
      "source": [
        "@d2l.add_to_class(ResNet)\n",
        "def __init__(self, arch, lr=0.1, num_classes=10):\n",
        "    super(ResNet, self).__init__()\n",
        "    self.save_hyperparameters()\n",
        "    self.net = nn.Sequential(self.b1())\n",
        "    for i, b in enumerate(arch):\n",
        "        self.net.add_module(f'b{i+2}', self.block(*b, first_block=(i==0)))\n",
        "    self.net.add_module('last', nn.Sequential(\n",
        "        nn.AdaptiveAvgPool2d((1, 1)), nn.Flatten(),\n",
        "        nn.LazyLinear(num_classes)))\n",
        "    self.net.apply(d2l.init_cnn)"
      ]
    },
    {
      "cell_type": "markdown",
      "id": "91a9c2ac",
      "metadata": {
        "origin_pos": 29,
        "id": "91a9c2ac"
      },
      "source": [
        "There are four convolutional layers in each module (excluding the $1\\times 1$ convolutional layer). Together with the first $7\\times 7$ convolutional layer and the final fully connected layer, there are 18 layers in total. Therefore, this model is commonly known as ResNet-18.\n",
        "By configuring different numbers of channels and residual blocks in the module, we can create different ResNet models, such as the deeper 152-layer ResNet-152. Although the main architecture of ResNet is similar to that of GoogLeNet, ResNet's structure is simpler and easier to modify. All these factors have resulted in the rapid and widespread use of ResNet. :numref:`fig_resnet18` depicts the full ResNet-18.\n",
        "\n",
        "![The ResNet-18 architecture.](https://github.com/d2l-ai/d2l-pytorch-colab/blob/master/img/resnet18-90.svg?raw=1)\n",
        ":label:`fig_resnet18`\n",
        "\n",
        "Before training ResNet, let's [**observe how the input shape changes across different modules in ResNet**]. As in all the previous architectures, the resolution decreases while the number of channels increases up until the point where a global average pooling layer aggregates all features.\n"
      ]
    },
    {
      "cell_type": "code",
      "execution_count": 9,
      "id": "61e60e34",
      "metadata": {
        "execution": {
          "iopub.execute_input": "2023-08-18T19:50:54.021691Z",
          "iopub.status.busy": "2023-08-18T19:50:54.021249Z",
          "iopub.status.idle": "2023-08-18T19:50:54.027632Z",
          "shell.execute_reply": "2023-08-18T19:50:54.026516Z"
        },
        "origin_pos": 30,
        "tab": [
          "pytorch"
        ],
        "id": "61e60e34"
      },
      "outputs": [],
      "source": [
        "class ResNet18(ResNet):\n",
        "    def __init__(self, lr=0.1, num_classes=10):\n",
        "        super().__init__(((2, 64), (2, 128), (2, 256), (2, 512)),\n",
        "                       lr, num_classes)"
      ]
    },
    {
      "cell_type": "code",
      "execution_count": 10,
      "id": "f153f6ed",
      "metadata": {
        "execution": {
          "iopub.execute_input": "2023-08-18T19:50:54.031902Z",
          "iopub.status.busy": "2023-08-18T19:50:54.030981Z",
          "iopub.status.idle": "2023-08-18T19:50:54.188619Z",
          "shell.execute_reply": "2023-08-18T19:50:54.187488Z"
        },
        "origin_pos": 32,
        "tab": [
          "pytorch"
        ],
        "colab": {
          "base_uri": "https://localhost:8080/"
        },
        "id": "f153f6ed",
        "outputId": "862a7f3f-3d06-4718-c129-ed981c2fa24a"
      },
      "outputs": [
        {
          "output_type": "stream",
          "name": "stdout",
          "text": [
            "Sequential output shape:\t torch.Size([1, 64, 24, 24])\n",
            "Sequential output shape:\t torch.Size([1, 64, 24, 24])\n",
            "Sequential output shape:\t torch.Size([1, 128, 12, 12])\n",
            "Sequential output shape:\t torch.Size([1, 256, 6, 6])\n",
            "Sequential output shape:\t torch.Size([1, 512, 3, 3])\n",
            "Sequential output shape:\t torch.Size([1, 10])\n"
          ]
        }
      ],
      "source": [
        "ResNet18().layer_summary((1, 1, 96, 96))"
      ]
    },
    {
      "cell_type": "markdown",
      "id": "c04c33c9",
      "metadata": {
        "origin_pos": 35,
        "id": "c04c33c9"
      },
      "source": [
        "## [**Training**]\n",
        "\n",
        "We train ResNet on the Fashion-MNIST dataset, just like before. ResNet is quite a powerful and flexible architecture. The plot capturing training and validation loss illustrates a significant gap between both graphs, with the training loss being considerably lower. For a network of this flexibility, more training data would offer distinct benefit in closing the gap and improving accuracy.\n"
      ]
    },
    {
      "cell_type": "code",
      "execution_count": 11,
      "id": "61b87bb9",
      "metadata": {
        "execution": {
          "iopub.execute_input": "2023-08-18T19:50:54.192632Z",
          "iopub.status.busy": "2023-08-18T19:50:54.191821Z",
          "iopub.status.idle": "2023-08-18T19:53:34.753784Z",
          "shell.execute_reply": "2023-08-18T19:53:34.752565Z"
        },
        "origin_pos": 36,
        "tab": [
          "pytorch"
        ],
        "colab": {
          "base_uri": "https://localhost:8080/",
          "height": 266
        },
        "id": "61b87bb9",
        "outputId": "1f61d48d-03b2-4e93-f9bc-a1c34acbc0dd"
      },
      "outputs": [
        {
          "output_type": "display_data",
          "data": {
            "text/plain": [
              "<Figure size 350x250 with 1 Axes>"
            ],
            "image/svg+xml": "<?xml version=\"1.0\" encoding=\"utf-8\" standalone=\"no\"?>\n<!DOCTYPE svg PUBLIC \"-//W3C//DTD SVG 1.1//EN\"\n  \"http://www.w3.org/Graphics/SVG/1.1/DTD/svg11.dtd\">\n<svg xmlns:xlink=\"http://www.w3.org/1999/xlink\" width=\"238.965625pt\" height=\"183.35625pt\" viewBox=\"0 0 238.965625 183.35625\" xmlns=\"http://www.w3.org/2000/svg\" version=\"1.1\">\n <metadata>\n  <rdf:RDF xmlns:dc=\"http://purl.org/dc/elements/1.1/\" xmlns:cc=\"http://creativecommons.org/ns#\" xmlns:rdf=\"http://www.w3.org/1999/02/22-rdf-syntax-ns#\">\n   <cc:Work>\n    <dc:type rdf:resource=\"http://purl.org/dc/dcmitype/StillImage\"/>\n    <dc:date>2025-10-11T11:33:22.134264</dc:date>\n    <dc:format>image/svg+xml</dc:format>\n    <dc:creator>\n     <cc:Agent>\n      <dc:title>Matplotlib v3.10.0, https://matplotlib.org/</dc:title>\n     </cc:Agent>\n    </dc:creator>\n   </cc:Work>\n  </rdf:RDF>\n </metadata>\n <defs>\n  <style type=\"text/css\">*{stroke-linejoin: round; stroke-linecap: butt}</style>\n </defs>\n <g id=\"figure_1\">\n  <g id=\"patch_1\">\n   <path d=\"M 0 183.35625 \nL 238.965625 183.35625 \nL 238.965625 0 \nL 0 0 \nz\n\" style=\"fill: #ffffff\"/>\n  </g>\n  <g id=\"axes_1\">\n   <g id=\"patch_2\">\n    <path d=\"M 30.103125 145.8 \nL 225.403125 145.8 \nL 225.403125 7.2 \nL 30.103125 7.2 \nz\n\" style=\"fill: #ffffff\"/>\n   </g>\n   <g id=\"matplotlib.axis_1\">\n    <g id=\"xtick_1\">\n     <g id=\"line2d_1\">\n      <defs>\n       <path id=\"md1655e61fc\" d=\"M 0 0 \nL 0 3.5 \n\" style=\"stroke: #000000; stroke-width: 0.8\"/>\n      </defs>\n      <g>\n       <use xlink:href=\"#md1655e61fc\" x=\"30.103125\" y=\"145.8\" style=\"stroke: #000000; stroke-width: 0.8\"/>\n      </g>\n     </g>\n     <g id=\"text_1\">\n      <!-- 0 -->\n      <g transform=\"translate(26.921875 160.398438) scale(0.1 -0.1)\">\n       <defs>\n        <path id=\"DejaVuSans-30\" d=\"M 2034 4250 \nQ 1547 4250 1301 3770 \nQ 1056 3291 1056 2328 \nQ 1056 1369 1301 889 \nQ 1547 409 2034 409 \nQ 2525 409 2770 889 \nQ 3016 1369 3016 2328 \nQ 3016 3291 2770 3770 \nQ 2525 4250 2034 4250 \nz\nM 2034 4750 \nQ 2819 4750 3233 4129 \nQ 3647 3509 3647 2328 \nQ 3647 1150 3233 529 \nQ 2819 -91 2034 -91 \nQ 1250 -91 836 529 \nQ 422 1150 422 2328 \nQ 422 3509 836 4129 \nQ 1250 4750 2034 4750 \nz\n\" transform=\"scale(0.015625)\"/>\n       </defs>\n       <use xlink:href=\"#DejaVuSans-30\"/>\n      </g>\n     </g>\n    </g>\n    <g id=\"xtick_2\">\n     <g id=\"line2d_2\">\n      <g>\n       <use xlink:href=\"#md1655e61fc\" x=\"69.163125\" y=\"145.8\" style=\"stroke: #000000; stroke-width: 0.8\"/>\n      </g>\n     </g>\n     <g id=\"text_2\">\n      <!-- 2 -->\n      <g transform=\"translate(65.981875 160.398438) scale(0.1 -0.1)\">\n       <defs>\n        <path id=\"DejaVuSans-32\" d=\"M 1228 531 \nL 3431 531 \nL 3431 0 \nL 469 0 \nL 469 531 \nQ 828 903 1448 1529 \nQ 2069 2156 2228 2338 \nQ 2531 2678 2651 2914 \nQ 2772 3150 2772 3378 \nQ 2772 3750 2511 3984 \nQ 2250 4219 1831 4219 \nQ 1534 4219 1204 4116 \nQ 875 4013 500 3803 \nL 500 4441 \nQ 881 4594 1212 4672 \nQ 1544 4750 1819 4750 \nQ 2544 4750 2975 4387 \nQ 3406 4025 3406 3419 \nQ 3406 3131 3298 2873 \nQ 3191 2616 2906 2266 \nQ 2828 2175 2409 1742 \nQ 1991 1309 1228 531 \nz\n\" transform=\"scale(0.015625)\"/>\n       </defs>\n       <use xlink:href=\"#DejaVuSans-32\"/>\n      </g>\n     </g>\n    </g>\n    <g id=\"xtick_3\">\n     <g id=\"line2d_3\">\n      <g>\n       <use xlink:href=\"#md1655e61fc\" x=\"108.223125\" y=\"145.8\" style=\"stroke: #000000; stroke-width: 0.8\"/>\n      </g>\n     </g>\n     <g id=\"text_3\">\n      <!-- 4 -->\n      <g transform=\"translate(105.041875 160.398438) scale(0.1 -0.1)\">\n       <defs>\n        <path id=\"DejaVuSans-34\" d=\"M 2419 4116 \nL 825 1625 \nL 2419 1625 \nL 2419 4116 \nz\nM 2253 4666 \nL 3047 4666 \nL 3047 1625 \nL 3713 1625 \nL 3713 1100 \nL 3047 1100 \nL 3047 0 \nL 2419 0 \nL 2419 1100 \nL 313 1100 \nL 313 1709 \nL 2253 4666 \nz\n\" transform=\"scale(0.015625)\"/>\n       </defs>\n       <use xlink:href=\"#DejaVuSans-34\"/>\n      </g>\n     </g>\n    </g>\n    <g id=\"xtick_4\">\n     <g id=\"line2d_4\">\n      <g>\n       <use xlink:href=\"#md1655e61fc\" x=\"147.283125\" y=\"145.8\" style=\"stroke: #000000; stroke-width: 0.8\"/>\n      </g>\n     </g>\n     <g id=\"text_4\">\n      <!-- 6 -->\n      <g transform=\"translate(144.101875 160.398438) scale(0.1 -0.1)\">\n       <defs>\n        <path id=\"DejaVuSans-36\" d=\"M 2113 2584 \nQ 1688 2584 1439 2293 \nQ 1191 2003 1191 1497 \nQ 1191 994 1439 701 \nQ 1688 409 2113 409 \nQ 2538 409 2786 701 \nQ 3034 994 3034 1497 \nQ 3034 2003 2786 2293 \nQ 2538 2584 2113 2584 \nz\nM 3366 4563 \nL 3366 3988 \nQ 3128 4100 2886 4159 \nQ 2644 4219 2406 4219 \nQ 1781 4219 1451 3797 \nQ 1122 3375 1075 2522 \nQ 1259 2794 1537 2939 \nQ 1816 3084 2150 3084 \nQ 2853 3084 3261 2657 \nQ 3669 2231 3669 1497 \nQ 3669 778 3244 343 \nQ 2819 -91 2113 -91 \nQ 1303 -91 875 529 \nQ 447 1150 447 2328 \nQ 447 3434 972 4092 \nQ 1497 4750 2381 4750 \nQ 2619 4750 2861 4703 \nQ 3103 4656 3366 4563 \nz\n\" transform=\"scale(0.015625)\"/>\n       </defs>\n       <use xlink:href=\"#DejaVuSans-36\"/>\n      </g>\n     </g>\n    </g>\n    <g id=\"xtick_5\">\n     <g id=\"line2d_5\">\n      <g>\n       <use xlink:href=\"#md1655e61fc\" x=\"186.343125\" y=\"145.8\" style=\"stroke: #000000; stroke-width: 0.8\"/>\n      </g>\n     </g>\n     <g id=\"text_5\">\n      <!-- 8 -->\n      <g transform=\"translate(183.161875 160.398438) scale(0.1 -0.1)\">\n       <defs>\n        <path id=\"DejaVuSans-38\" d=\"M 2034 2216 \nQ 1584 2216 1326 1975 \nQ 1069 1734 1069 1313 \nQ 1069 891 1326 650 \nQ 1584 409 2034 409 \nQ 2484 409 2743 651 \nQ 3003 894 3003 1313 \nQ 3003 1734 2745 1975 \nQ 2488 2216 2034 2216 \nz\nM 1403 2484 \nQ 997 2584 770 2862 \nQ 544 3141 544 3541 \nQ 544 4100 942 4425 \nQ 1341 4750 2034 4750 \nQ 2731 4750 3128 4425 \nQ 3525 4100 3525 3541 \nQ 3525 3141 3298 2862 \nQ 3072 2584 2669 2484 \nQ 3125 2378 3379 2068 \nQ 3634 1759 3634 1313 \nQ 3634 634 3220 271 \nQ 2806 -91 2034 -91 \nQ 1263 -91 848 271 \nQ 434 634 434 1313 \nQ 434 1759 690 2068 \nQ 947 2378 1403 2484 \nz\nM 1172 3481 \nQ 1172 3119 1398 2916 \nQ 1625 2713 2034 2713 \nQ 2441 2713 2670 2916 \nQ 2900 3119 2900 3481 \nQ 2900 3844 2670 4047 \nQ 2441 4250 2034 4250 \nQ 1625 4250 1398 4047 \nQ 1172 3844 1172 3481 \nz\n\" transform=\"scale(0.015625)\"/>\n       </defs>\n       <use xlink:href=\"#DejaVuSans-38\"/>\n      </g>\n     </g>\n    </g>\n    <g id=\"xtick_6\">\n     <g id=\"line2d_6\">\n      <g>\n       <use xlink:href=\"#md1655e61fc\" x=\"225.403125\" y=\"145.8\" style=\"stroke: #000000; stroke-width: 0.8\"/>\n      </g>\n     </g>\n     <g id=\"text_6\">\n      <!-- 10 -->\n      <g transform=\"translate(219.040625 160.398438) scale(0.1 -0.1)\">\n       <defs>\n        <path id=\"DejaVuSans-31\" d=\"M 794 531 \nL 1825 531 \nL 1825 4091 \nL 703 3866 \nL 703 4441 \nL 1819 4666 \nL 2450 4666 \nL 2450 531 \nL 3481 531 \nL 3481 0 \nL 794 0 \nL 794 531 \nz\n\" transform=\"scale(0.015625)\"/>\n       </defs>\n       <use xlink:href=\"#DejaVuSans-31\"/>\n       <use xlink:href=\"#DejaVuSans-30\" transform=\"translate(63.623047 0)\"/>\n      </g>\n     </g>\n    </g>\n    <g id=\"text_7\">\n     <!-- epoch -->\n     <g transform=\"translate(112.525 174.076563) scale(0.1 -0.1)\">\n      <defs>\n       <path id=\"DejaVuSans-65\" d=\"M 3597 1894 \nL 3597 1613 \nL 953 1613 \nQ 991 1019 1311 708 \nQ 1631 397 2203 397 \nQ 2534 397 2845 478 \nQ 3156 559 3463 722 \nL 3463 178 \nQ 3153 47 2828 -22 \nQ 2503 -91 2169 -91 \nQ 1331 -91 842 396 \nQ 353 884 353 1716 \nQ 353 2575 817 3079 \nQ 1281 3584 2069 3584 \nQ 2775 3584 3186 3129 \nQ 3597 2675 3597 1894 \nz\nM 3022 2063 \nQ 3016 2534 2758 2815 \nQ 2500 3097 2075 3097 \nQ 1594 3097 1305 2825 \nQ 1016 2553 972 2059 \nL 3022 2063 \nz\n\" transform=\"scale(0.015625)\"/>\n       <path id=\"DejaVuSans-70\" d=\"M 1159 525 \nL 1159 -1331 \nL 581 -1331 \nL 581 3500 \nL 1159 3500 \nL 1159 2969 \nQ 1341 3281 1617 3432 \nQ 1894 3584 2278 3584 \nQ 2916 3584 3314 3078 \nQ 3713 2572 3713 1747 \nQ 3713 922 3314 415 \nQ 2916 -91 2278 -91 \nQ 1894 -91 1617 61 \nQ 1341 213 1159 525 \nz\nM 3116 1747 \nQ 3116 2381 2855 2742 \nQ 2594 3103 2138 3103 \nQ 1681 3103 1420 2742 \nQ 1159 2381 1159 1747 \nQ 1159 1113 1420 752 \nQ 1681 391 2138 391 \nQ 2594 391 2855 752 \nQ 3116 1113 3116 1747 \nz\n\" transform=\"scale(0.015625)\"/>\n       <path id=\"DejaVuSans-6f\" d=\"M 1959 3097 \nQ 1497 3097 1228 2736 \nQ 959 2375 959 1747 \nQ 959 1119 1226 758 \nQ 1494 397 1959 397 \nQ 2419 397 2687 759 \nQ 2956 1122 2956 1747 \nQ 2956 2369 2687 2733 \nQ 2419 3097 1959 3097 \nz\nM 1959 3584 \nQ 2709 3584 3137 3096 \nQ 3566 2609 3566 1747 \nQ 3566 888 3137 398 \nQ 2709 -91 1959 -91 \nQ 1206 -91 779 398 \nQ 353 888 353 1747 \nQ 353 2609 779 3096 \nQ 1206 3584 1959 3584 \nz\n\" transform=\"scale(0.015625)\"/>\n       <path id=\"DejaVuSans-63\" d=\"M 3122 3366 \nL 3122 2828 \nQ 2878 2963 2633 3030 \nQ 2388 3097 2138 3097 \nQ 1578 3097 1268 2742 \nQ 959 2388 959 1747 \nQ 959 1106 1268 751 \nQ 1578 397 2138 397 \nQ 2388 397 2633 464 \nQ 2878 531 3122 666 \nL 3122 134 \nQ 2881 22 2623 -34 \nQ 2366 -91 2075 -91 \nQ 1284 -91 818 406 \nQ 353 903 353 1747 \nQ 353 2603 823 3093 \nQ 1294 3584 2113 3584 \nQ 2378 3584 2631 3529 \nQ 2884 3475 3122 3366 \nz\n\" transform=\"scale(0.015625)\"/>\n       <path id=\"DejaVuSans-68\" d=\"M 3513 2113 \nL 3513 0 \nL 2938 0 \nL 2938 2094 \nQ 2938 2591 2744 2837 \nQ 2550 3084 2163 3084 \nQ 1697 3084 1428 2787 \nQ 1159 2491 1159 1978 \nL 1159 0 \nL 581 0 \nL 581 4863 \nL 1159 4863 \nL 1159 2956 \nQ 1366 3272 1645 3428 \nQ 1925 3584 2291 3584 \nQ 2894 3584 3203 3211 \nQ 3513 2838 3513 2113 \nz\n\" transform=\"scale(0.015625)\"/>\n      </defs>\n      <use xlink:href=\"#DejaVuSans-65\"/>\n      <use xlink:href=\"#DejaVuSans-70\" transform=\"translate(61.523438 0)\"/>\n      <use xlink:href=\"#DejaVuSans-6f\" transform=\"translate(125 0)\"/>\n      <use xlink:href=\"#DejaVuSans-63\" transform=\"translate(186.181641 0)\"/>\n      <use xlink:href=\"#DejaVuSans-68\" transform=\"translate(241.162109 0)\"/>\n     </g>\n    </g>\n   </g>\n   <g id=\"matplotlib.axis_2\">\n    <g id=\"ytick_1\">\n     <g id=\"line2d_7\">\n      <defs>\n       <path id=\"mbd629e8273\" d=\"M 0 0 \nL -3.5 0 \n\" style=\"stroke: #000000; stroke-width: 0.8\"/>\n      </defs>\n      <g>\n       <use xlink:href=\"#mbd629e8273\" x=\"30.103125\" y=\"142.647645\" style=\"stroke: #000000; stroke-width: 0.8\"/>\n      </g>\n     </g>\n     <g id=\"text_8\">\n      <!-- 0.0 -->\n      <g transform=\"translate(7.2 146.446864) scale(0.1 -0.1)\">\n       <defs>\n        <path id=\"DejaVuSans-2e\" d=\"M 684 794 \nL 1344 794 \nL 1344 0 \nL 684 0 \nL 684 794 \nz\n\" transform=\"scale(0.015625)\"/>\n       </defs>\n       <use xlink:href=\"#DejaVuSans-30\"/>\n       <use xlink:href=\"#DejaVuSans-2e\" transform=\"translate(63.623047 0)\"/>\n       <use xlink:href=\"#DejaVuSans-30\" transform=\"translate(95.410156 0)\"/>\n      </g>\n     </g>\n    </g>\n    <g id=\"ytick_2\">\n     <g id=\"line2d_8\">\n      <g>\n       <use xlink:href=\"#mbd629e8273\" x=\"30.103125\" y=\"114.398867\" style=\"stroke: #000000; stroke-width: 0.8\"/>\n      </g>\n     </g>\n     <g id=\"text_9\">\n      <!-- 0.2 -->\n      <g transform=\"translate(7.2 118.198085) scale(0.1 -0.1)\">\n       <use xlink:href=\"#DejaVuSans-30\"/>\n       <use xlink:href=\"#DejaVuSans-2e\" transform=\"translate(63.623047 0)\"/>\n       <use xlink:href=\"#DejaVuSans-32\" transform=\"translate(95.410156 0)\"/>\n      </g>\n     </g>\n    </g>\n    <g id=\"ytick_3\">\n     <g id=\"line2d_9\">\n      <g>\n       <use xlink:href=\"#mbd629e8273\" x=\"30.103125\" y=\"86.150088\" style=\"stroke: #000000; stroke-width: 0.8\"/>\n      </g>\n     </g>\n     <g id=\"text_10\">\n      <!-- 0.4 -->\n      <g transform=\"translate(7.2 89.949307) scale(0.1 -0.1)\">\n       <use xlink:href=\"#DejaVuSans-30\"/>\n       <use xlink:href=\"#DejaVuSans-2e\" transform=\"translate(63.623047 0)\"/>\n       <use xlink:href=\"#DejaVuSans-34\" transform=\"translate(95.410156 0)\"/>\n      </g>\n     </g>\n    </g>\n    <g id=\"ytick_4\">\n     <g id=\"line2d_10\">\n      <g>\n       <use xlink:href=\"#mbd629e8273\" x=\"30.103125\" y=\"57.90131\" style=\"stroke: #000000; stroke-width: 0.8\"/>\n      </g>\n     </g>\n     <g id=\"text_11\">\n      <!-- 0.6 -->\n      <g transform=\"translate(7.2 61.700529) scale(0.1 -0.1)\">\n       <use xlink:href=\"#DejaVuSans-30\"/>\n       <use xlink:href=\"#DejaVuSans-2e\" transform=\"translate(63.623047 0)\"/>\n       <use xlink:href=\"#DejaVuSans-36\" transform=\"translate(95.410156 0)\"/>\n      </g>\n     </g>\n    </g>\n    <g id=\"ytick_5\">\n     <g id=\"line2d_11\">\n      <g>\n       <use xlink:href=\"#mbd629e8273\" x=\"30.103125\" y=\"29.652532\" style=\"stroke: #000000; stroke-width: 0.8\"/>\n      </g>\n     </g>\n     <g id=\"text_12\">\n      <!-- 0.8 -->\n      <g transform=\"translate(7.2 33.45175) scale(0.1 -0.1)\">\n       <use xlink:href=\"#DejaVuSans-30\"/>\n       <use xlink:href=\"#DejaVuSans-2e\" transform=\"translate(63.623047 0)\"/>\n       <use xlink:href=\"#DejaVuSans-38\" transform=\"translate(95.410156 0)\"/>\n      </g>\n     </g>\n    </g>\n   </g>\n   <g id=\"line2d_12\">\n    <path d=\"M 34.954394 64.313016 \n\" clip-path=\"url(#p0cb09e3dfd)\" style=\"fill: none; stroke: #1f77b4; stroke-width: 1.5; stroke-linecap: square\"/>\n   </g>\n   <g id=\"line2d_13\">\n    <path d=\"M 34.954394 64.313016 \nL 44.698573 94.313811 \n\" clip-path=\"url(#p0cb09e3dfd)\" style=\"fill: none; stroke: #1f77b4; stroke-width: 1.5; stroke-linecap: square\"/>\n   </g>\n   <g id=\"line2d_14\">\n    <path d=\"M 34.954394 64.313016 \nL 44.698573 94.313811 \n\" clip-path=\"url(#p0cb09e3dfd)\" style=\"fill: none; stroke: #1f77b4; stroke-width: 1.5; stroke-linecap: square\"/>\n   </g>\n   <g id=\"line2d_15\">\n    <path d=\"M 49.633125 92.393055 \n\" clip-path=\"url(#p0cb09e3dfd)\" style=\"fill: none; stroke-dasharray: 5.55,2.4; stroke-dashoffset: 0; stroke: #ff7f0e; stroke-width: 1.5\"/>\n   </g>\n   <g id=\"line2d_16\"/>\n   <g id=\"line2d_17\">\n    <path d=\"M 34.954394 64.313016 \nL 44.698573 94.313811 \n\" clip-path=\"url(#p0cb09e3dfd)\" style=\"fill: none; stroke: #1f77b4; stroke-width: 1.5; stroke-linecap: square\"/>\n   </g>\n   <g id=\"line2d_18\">\n    <path d=\"M 49.633125 92.393055 \n\" clip-path=\"url(#p0cb09e3dfd)\" style=\"fill: none; stroke-dasharray: 5.55,2.4; stroke-dashoffset: 0; stroke: #ff7f0e; stroke-width: 1.5\"/>\n   </g>\n   <g id=\"line2d_19\">\n    <path d=\"M 49.633125 20.162708 \n\" clip-path=\"url(#p0cb09e3dfd)\" style=\"fill: none; stroke-dasharray: 9.6,2.4,1.5,2.4; stroke-dashoffset: 0; stroke: #2ca02c; stroke-width: 1.5\"/>\n   </g>\n   <g id=\"line2d_20\">\n    <path d=\"M 34.954394 64.313016 \nL 44.698573 94.313811 \nL 54.442752 104.414375 \n\" clip-path=\"url(#p0cb09e3dfd)\" style=\"fill: none; stroke: #1f77b4; stroke-width: 1.5; stroke-linecap: square\"/>\n   </g>\n   <g id=\"line2d_21\">\n    <path d=\"M 49.633125 92.393055 \n\" clip-path=\"url(#p0cb09e3dfd)\" style=\"fill: none; stroke-dasharray: 5.55,2.4; stroke-dashoffset: 0; stroke: #ff7f0e; stroke-width: 1.5\"/>\n   </g>\n   <g id=\"line2d_22\">\n    <path d=\"M 49.633125 20.162708 \n\" clip-path=\"url(#p0cb09e3dfd)\" style=\"fill: none; stroke-dasharray: 9.6,2.4,1.5,2.4; stroke-dashoffset: 0; stroke: #2ca02c; stroke-width: 1.5\"/>\n   </g>\n   <g id=\"line2d_23\">\n    <path d=\"M 34.954394 64.313016 \nL 44.698573 94.313811 \nL 54.442752 104.414375 \nL 64.186931 105.716004 \n\" clip-path=\"url(#p0cb09e3dfd)\" style=\"fill: none; stroke: #1f77b4; stroke-width: 1.5; stroke-linecap: square\"/>\n   </g>\n   <g id=\"line2d_24\">\n    <path d=\"M 49.633125 92.393055 \n\" clip-path=\"url(#p0cb09e3dfd)\" style=\"fill: none; stroke-dasharray: 5.55,2.4; stroke-dashoffset: 0; stroke: #ff7f0e; stroke-width: 1.5\"/>\n   </g>\n   <g id=\"line2d_25\">\n    <path d=\"M 49.633125 20.162708 \n\" clip-path=\"url(#p0cb09e3dfd)\" style=\"fill: none; stroke-dasharray: 9.6,2.4,1.5,2.4; stroke-dashoffset: 0; stroke: #2ca02c; stroke-width: 1.5\"/>\n   </g>\n   <g id=\"line2d_26\">\n    <path d=\"M 34.954394 64.313016 \nL 44.698573 94.313811 \nL 54.442752 104.414375 \nL 64.186931 105.716004 \n\" clip-path=\"url(#p0cb09e3dfd)\" style=\"fill: none; stroke: #1f77b4; stroke-width: 1.5; stroke-linecap: square\"/>\n   </g>\n   <g id=\"line2d_27\">\n    <path d=\"M 49.633125 92.393055 \nL 69.163125 98.295483 \n\" clip-path=\"url(#p0cb09e3dfd)\" style=\"fill: none; stroke-dasharray: 5.55,2.4; stroke-dashoffset: 0; stroke: #ff7f0e; stroke-width: 1.5\"/>\n   </g>\n   <g id=\"line2d_28\">\n    <path d=\"M 49.633125 20.162708 \n\" clip-path=\"url(#p0cb09e3dfd)\" style=\"fill: none; stroke-dasharray: 9.6,2.4,1.5,2.4; stroke-dashoffset: 0; stroke: #2ca02c; stroke-width: 1.5\"/>\n   </g>\n   <g id=\"line2d_29\">\n    <path d=\"M 34.954394 64.313016 \nL 44.698573 94.313811 \nL 54.442752 104.414375 \nL 64.186931 105.716004 \n\" clip-path=\"url(#p0cb09e3dfd)\" style=\"fill: none; stroke: #1f77b4; stroke-width: 1.5; stroke-linecap: square\"/>\n   </g>\n   <g id=\"line2d_30\">\n    <path d=\"M 49.633125 92.393055 \nL 69.163125 98.295483 \n\" clip-path=\"url(#p0cb09e3dfd)\" style=\"fill: none; stroke-dasharray: 5.55,2.4; stroke-dashoffset: 0; stroke: #ff7f0e; stroke-width: 1.5\"/>\n   </g>\n   <g id=\"line2d_31\">\n    <path d=\"M 49.633125 20.162708 \nL 69.163125 17.955772 \n\" clip-path=\"url(#p0cb09e3dfd)\" style=\"fill: none; stroke-dasharray: 9.6,2.4,1.5,2.4; stroke-dashoffset: 0; stroke: #2ca02c; stroke-width: 1.5\"/>\n   </g>\n   <g id=\"line2d_32\">\n    <path d=\"M 34.954394 64.313016 \nL 44.698573 94.313811 \nL 54.442752 104.414375 \nL 64.186931 105.716004 \nL 73.93111 112.759388 \n\" clip-path=\"url(#p0cb09e3dfd)\" style=\"fill: none; stroke: #1f77b4; stroke-width: 1.5; stroke-linecap: square\"/>\n   </g>\n   <g id=\"line2d_33\">\n    <path d=\"M 49.633125 92.393055 \nL 69.163125 98.295483 \n\" clip-path=\"url(#p0cb09e3dfd)\" style=\"fill: none; stroke-dasharray: 5.55,2.4; stroke-dashoffset: 0; stroke: #ff7f0e; stroke-width: 1.5\"/>\n   </g>\n   <g id=\"line2d_34\">\n    <path d=\"M 49.633125 20.162708 \nL 69.163125 17.955772 \n\" clip-path=\"url(#p0cb09e3dfd)\" style=\"fill: none; stroke-dasharray: 9.6,2.4,1.5,2.4; stroke-dashoffset: 0; stroke: #2ca02c; stroke-width: 1.5\"/>\n   </g>\n   <g id=\"line2d_35\">\n    <path d=\"M 34.954394 64.313016 \nL 44.698573 94.313811 \nL 54.442752 104.414375 \nL 64.186931 105.716004 \nL 73.93111 112.759388 \nL 83.675289 113.875221 \n\" clip-path=\"url(#p0cb09e3dfd)\" style=\"fill: none; stroke: #1f77b4; stroke-width: 1.5; stroke-linecap: square\"/>\n   </g>\n   <g id=\"line2d_36\">\n    <path d=\"M 49.633125 92.393055 \nL 69.163125 98.295483 \n\" clip-path=\"url(#p0cb09e3dfd)\" style=\"fill: none; stroke-dasharray: 5.55,2.4; stroke-dashoffset: 0; stroke: #ff7f0e; stroke-width: 1.5\"/>\n   </g>\n   <g id=\"line2d_37\">\n    <path d=\"M 49.633125 20.162708 \nL 69.163125 17.955772 \n\" clip-path=\"url(#p0cb09e3dfd)\" style=\"fill: none; stroke-dasharray: 9.6,2.4,1.5,2.4; stroke-dashoffset: 0; stroke: #2ca02c; stroke-width: 1.5\"/>\n   </g>\n   <g id=\"line2d_38\">\n    <path d=\"M 34.954394 64.313016 \nL 44.698573 94.313811 \nL 54.442752 104.414375 \nL 64.186931 105.716004 \nL 73.93111 112.759388 \nL 83.675289 113.875221 \n\" clip-path=\"url(#p0cb09e3dfd)\" style=\"fill: none; stroke: #1f77b4; stroke-width: 1.5; stroke-linecap: square\"/>\n   </g>\n   <g id=\"line2d_39\">\n    <path d=\"M 49.633125 92.393055 \nL 69.163125 98.295483 \nL 88.693125 103.663098 \n\" clip-path=\"url(#p0cb09e3dfd)\" style=\"fill: none; stroke-dasharray: 5.55,2.4; stroke-dashoffset: 0; stroke: #ff7f0e; stroke-width: 1.5\"/>\n   </g>\n   <g id=\"line2d_40\">\n    <path d=\"M 49.633125 20.162708 \nL 69.163125 17.955772 \n\" clip-path=\"url(#p0cb09e3dfd)\" style=\"fill: none; stroke-dasharray: 9.6,2.4,1.5,2.4; stroke-dashoffset: 0; stroke: #2ca02c; stroke-width: 1.5\"/>\n   </g>\n   <g id=\"line2d_41\">\n    <path d=\"M 34.954394 64.313016 \nL 44.698573 94.313811 \nL 54.442752 104.414375 \nL 64.186931 105.716004 \nL 73.93111 112.759388 \nL 83.675289 113.875221 \n\" clip-path=\"url(#p0cb09e3dfd)\" style=\"fill: none; stroke: #1f77b4; stroke-width: 1.5; stroke-linecap: square\"/>\n   </g>\n   <g id=\"line2d_42\">\n    <path d=\"M 49.633125 92.393055 \nL 69.163125 98.295483 \nL 88.693125 103.663098 \n\" clip-path=\"url(#p0cb09e3dfd)\" style=\"fill: none; stroke-dasharray: 5.55,2.4; stroke-dashoffset: 0; stroke: #ff7f0e; stroke-width: 1.5\"/>\n   </g>\n   <g id=\"line2d_43\">\n    <path d=\"M 49.633125 20.162708 \nL 69.163125 17.955772 \nL 88.693125 15.148214 \n\" clip-path=\"url(#p0cb09e3dfd)\" style=\"fill: none; stroke-dasharray: 9.6,2.4,1.5,2.4; stroke-dashoffset: 0; stroke: #2ca02c; stroke-width: 1.5\"/>\n   </g>\n   <g id=\"line2d_44\">\n    <path d=\"M 34.954394 64.313016 \nL 44.698573 94.313811 \nL 54.442752 104.414375 \nL 64.186931 105.716004 \nL 73.93111 112.759388 \nL 83.675289 113.875221 \nL 93.419468 119.753845 \n\" clip-path=\"url(#p0cb09e3dfd)\" style=\"fill: none; stroke: #1f77b4; stroke-width: 1.5; stroke-linecap: square\"/>\n   </g>\n   <g id=\"line2d_45\">\n    <path d=\"M 49.633125 92.393055 \nL 69.163125 98.295483 \nL 88.693125 103.663098 \n\" clip-path=\"url(#p0cb09e3dfd)\" style=\"fill: none; stroke-dasharray: 5.55,2.4; stroke-dashoffset: 0; stroke: #ff7f0e; stroke-width: 1.5\"/>\n   </g>\n   <g id=\"line2d_46\">\n    <path d=\"M 49.633125 20.162708 \nL 69.163125 17.955772 \nL 88.693125 15.148214 \n\" clip-path=\"url(#p0cb09e3dfd)\" style=\"fill: none; stroke-dasharray: 9.6,2.4,1.5,2.4; stroke-dashoffset: 0; stroke: #2ca02c; stroke-width: 1.5\"/>\n   </g>\n   <g id=\"line2d_47\">\n    <path d=\"M 34.954394 64.313016 \nL 44.698573 94.313811 \nL 54.442752 104.414375 \nL 64.186931 105.716004 \nL 73.93111 112.759388 \nL 83.675289 113.875221 \nL 93.419468 119.753845 \nL 103.163647 118.844828 \n\" clip-path=\"url(#p0cb09e3dfd)\" style=\"fill: none; stroke: #1f77b4; stroke-width: 1.5; stroke-linecap: square\"/>\n   </g>\n   <g id=\"line2d_48\">\n    <path d=\"M 49.633125 92.393055 \nL 69.163125 98.295483 \nL 88.693125 103.663098 \n\" clip-path=\"url(#p0cb09e3dfd)\" style=\"fill: none; stroke-dasharray: 5.55,2.4; stroke-dashoffset: 0; stroke: #ff7f0e; stroke-width: 1.5\"/>\n   </g>\n   <g id=\"line2d_49\">\n    <path d=\"M 49.633125 20.162708 \nL 69.163125 17.955772 \nL 88.693125 15.148214 \n\" clip-path=\"url(#p0cb09e3dfd)\" style=\"fill: none; stroke-dasharray: 9.6,2.4,1.5,2.4; stroke-dashoffset: 0; stroke: #2ca02c; stroke-width: 1.5\"/>\n   </g>\n   <g id=\"line2d_50\">\n    <path d=\"M 34.954394 64.313016 \nL 44.698573 94.313811 \nL 54.442752 104.414375 \nL 64.186931 105.716004 \nL 73.93111 112.759388 \nL 83.675289 113.875221 \nL 93.419468 119.753845 \nL 103.163647 118.844828 \n\" clip-path=\"url(#p0cb09e3dfd)\" style=\"fill: none; stroke: #1f77b4; stroke-width: 1.5; stroke-linecap: square\"/>\n   </g>\n   <g id=\"line2d_51\">\n    <path d=\"M 49.633125 92.393055 \nL 69.163125 98.295483 \nL 88.693125 103.663098 \nL 108.223125 100.119608 \n\" clip-path=\"url(#p0cb09e3dfd)\" style=\"fill: none; stroke-dasharray: 5.55,2.4; stroke-dashoffset: 0; stroke: #ff7f0e; stroke-width: 1.5\"/>\n   </g>\n   <g id=\"line2d_52\">\n    <path d=\"M 49.633125 20.162708 \nL 69.163125 17.955772 \nL 88.693125 15.148214 \n\" clip-path=\"url(#p0cb09e3dfd)\" style=\"fill: none; stroke-dasharray: 9.6,2.4,1.5,2.4; stroke-dashoffset: 0; stroke: #2ca02c; stroke-width: 1.5\"/>\n   </g>\n   <g id=\"line2d_53\">\n    <path d=\"M 34.954394 64.313016 \nL 44.698573 94.313811 \nL 54.442752 104.414375 \nL 64.186931 105.716004 \nL 73.93111 112.759388 \nL 83.675289 113.875221 \nL 93.419468 119.753845 \nL 103.163647 118.844828 \n\" clip-path=\"url(#p0cb09e3dfd)\" style=\"fill: none; stroke: #1f77b4; stroke-width: 1.5; stroke-linecap: square\"/>\n   </g>\n   <g id=\"line2d_54\">\n    <path d=\"M 49.633125 92.393055 \nL 69.163125 98.295483 \nL 88.693125 103.663098 \nL 108.223125 100.119608 \n\" clip-path=\"url(#p0cb09e3dfd)\" style=\"fill: none; stroke-dasharray: 5.55,2.4; stroke-dashoffset: 0; stroke: #ff7f0e; stroke-width: 1.5\"/>\n   </g>\n   <g id=\"line2d_55\">\n    <path d=\"M 49.633125 20.162708 \nL 69.163125 17.955772 \nL 88.693125 15.148214 \nL 108.223125 16.614852 \n\" clip-path=\"url(#p0cb09e3dfd)\" style=\"fill: none; stroke-dasharray: 9.6,2.4,1.5,2.4; stroke-dashoffset: 0; stroke: #2ca02c; stroke-width: 1.5\"/>\n   </g>\n   <g id=\"line2d_56\">\n    <path d=\"M 34.954394 64.313016 \nL 44.698573 94.313811 \nL 54.442752 104.414375 \nL 64.186931 105.716004 \nL 73.93111 112.759388 \nL 83.675289 113.875221 \nL 93.419468 119.753845 \nL 103.163647 118.844828 \nL 112.907826 124.608061 \n\" clip-path=\"url(#p0cb09e3dfd)\" style=\"fill: none; stroke: #1f77b4; stroke-width: 1.5; stroke-linecap: square\"/>\n   </g>\n   <g id=\"line2d_57\">\n    <path d=\"M 49.633125 92.393055 \nL 69.163125 98.295483 \nL 88.693125 103.663098 \nL 108.223125 100.119608 \n\" clip-path=\"url(#p0cb09e3dfd)\" style=\"fill: none; stroke-dasharray: 5.55,2.4; stroke-dashoffset: 0; stroke: #ff7f0e; stroke-width: 1.5\"/>\n   </g>\n   <g id=\"line2d_58\">\n    <path d=\"M 49.633125 20.162708 \nL 69.163125 17.955772 \nL 88.693125 15.148214 \nL 108.223125 16.614852 \n\" clip-path=\"url(#p0cb09e3dfd)\" style=\"fill: none; stroke-dasharray: 9.6,2.4,1.5,2.4; stroke-dashoffset: 0; stroke: #2ca02c; stroke-width: 1.5\"/>\n   </g>\n   <g id=\"line2d_59\">\n    <path d=\"M 34.954394 64.313016 \nL 44.698573 94.313811 \nL 54.442752 104.414375 \nL 64.186931 105.716004 \nL 73.93111 112.759388 \nL 83.675289 113.875221 \nL 93.419468 119.753845 \nL 103.163647 118.844828 \nL 112.907826 124.608061 \nL 122.652006 123.506623 \n\" clip-path=\"url(#p0cb09e3dfd)\" style=\"fill: none; stroke: #1f77b4; stroke-width: 1.5; stroke-linecap: square\"/>\n   </g>\n   <g id=\"line2d_60\">\n    <path d=\"M 49.633125 92.393055 \nL 69.163125 98.295483 \nL 88.693125 103.663098 \nL 108.223125 100.119608 \n\" clip-path=\"url(#p0cb09e3dfd)\" style=\"fill: none; stroke-dasharray: 5.55,2.4; stroke-dashoffset: 0; stroke: #ff7f0e; stroke-width: 1.5\"/>\n   </g>\n   <g id=\"line2d_61\">\n    <path d=\"M 49.633125 20.162708 \nL 69.163125 17.955772 \nL 88.693125 15.148214 \nL 108.223125 16.614852 \n\" clip-path=\"url(#p0cb09e3dfd)\" style=\"fill: none; stroke-dasharray: 9.6,2.4,1.5,2.4; stroke-dashoffset: 0; stroke: #2ca02c; stroke-width: 1.5\"/>\n   </g>\n   <g id=\"line2d_62\">\n    <path d=\"M 34.954394 64.313016 \nL 44.698573 94.313811 \nL 54.442752 104.414375 \nL 64.186931 105.716004 \nL 73.93111 112.759388 \nL 83.675289 113.875221 \nL 93.419468 119.753845 \nL 103.163647 118.844828 \nL 112.907826 124.608061 \nL 122.652006 123.506623 \n\" clip-path=\"url(#p0cb09e3dfd)\" style=\"fill: none; stroke: #1f77b4; stroke-width: 1.5; stroke-linecap: square\"/>\n   </g>\n   <g id=\"line2d_63\">\n    <path d=\"M 49.633125 92.393055 \nL 69.163125 98.295483 \nL 88.693125 103.663098 \nL 108.223125 100.119608 \nL 127.753125 98.333035 \n\" clip-path=\"url(#p0cb09e3dfd)\" style=\"fill: none; stroke-dasharray: 5.55,2.4; stroke-dashoffset: 0; stroke: #ff7f0e; stroke-width: 1.5\"/>\n   </g>\n   <g id=\"line2d_64\">\n    <path d=\"M 49.633125 20.162708 \nL 69.163125 17.955772 \nL 88.693125 15.148214 \nL 108.223125 16.614852 \n\" clip-path=\"url(#p0cb09e3dfd)\" style=\"fill: none; stroke-dasharray: 9.6,2.4,1.5,2.4; stroke-dashoffset: 0; stroke: #2ca02c; stroke-width: 1.5\"/>\n   </g>\n   <g id=\"line2d_65\">\n    <path d=\"M 34.954394 64.313016 \nL 44.698573 94.313811 \nL 54.442752 104.414375 \nL 64.186931 105.716004 \nL 73.93111 112.759388 \nL 83.675289 113.875221 \nL 93.419468 119.753845 \nL 103.163647 118.844828 \nL 112.907826 124.608061 \nL 122.652006 123.506623 \n\" clip-path=\"url(#p0cb09e3dfd)\" style=\"fill: none; stroke: #1f77b4; stroke-width: 1.5; stroke-linecap: square\"/>\n   </g>\n   <g id=\"line2d_66\">\n    <path d=\"M 49.633125 92.393055 \nL 69.163125 98.295483 \nL 88.693125 103.663098 \nL 108.223125 100.119608 \nL 127.753125 98.333035 \n\" clip-path=\"url(#p0cb09e3dfd)\" style=\"fill: none; stroke-dasharray: 5.55,2.4; stroke-dashoffset: 0; stroke: #ff7f0e; stroke-width: 1.5\"/>\n   </g>\n   <g id=\"line2d_67\">\n    <path d=\"M 49.633125 20.162708 \nL 69.163125 17.955772 \nL 88.693125 15.148214 \nL 108.223125 16.614852 \nL 127.753125 16.028197 \n\" clip-path=\"url(#p0cb09e3dfd)\" style=\"fill: none; stroke-dasharray: 9.6,2.4,1.5,2.4; stroke-dashoffset: 0; stroke: #2ca02c; stroke-width: 1.5\"/>\n   </g>\n   <g id=\"line2d_68\">\n    <path d=\"M 34.954394 64.313016 \nL 44.698573 94.313811 \nL 54.442752 104.414375 \nL 64.186931 105.716004 \nL 73.93111 112.759388 \nL 83.675289 113.875221 \nL 93.419468 119.753845 \nL 103.163647 118.844828 \nL 112.907826 124.608061 \nL 122.652006 123.506623 \nL 132.396185 129.285529 \n\" clip-path=\"url(#p0cb09e3dfd)\" style=\"fill: none; stroke: #1f77b4; stroke-width: 1.5; stroke-linecap: square\"/>\n   </g>\n   <g id=\"line2d_69\">\n    <path d=\"M 49.633125 92.393055 \nL 69.163125 98.295483 \nL 88.693125 103.663098 \nL 108.223125 100.119608 \nL 127.753125 98.333035 \n\" clip-path=\"url(#p0cb09e3dfd)\" style=\"fill: none; stroke-dasharray: 5.55,2.4; stroke-dashoffset: 0; stroke: #ff7f0e; stroke-width: 1.5\"/>\n   </g>\n   <g id=\"line2d_70\">\n    <path d=\"M 49.633125 20.162708 \nL 69.163125 17.955772 \nL 88.693125 15.148214 \nL 108.223125 16.614852 \nL 127.753125 16.028197 \n\" clip-path=\"url(#p0cb09e3dfd)\" style=\"fill: none; stroke-dasharray: 9.6,2.4,1.5,2.4; stroke-dashoffset: 0; stroke: #2ca02c; stroke-width: 1.5\"/>\n   </g>\n   <g id=\"line2d_71\">\n    <path d=\"M 34.954394 64.313016 \nL 44.698573 94.313811 \nL 54.442752 104.414375 \nL 64.186931 105.716004 \nL 73.93111 112.759388 \nL 83.675289 113.875221 \nL 93.419468 119.753845 \nL 103.163647 118.844828 \nL 112.907826 124.608061 \nL 122.652006 123.506623 \nL 132.396185 129.285529 \nL 142.140364 127.915747 \n\" clip-path=\"url(#p0cb09e3dfd)\" style=\"fill: none; stroke: #1f77b4; stroke-width: 1.5; stroke-linecap: square\"/>\n   </g>\n   <g id=\"line2d_72\">\n    <path d=\"M 49.633125 92.393055 \nL 69.163125 98.295483 \nL 88.693125 103.663098 \nL 108.223125 100.119608 \nL 127.753125 98.333035 \n\" clip-path=\"url(#p0cb09e3dfd)\" style=\"fill: none; stroke-dasharray: 5.55,2.4; stroke-dashoffset: 0; stroke: #ff7f0e; stroke-width: 1.5\"/>\n   </g>\n   <g id=\"line2d_73\">\n    <path d=\"M 49.633125 20.162708 \nL 69.163125 17.955772 \nL 88.693125 15.148214 \nL 108.223125 16.614852 \nL 127.753125 16.028197 \n\" clip-path=\"url(#p0cb09e3dfd)\" style=\"fill: none; stroke-dasharray: 9.6,2.4,1.5,2.4; stroke-dashoffset: 0; stroke: #2ca02c; stroke-width: 1.5\"/>\n   </g>\n   <g id=\"line2d_74\">\n    <path d=\"M 34.954394 64.313016 \nL 44.698573 94.313811 \nL 54.442752 104.414375 \nL 64.186931 105.716004 \nL 73.93111 112.759388 \nL 83.675289 113.875221 \nL 93.419468 119.753845 \nL 103.163647 118.844828 \nL 112.907826 124.608061 \nL 122.652006 123.506623 \nL 132.396185 129.285529 \nL 142.140364 127.915747 \n\" clip-path=\"url(#p0cb09e3dfd)\" style=\"fill: none; stroke: #1f77b4; stroke-width: 1.5; stroke-linecap: square\"/>\n   </g>\n   <g id=\"line2d_75\">\n    <path d=\"M 49.633125 92.393055 \nL 69.163125 98.295483 \nL 88.693125 103.663098 \nL 108.223125 100.119608 \nL 127.753125 98.333035 \nL 147.283125 101.635836 \n\" clip-path=\"url(#p0cb09e3dfd)\" style=\"fill: none; stroke-dasharray: 5.55,2.4; stroke-dashoffset: 0; stroke: #ff7f0e; stroke-width: 1.5\"/>\n   </g>\n   <g id=\"line2d_76\">\n    <path d=\"M 49.633125 20.162708 \nL 69.163125 17.955772 \nL 88.693125 15.148214 \nL 108.223125 16.614852 \nL 127.753125 16.028197 \n\" clip-path=\"url(#p0cb09e3dfd)\" style=\"fill: none; stroke-dasharray: 9.6,2.4,1.5,2.4; stroke-dashoffset: 0; stroke: #2ca02c; stroke-width: 1.5\"/>\n   </g>\n   <g id=\"line2d_77\">\n    <path d=\"M 34.954394 64.313016 \nL 44.698573 94.313811 \nL 54.442752 104.414375 \nL 64.186931 105.716004 \nL 73.93111 112.759388 \nL 83.675289 113.875221 \nL 93.419468 119.753845 \nL 103.163647 118.844828 \nL 112.907826 124.608061 \nL 122.652006 123.506623 \nL 132.396185 129.285529 \nL 142.140364 127.915747 \n\" clip-path=\"url(#p0cb09e3dfd)\" style=\"fill: none; stroke: #1f77b4; stroke-width: 1.5; stroke-linecap: square\"/>\n   </g>\n   <g id=\"line2d_78\">\n    <path d=\"M 49.633125 92.393055 \nL 69.163125 98.295483 \nL 88.693125 103.663098 \nL 108.223125 100.119608 \nL 127.753125 98.333035 \nL 147.283125 101.635836 \n\" clip-path=\"url(#p0cb09e3dfd)\" style=\"fill: none; stroke-dasharray: 5.55,2.4; stroke-dashoffset: 0; stroke: #ff7f0e; stroke-width: 1.5\"/>\n   </g>\n   <g id=\"line2d_79\">\n    <path d=\"M 49.633125 20.162708 \nL 69.163125 17.955772 \nL 88.693125 15.148214 \nL 108.223125 16.614852 \nL 127.753125 16.028197 \nL 147.283125 15.008538 \n\" clip-path=\"url(#p0cb09e3dfd)\" style=\"fill: none; stroke-dasharray: 9.6,2.4,1.5,2.4; stroke-dashoffset: 0; stroke: #2ca02c; stroke-width: 1.5\"/>\n   </g>\n   <g id=\"line2d_80\">\n    <path d=\"M 34.954394 64.313016 \nL 44.698573 94.313811 \nL 54.442752 104.414375 \nL 64.186931 105.716004 \nL 73.93111 112.759388 \nL 83.675289 113.875221 \nL 93.419468 119.753845 \nL 103.163647 118.844828 \nL 112.907826 124.608061 \nL 122.652006 123.506623 \nL 132.396185 129.285529 \nL 142.140364 127.915747 \nL 151.884543 133.251276 \n\" clip-path=\"url(#p0cb09e3dfd)\" style=\"fill: none; stroke: #1f77b4; stroke-width: 1.5; stroke-linecap: square\"/>\n   </g>\n   <g id=\"line2d_81\">\n    <path d=\"M 49.633125 92.393055 \nL 69.163125 98.295483 \nL 88.693125 103.663098 \nL 108.223125 100.119608 \nL 127.753125 98.333035 \nL 147.283125 101.635836 \n\" clip-path=\"url(#p0cb09e3dfd)\" style=\"fill: none; stroke-dasharray: 5.55,2.4; stroke-dashoffset: 0; stroke: #ff7f0e; stroke-width: 1.5\"/>\n   </g>\n   <g id=\"line2d_82\">\n    <path d=\"M 49.633125 20.162708 \nL 69.163125 17.955772 \nL 88.693125 15.148214 \nL 108.223125 16.614852 \nL 127.753125 16.028197 \nL 147.283125 15.008538 \n\" clip-path=\"url(#p0cb09e3dfd)\" style=\"fill: none; stroke-dasharray: 9.6,2.4,1.5,2.4; stroke-dashoffset: 0; stroke: #2ca02c; stroke-width: 1.5\"/>\n   </g>\n   <g id=\"line2d_83\">\n    <path d=\"M 34.954394 64.313016 \nL 44.698573 94.313811 \nL 54.442752 104.414375 \nL 64.186931 105.716004 \nL 73.93111 112.759388 \nL 83.675289 113.875221 \nL 93.419468 119.753845 \nL 103.163647 118.844828 \nL 112.907826 124.608061 \nL 122.652006 123.506623 \nL 132.396185 129.285529 \nL 142.140364 127.915747 \nL 151.884543 133.251276 \nL 161.628722 131.573461 \n\" clip-path=\"url(#p0cb09e3dfd)\" style=\"fill: none; stroke: #1f77b4; stroke-width: 1.5; stroke-linecap: square\"/>\n   </g>\n   <g id=\"line2d_84\">\n    <path d=\"M 49.633125 92.393055 \nL 69.163125 98.295483 \nL 88.693125 103.663098 \nL 108.223125 100.119608 \nL 127.753125 98.333035 \nL 147.283125 101.635836 \n\" clip-path=\"url(#p0cb09e3dfd)\" style=\"fill: none; stroke-dasharray: 5.55,2.4; stroke-dashoffset: 0; stroke: #ff7f0e; stroke-width: 1.5\"/>\n   </g>\n   <g id=\"line2d_85\">\n    <path d=\"M 49.633125 20.162708 \nL 69.163125 17.955772 \nL 88.693125 15.148214 \nL 108.223125 16.614852 \nL 127.753125 16.028197 \nL 147.283125 15.008538 \n\" clip-path=\"url(#p0cb09e3dfd)\" style=\"fill: none; stroke-dasharray: 9.6,2.4,1.5,2.4; stroke-dashoffset: 0; stroke: #2ca02c; stroke-width: 1.5\"/>\n   </g>\n   <g id=\"line2d_86\">\n    <path d=\"M 34.954394 64.313016 \nL 44.698573 94.313811 \nL 54.442752 104.414375 \nL 64.186931 105.716004 \nL 73.93111 112.759388 \nL 83.675289 113.875221 \nL 93.419468 119.753845 \nL 103.163647 118.844828 \nL 112.907826 124.608061 \nL 122.652006 123.506623 \nL 132.396185 129.285529 \nL 142.140364 127.915747 \nL 151.884543 133.251276 \nL 161.628722 131.573461 \n\" clip-path=\"url(#p0cb09e3dfd)\" style=\"fill: none; stroke: #1f77b4; stroke-width: 1.5; stroke-linecap: square\"/>\n   </g>\n   <g id=\"line2d_87\">\n    <path d=\"M 49.633125 92.393055 \nL 69.163125 98.295483 \nL 88.693125 103.663098 \nL 108.223125 100.119608 \nL 127.753125 98.333035 \nL 147.283125 101.635836 \nL 166.813125 101.899084 \n\" clip-path=\"url(#p0cb09e3dfd)\" style=\"fill: none; stroke-dasharray: 5.55,2.4; stroke-dashoffset: 0; stroke: #ff7f0e; stroke-width: 1.5\"/>\n   </g>\n   <g id=\"line2d_88\">\n    <path d=\"M 49.633125 20.162708 \nL 69.163125 17.955772 \nL 88.693125 15.148214 \nL 108.223125 16.614852 \nL 127.753125 16.028197 \nL 147.283125 15.008538 \n\" clip-path=\"url(#p0cb09e3dfd)\" style=\"fill: none; stroke-dasharray: 9.6,2.4,1.5,2.4; stroke-dashoffset: 0; stroke: #2ca02c; stroke-width: 1.5\"/>\n   </g>\n   <g id=\"line2d_89\">\n    <path d=\"M 34.954394 64.313016 \nL 44.698573 94.313811 \nL 54.442752 104.414375 \nL 64.186931 105.716004 \nL 73.93111 112.759388 \nL 83.675289 113.875221 \nL 93.419468 119.753845 \nL 103.163647 118.844828 \nL 112.907826 124.608061 \nL 122.652006 123.506623 \nL 132.396185 129.285529 \nL 142.140364 127.915747 \nL 151.884543 133.251276 \nL 161.628722 131.573461 \n\" clip-path=\"url(#p0cb09e3dfd)\" style=\"fill: none; stroke: #1f77b4; stroke-width: 1.5; stroke-linecap: square\"/>\n   </g>\n   <g id=\"line2d_90\">\n    <path d=\"M 49.633125 92.393055 \nL 69.163125 98.295483 \nL 88.693125 103.663098 \nL 108.223125 100.119608 \nL 127.753125 98.333035 \nL 147.283125 101.635836 \nL 166.813125 101.899084 \n\" clip-path=\"url(#p0cb09e3dfd)\" style=\"fill: none; stroke-dasharray: 5.55,2.4; stroke-dashoffset: 0; stroke: #ff7f0e; stroke-width: 1.5\"/>\n   </g>\n   <g id=\"line2d_91\">\n    <path d=\"M 49.633125 20.162708 \nL 69.163125 17.955772 \nL 88.693125 15.148214 \nL 108.223125 16.614852 \nL 127.753125 16.028197 \nL 147.283125 15.008538 \nL 166.813125 14.79902 \n\" clip-path=\"url(#p0cb09e3dfd)\" style=\"fill: none; stroke-dasharray: 9.6,2.4,1.5,2.4; stroke-dashoffset: 0; stroke: #2ca02c; stroke-width: 1.5\"/>\n   </g>\n   <g id=\"line2d_92\">\n    <path d=\"M 34.954394 64.313016 \nL 44.698573 94.313811 \nL 54.442752 104.414375 \nL 64.186931 105.716004 \nL 73.93111 112.759388 \nL 83.675289 113.875221 \nL 93.419468 119.753845 \nL 103.163647 118.844828 \nL 112.907826 124.608061 \nL 122.652006 123.506623 \nL 132.396185 129.285529 \nL 142.140364 127.915747 \nL 151.884543 133.251276 \nL 161.628722 131.573461 \nL 171.372901 135.631942 \n\" clip-path=\"url(#p0cb09e3dfd)\" style=\"fill: none; stroke: #1f77b4; stroke-width: 1.5; stroke-linecap: square\"/>\n   </g>\n   <g id=\"line2d_93\">\n    <path d=\"M 49.633125 92.393055 \nL 69.163125 98.295483 \nL 88.693125 103.663098 \nL 108.223125 100.119608 \nL 127.753125 98.333035 \nL 147.283125 101.635836 \nL 166.813125 101.899084 \n\" clip-path=\"url(#p0cb09e3dfd)\" style=\"fill: none; stroke-dasharray: 5.55,2.4; stroke-dashoffset: 0; stroke: #ff7f0e; stroke-width: 1.5\"/>\n   </g>\n   <g id=\"line2d_94\">\n    <path d=\"M 49.633125 20.162708 \nL 69.163125 17.955772 \nL 88.693125 15.148214 \nL 108.223125 16.614852 \nL 127.753125 16.028197 \nL 147.283125 15.008538 \nL 166.813125 14.79902 \n\" clip-path=\"url(#p0cb09e3dfd)\" style=\"fill: none; stroke-dasharray: 9.6,2.4,1.5,2.4; stroke-dashoffset: 0; stroke: #2ca02c; stroke-width: 1.5\"/>\n   </g>\n   <g id=\"line2d_95\">\n    <path d=\"M 34.954394 64.313016 \nL 44.698573 94.313811 \nL 54.442752 104.414375 \nL 64.186931 105.716004 \nL 73.93111 112.759388 \nL 83.675289 113.875221 \nL 93.419468 119.753845 \nL 103.163647 118.844828 \nL 112.907826 124.608061 \nL 122.652006 123.506623 \nL 132.396185 129.285529 \nL 142.140364 127.915747 \nL 151.884543 133.251276 \nL 161.628722 131.573461 \nL 171.372901 135.631942 \nL 181.11708 134.074462 \n\" clip-path=\"url(#p0cb09e3dfd)\" style=\"fill: none; stroke: #1f77b4; stroke-width: 1.5; stroke-linecap: square\"/>\n   </g>\n   <g id=\"line2d_96\">\n    <path d=\"M 49.633125 92.393055 \nL 69.163125 98.295483 \nL 88.693125 103.663098 \nL 108.223125 100.119608 \nL 127.753125 98.333035 \nL 147.283125 101.635836 \nL 166.813125 101.899084 \n\" clip-path=\"url(#p0cb09e3dfd)\" style=\"fill: none; stroke-dasharray: 5.55,2.4; stroke-dashoffset: 0; stroke: #ff7f0e; stroke-width: 1.5\"/>\n   </g>\n   <g id=\"line2d_97\">\n    <path d=\"M 49.633125 20.162708 \nL 69.163125 17.955772 \nL 88.693125 15.148214 \nL 108.223125 16.614852 \nL 127.753125 16.028197 \nL 147.283125 15.008538 \nL 166.813125 14.79902 \n\" clip-path=\"url(#p0cb09e3dfd)\" style=\"fill: none; stroke-dasharray: 9.6,2.4,1.5,2.4; stroke-dashoffset: 0; stroke: #2ca02c; stroke-width: 1.5\"/>\n   </g>\n   <g id=\"line2d_98\">\n    <path d=\"M 34.954394 64.313016 \nL 44.698573 94.313811 \nL 54.442752 104.414375 \nL 64.186931 105.716004 \nL 73.93111 112.759388 \nL 83.675289 113.875221 \nL 93.419468 119.753845 \nL 103.163647 118.844828 \nL 112.907826 124.608061 \nL 122.652006 123.506623 \nL 132.396185 129.285529 \nL 142.140364 127.915747 \nL 151.884543 133.251276 \nL 161.628722 131.573461 \nL 171.372901 135.631942 \nL 181.11708 134.074462 \n\" clip-path=\"url(#p0cb09e3dfd)\" style=\"fill: none; stroke: #1f77b4; stroke-width: 1.5; stroke-linecap: square\"/>\n   </g>\n   <g id=\"line2d_99\">\n    <path d=\"M 49.633125 92.393055 \nL 69.163125 98.295483 \nL 88.693125 103.663098 \nL 108.223125 100.119608 \nL 127.753125 98.333035 \nL 147.283125 101.635836 \nL 166.813125 101.899084 \nL 186.343125 98.178167 \n\" clip-path=\"url(#p0cb09e3dfd)\" style=\"fill: none; stroke-dasharray: 5.55,2.4; stroke-dashoffset: 0; stroke: #ff7f0e; stroke-width: 1.5\"/>\n   </g>\n   <g id=\"line2d_100\">\n    <path d=\"M 49.633125 20.162708 \nL 69.163125 17.955772 \nL 88.693125 15.148214 \nL 108.223125 16.614852 \nL 127.753125 16.028197 \nL 147.283125 15.008538 \nL 166.813125 14.79902 \n\" clip-path=\"url(#p0cb09e3dfd)\" style=\"fill: none; stroke-dasharray: 9.6,2.4,1.5,2.4; stroke-dashoffset: 0; stroke: #2ca02c; stroke-width: 1.5\"/>\n   </g>\n   <g id=\"line2d_101\">\n    <path d=\"M 34.954394 64.313016 \nL 44.698573 94.313811 \nL 54.442752 104.414375 \nL 64.186931 105.716004 \nL 73.93111 112.759388 \nL 83.675289 113.875221 \nL 93.419468 119.753845 \nL 103.163647 118.844828 \nL 112.907826 124.608061 \nL 122.652006 123.506623 \nL 132.396185 129.285529 \nL 142.140364 127.915747 \nL 151.884543 133.251276 \nL 161.628722 131.573461 \nL 171.372901 135.631942 \nL 181.11708 134.074462 \n\" clip-path=\"url(#p0cb09e3dfd)\" style=\"fill: none; stroke: #1f77b4; stroke-width: 1.5; stroke-linecap: square\"/>\n   </g>\n   <g id=\"line2d_102\">\n    <path d=\"M 49.633125 92.393055 \nL 69.163125 98.295483 \nL 88.693125 103.663098 \nL 108.223125 100.119608 \nL 127.753125 98.333035 \nL 147.283125 101.635836 \nL 166.813125 101.899084 \nL 186.343125 98.178167 \n\" clip-path=\"url(#p0cb09e3dfd)\" style=\"fill: none; stroke-dasharray: 5.55,2.4; stroke-dashoffset: 0; stroke: #ff7f0e; stroke-width: 1.5\"/>\n   </g>\n   <g id=\"line2d_103\">\n    <path d=\"M 49.633125 20.162708 \nL 69.163125 17.955772 \nL 88.693125 15.148214 \nL 108.223125 16.614852 \nL 127.753125 16.028197 \nL 147.283125 15.008538 \nL 166.813125 14.79902 \nL 186.343125 14.366007 \n\" clip-path=\"url(#p0cb09e3dfd)\" style=\"fill: none; stroke-dasharray: 9.6,2.4,1.5,2.4; stroke-dashoffset: 0; stroke: #2ca02c; stroke-width: 1.5\"/>\n   </g>\n   <g id=\"line2d_104\">\n    <path d=\"M 34.954394 64.313016 \nL 44.698573 94.313811 \nL 54.442752 104.414375 \nL 64.186931 105.716004 \nL 73.93111 112.759388 \nL 83.675289 113.875221 \nL 93.419468 119.753845 \nL 103.163647 118.844828 \nL 112.907826 124.608061 \nL 122.652006 123.506623 \nL 132.396185 129.285529 \nL 142.140364 127.915747 \nL 151.884543 133.251276 \nL 161.628722 131.573461 \nL 171.372901 135.631942 \nL 181.11708 134.074462 \nL 190.861259 137.84553 \n\" clip-path=\"url(#p0cb09e3dfd)\" style=\"fill: none; stroke: #1f77b4; stroke-width: 1.5; stroke-linecap: square\"/>\n   </g>\n   <g id=\"line2d_105\">\n    <path d=\"M 49.633125 92.393055 \nL 69.163125 98.295483 \nL 88.693125 103.663098 \nL 108.223125 100.119608 \nL 127.753125 98.333035 \nL 147.283125 101.635836 \nL 166.813125 101.899084 \nL 186.343125 98.178167 \n\" clip-path=\"url(#p0cb09e3dfd)\" style=\"fill: none; stroke-dasharray: 5.55,2.4; stroke-dashoffset: 0; stroke: #ff7f0e; stroke-width: 1.5\"/>\n   </g>\n   <g id=\"line2d_106\">\n    <path d=\"M 49.633125 20.162708 \nL 69.163125 17.955772 \nL 88.693125 15.148214 \nL 108.223125 16.614852 \nL 127.753125 16.028197 \nL 147.283125 15.008538 \nL 166.813125 14.79902 \nL 186.343125 14.366007 \n\" clip-path=\"url(#p0cb09e3dfd)\" style=\"fill: none; stroke-dasharray: 9.6,2.4,1.5,2.4; stroke-dashoffset: 0; stroke: #2ca02c; stroke-width: 1.5\"/>\n   </g>\n   <g id=\"line2d_107\">\n    <path d=\"M 34.954394 64.313016 \nL 44.698573 94.313811 \nL 54.442752 104.414375 \nL 64.186931 105.716004 \nL 73.93111 112.759388 \nL 83.675289 113.875221 \nL 93.419468 119.753845 \nL 103.163647 118.844828 \nL 112.907826 124.608061 \nL 122.652006 123.506623 \nL 132.396185 129.285529 \nL 142.140364 127.915747 \nL 151.884543 133.251276 \nL 161.628722 131.573461 \nL 171.372901 135.631942 \nL 181.11708 134.074462 \nL 190.861259 137.84553 \nL 200.605438 137.705266 \n\" clip-path=\"url(#p0cb09e3dfd)\" style=\"fill: none; stroke: #1f77b4; stroke-width: 1.5; stroke-linecap: square\"/>\n   </g>\n   <g id=\"line2d_108\">\n    <path d=\"M 49.633125 92.393055 \nL 69.163125 98.295483 \nL 88.693125 103.663098 \nL 108.223125 100.119608 \nL 127.753125 98.333035 \nL 147.283125 101.635836 \nL 166.813125 101.899084 \nL 186.343125 98.178167 \n\" clip-path=\"url(#p0cb09e3dfd)\" style=\"fill: none; stroke-dasharray: 5.55,2.4; stroke-dashoffset: 0; stroke: #ff7f0e; stroke-width: 1.5\"/>\n   </g>\n   <g id=\"line2d_109\">\n    <path d=\"M 49.633125 20.162708 \nL 69.163125 17.955772 \nL 88.693125 15.148214 \nL 108.223125 16.614852 \nL 127.753125 16.028197 \nL 147.283125 15.008538 \nL 166.813125 14.79902 \nL 186.343125 14.366007 \n\" clip-path=\"url(#p0cb09e3dfd)\" style=\"fill: none; stroke-dasharray: 9.6,2.4,1.5,2.4; stroke-dashoffset: 0; stroke: #2ca02c; stroke-width: 1.5\"/>\n   </g>\n   <g id=\"line2d_110\">\n    <path d=\"M 34.954394 64.313016 \nL 44.698573 94.313811 \nL 54.442752 104.414375 \nL 64.186931 105.716004 \nL 73.93111 112.759388 \nL 83.675289 113.875221 \nL 93.419468 119.753845 \nL 103.163647 118.844828 \nL 112.907826 124.608061 \nL 122.652006 123.506623 \nL 132.396185 129.285529 \nL 142.140364 127.915747 \nL 151.884543 133.251276 \nL 161.628722 131.573461 \nL 171.372901 135.631942 \nL 181.11708 134.074462 \nL 190.861259 137.84553 \nL 200.605438 137.705266 \n\" clip-path=\"url(#p0cb09e3dfd)\" style=\"fill: none; stroke: #1f77b4; stroke-width: 1.5; stroke-linecap: square\"/>\n   </g>\n   <g id=\"line2d_111\">\n    <path d=\"M 49.633125 92.393055 \nL 69.163125 98.295483 \nL 88.693125 103.663098 \nL 108.223125 100.119608 \nL 127.753125 98.333035 \nL 147.283125 101.635836 \nL 166.813125 101.899084 \nL 186.343125 98.178167 \nL 205.873125 100.198079 \n\" clip-path=\"url(#p0cb09e3dfd)\" style=\"fill: none; stroke-dasharray: 5.55,2.4; stroke-dashoffset: 0; stroke: #ff7f0e; stroke-width: 1.5\"/>\n   </g>\n   <g id=\"line2d_112\">\n    <path d=\"M 49.633125 20.162708 \nL 69.163125 17.955772 \nL 88.693125 15.148214 \nL 108.223125 16.614852 \nL 127.753125 16.028197 \nL 147.283125 15.008538 \nL 166.813125 14.79902 \nL 186.343125 14.366007 \n\" clip-path=\"url(#p0cb09e3dfd)\" style=\"fill: none; stroke-dasharray: 9.6,2.4,1.5,2.4; stroke-dashoffset: 0; stroke: #2ca02c; stroke-width: 1.5\"/>\n   </g>\n   <g id=\"line2d_113\">\n    <path d=\"M 34.954394 64.313016 \nL 44.698573 94.313811 \nL 54.442752 104.414375 \nL 64.186931 105.716004 \nL 73.93111 112.759388 \nL 83.675289 113.875221 \nL 93.419468 119.753845 \nL 103.163647 118.844828 \nL 112.907826 124.608061 \nL 122.652006 123.506623 \nL 132.396185 129.285529 \nL 142.140364 127.915747 \nL 151.884543 133.251276 \nL 161.628722 131.573461 \nL 171.372901 135.631942 \nL 181.11708 134.074462 \nL 190.861259 137.84553 \nL 200.605438 137.705266 \n\" clip-path=\"url(#p0cb09e3dfd)\" style=\"fill: none; stroke: #1f77b4; stroke-width: 1.5; stroke-linecap: square\"/>\n   </g>\n   <g id=\"line2d_114\">\n    <path d=\"M 49.633125 92.393055 \nL 69.163125 98.295483 \nL 88.693125 103.663098 \nL 108.223125 100.119608 \nL 127.753125 98.333035 \nL 147.283125 101.635836 \nL 166.813125 101.899084 \nL 186.343125 98.178167 \nL 205.873125 100.198079 \n\" clip-path=\"url(#p0cb09e3dfd)\" style=\"fill: none; stroke-dasharray: 5.55,2.4; stroke-dashoffset: 0; stroke: #ff7f0e; stroke-width: 1.5\"/>\n   </g>\n   <g id=\"line2d_115\">\n    <path d=\"M 49.633125 20.162708 \nL 69.163125 17.955772 \nL 88.693125 15.148214 \nL 108.223125 16.614852 \nL 127.753125 16.028197 \nL 147.283125 15.008538 \nL 166.813125 14.79902 \nL 186.343125 14.366007 \nL 205.873125 13.681577 \n\" clip-path=\"url(#p0cb09e3dfd)\" style=\"fill: none; stroke-dasharray: 9.6,2.4,1.5,2.4; stroke-dashoffset: 0; stroke: #2ca02c; stroke-width: 1.5\"/>\n   </g>\n   <g id=\"line2d_116\">\n    <path d=\"M 34.954394 64.313016 \nL 44.698573 94.313811 \nL 54.442752 104.414375 \nL 64.186931 105.716004 \nL 73.93111 112.759388 \nL 83.675289 113.875221 \nL 93.419468 119.753845 \nL 103.163647 118.844828 \nL 112.907826 124.608061 \nL 122.652006 123.506623 \nL 132.396185 129.285529 \nL 142.140364 127.915747 \nL 151.884543 133.251276 \nL 161.628722 131.573461 \nL 171.372901 135.631942 \nL 181.11708 134.074462 \nL 190.861259 137.84553 \nL 200.605438 137.705266 \nL 210.349618 139.5 \n\" clip-path=\"url(#p0cb09e3dfd)\" style=\"fill: none; stroke: #1f77b4; stroke-width: 1.5; stroke-linecap: square\"/>\n   </g>\n   <g id=\"line2d_117\">\n    <path d=\"M 49.633125 92.393055 \nL 69.163125 98.295483 \nL 88.693125 103.663098 \nL 108.223125 100.119608 \nL 127.753125 98.333035 \nL 147.283125 101.635836 \nL 166.813125 101.899084 \nL 186.343125 98.178167 \nL 205.873125 100.198079 \n\" clip-path=\"url(#p0cb09e3dfd)\" style=\"fill: none; stroke-dasharray: 5.55,2.4; stroke-dashoffset: 0; stroke: #ff7f0e; stroke-width: 1.5\"/>\n   </g>\n   <g id=\"line2d_118\">\n    <path d=\"M 49.633125 20.162708 \nL 69.163125 17.955772 \nL 88.693125 15.148214 \nL 108.223125 16.614852 \nL 127.753125 16.028197 \nL 147.283125 15.008538 \nL 166.813125 14.79902 \nL 186.343125 14.366007 \nL 205.873125 13.681577 \n\" clip-path=\"url(#p0cb09e3dfd)\" style=\"fill: none; stroke-dasharray: 9.6,2.4,1.5,2.4; stroke-dashoffset: 0; stroke: #2ca02c; stroke-width: 1.5\"/>\n   </g>\n   <g id=\"line2d_119\">\n    <path d=\"M 34.954394 64.313016 \nL 44.698573 94.313811 \nL 54.442752 104.414375 \nL 64.186931 105.716004 \nL 73.93111 112.759388 \nL 83.675289 113.875221 \nL 93.419468 119.753845 \nL 103.163647 118.844828 \nL 112.907826 124.608061 \nL 122.652006 123.506623 \nL 132.396185 129.285529 \nL 142.140364 127.915747 \nL 151.884543 133.251276 \nL 161.628722 131.573461 \nL 171.372901 135.631942 \nL 181.11708 134.074462 \nL 190.861259 137.84553 \nL 200.605438 137.705266 \nL 210.349618 139.5 \nL 220.093797 138.743128 \n\" clip-path=\"url(#p0cb09e3dfd)\" style=\"fill: none; stroke: #1f77b4; stroke-width: 1.5; stroke-linecap: square\"/>\n   </g>\n   <g id=\"line2d_120\">\n    <path d=\"M 49.633125 92.393055 \nL 69.163125 98.295483 \nL 88.693125 103.663098 \nL 108.223125 100.119608 \nL 127.753125 98.333035 \nL 147.283125 101.635836 \nL 166.813125 101.899084 \nL 186.343125 98.178167 \nL 205.873125 100.198079 \n\" clip-path=\"url(#p0cb09e3dfd)\" style=\"fill: none; stroke-dasharray: 5.55,2.4; stroke-dashoffset: 0; stroke: #ff7f0e; stroke-width: 1.5\"/>\n   </g>\n   <g id=\"line2d_121\">\n    <path d=\"M 49.633125 20.162708 \nL 69.163125 17.955772 \nL 88.693125 15.148214 \nL 108.223125 16.614852 \nL 127.753125 16.028197 \nL 147.283125 15.008538 \nL 166.813125 14.79902 \nL 186.343125 14.366007 \nL 205.873125 13.681577 \n\" clip-path=\"url(#p0cb09e3dfd)\" style=\"fill: none; stroke-dasharray: 9.6,2.4,1.5,2.4; stroke-dashoffset: 0; stroke: #2ca02c; stroke-width: 1.5\"/>\n   </g>\n   <g id=\"line2d_122\">\n    <path d=\"M 34.954394 64.313016 \nL 44.698573 94.313811 \nL 54.442752 104.414375 \nL 64.186931 105.716004 \nL 73.93111 112.759388 \nL 83.675289 113.875221 \nL 93.419468 119.753845 \nL 103.163647 118.844828 \nL 112.907826 124.608061 \nL 122.652006 123.506623 \nL 132.396185 129.285529 \nL 142.140364 127.915747 \nL 151.884543 133.251276 \nL 161.628722 131.573461 \nL 171.372901 135.631942 \nL 181.11708 134.074462 \nL 190.861259 137.84553 \nL 200.605438 137.705266 \nL 210.349618 139.5 \nL 220.093797 138.743128 \n\" clip-path=\"url(#p0cb09e3dfd)\" style=\"fill: none; stroke: #1f77b4; stroke-width: 1.5; stroke-linecap: square\"/>\n   </g>\n   <g id=\"line2d_123\">\n    <path d=\"M 49.633125 92.393055 \nL 69.163125 98.295483 \nL 88.693125 103.663098 \nL 108.223125 100.119608 \nL 127.753125 98.333035 \nL 147.283125 101.635836 \nL 166.813125 101.899084 \nL 186.343125 98.178167 \nL 205.873125 100.198079 \nL 225.403125 99.474089 \n\" clip-path=\"url(#p0cb09e3dfd)\" style=\"fill: none; stroke-dasharray: 5.55,2.4; stroke-dashoffset: 0; stroke: #ff7f0e; stroke-width: 1.5\"/>\n   </g>\n   <g id=\"line2d_124\">\n    <path d=\"M 49.633125 20.162708 \nL 69.163125 17.955772 \nL 88.693125 15.148214 \nL 108.223125 16.614852 \nL 127.753125 16.028197 \nL 147.283125 15.008538 \nL 166.813125 14.79902 \nL 186.343125 14.366007 \nL 205.873125 13.681577 \n\" clip-path=\"url(#p0cb09e3dfd)\" style=\"fill: none; stroke-dasharray: 9.6,2.4,1.5,2.4; stroke-dashoffset: 0; stroke: #2ca02c; stroke-width: 1.5\"/>\n   </g>\n   <g id=\"line2d_125\">\n    <path d=\"M 34.954394 64.313016 \nL 44.698573 94.313811 \nL 54.442752 104.414375 \nL 64.186931 105.716004 \nL 73.93111 112.759388 \nL 83.675289 113.875221 \nL 93.419468 119.753845 \nL 103.163647 118.844828 \nL 112.907826 124.608061 \nL 122.652006 123.506623 \nL 132.396185 129.285529 \nL 142.140364 127.915747 \nL 151.884543 133.251276 \nL 161.628722 131.573461 \nL 171.372901 135.631942 \nL 181.11708 134.074462 \nL 190.861259 137.84553 \nL 200.605438 137.705266 \nL 210.349618 139.5 \nL 220.093797 138.743128 \n\" clip-path=\"url(#p0cb09e3dfd)\" style=\"fill: none; stroke: #1f77b4; stroke-width: 1.5; stroke-linecap: square\"/>\n   </g>\n   <g id=\"line2d_126\">\n    <path d=\"M 49.633125 92.393055 \nL 69.163125 98.295483 \nL 88.693125 103.663098 \nL 108.223125 100.119608 \nL 127.753125 98.333035 \nL 147.283125 101.635836 \nL 166.813125 101.899084 \nL 186.343125 98.178167 \nL 205.873125 100.198079 \nL 225.403125 99.474089 \n\" clip-path=\"url(#p0cb09e3dfd)\" style=\"fill: none; stroke-dasharray: 5.55,2.4; stroke-dashoffset: 0; stroke: #ff7f0e; stroke-width: 1.5\"/>\n   </g>\n   <g id=\"line2d_127\">\n    <path d=\"M 49.633125 20.162708 \nL 69.163125 17.955772 \nL 88.693125 15.148214 \nL 108.223125 16.614852 \nL 127.753125 16.028197 \nL 147.283125 15.008538 \nL 166.813125 14.79902 \nL 186.343125 14.366007 \nL 205.873125 13.681577 \nL 225.403125 13.5 \n\" clip-path=\"url(#p0cb09e3dfd)\" style=\"fill: none; stroke-dasharray: 9.6,2.4,1.5,2.4; stroke-dashoffset: 0; stroke: #2ca02c; stroke-width: 1.5\"/>\n   </g>\n   <g id=\"patch_3\">\n    <path d=\"M 30.103125 145.8 \nL 30.103125 7.2 \n\" style=\"fill: none; stroke: #000000; stroke-width: 0.8; stroke-linejoin: miter; stroke-linecap: square\"/>\n   </g>\n   <g id=\"patch_4\">\n    <path d=\"M 225.403125 145.8 \nL 225.403125 7.2 \n\" style=\"fill: none; stroke: #000000; stroke-width: 0.8; stroke-linejoin: miter; stroke-linecap: square\"/>\n   </g>\n   <g id=\"patch_5\">\n    <path d=\"M 30.103125 145.8 \nL 225.403125 145.8 \n\" style=\"fill: none; stroke: #000000; stroke-width: 0.8; stroke-linejoin: miter; stroke-linecap: square\"/>\n   </g>\n   <g id=\"patch_6\">\n    <path d=\"M 30.103125 7.2 \nL 225.403125 7.2 \n\" style=\"fill: none; stroke: #000000; stroke-width: 0.8; stroke-linejoin: miter; stroke-linecap: square\"/>\n   </g>\n   <g id=\"legend_1\">\n    <g id=\"patch_7\">\n     <path d=\"M 138.8125 100.434375 \nL 218.403125 100.434375 \nQ 220.403125 100.434375 220.403125 98.434375 \nL 220.403125 54.565625 \nQ 220.403125 52.565625 218.403125 52.565625 \nL 138.8125 52.565625 \nQ 136.8125 52.565625 136.8125 54.565625 \nL 136.8125 98.434375 \nQ 136.8125 100.434375 138.8125 100.434375 \nz\n\" style=\"fill: #ffffff; opacity: 0.8; stroke: #cccccc; stroke-linejoin: miter\"/>\n    </g>\n    <g id=\"line2d_128\">\n     <path d=\"M 140.8125 60.664063 \nL 150.8125 60.664063 \nL 160.8125 60.664063 \n\" style=\"fill: none; stroke: #1f77b4; stroke-width: 1.5; stroke-linecap: square\"/>\n    </g>\n    <g id=\"text_13\">\n     <!-- train_loss -->\n     <g transform=\"translate(168.8125 64.164063) scale(0.1 -0.1)\">\n      <defs>\n       <path id=\"DejaVuSans-74\" d=\"M 1172 4494 \nL 1172 3500 \nL 2356 3500 \nL 2356 3053 \nL 1172 3053 \nL 1172 1153 \nQ 1172 725 1289 603 \nQ 1406 481 1766 481 \nL 2356 481 \nL 2356 0 \nL 1766 0 \nQ 1100 0 847 248 \nQ 594 497 594 1153 \nL 594 3053 \nL 172 3053 \nL 172 3500 \nL 594 3500 \nL 594 4494 \nL 1172 4494 \nz\n\" transform=\"scale(0.015625)\"/>\n       <path id=\"DejaVuSans-72\" d=\"M 2631 2963 \nQ 2534 3019 2420 3045 \nQ 2306 3072 2169 3072 \nQ 1681 3072 1420 2755 \nQ 1159 2438 1159 1844 \nL 1159 0 \nL 581 0 \nL 581 3500 \nL 1159 3500 \nL 1159 2956 \nQ 1341 3275 1631 3429 \nQ 1922 3584 2338 3584 \nQ 2397 3584 2469 3576 \nQ 2541 3569 2628 3553 \nL 2631 2963 \nz\n\" transform=\"scale(0.015625)\"/>\n       <path id=\"DejaVuSans-61\" d=\"M 2194 1759 \nQ 1497 1759 1228 1600 \nQ 959 1441 959 1056 \nQ 959 750 1161 570 \nQ 1363 391 1709 391 \nQ 2188 391 2477 730 \nQ 2766 1069 2766 1631 \nL 2766 1759 \nL 2194 1759 \nz\nM 3341 1997 \nL 3341 0 \nL 2766 0 \nL 2766 531 \nQ 2569 213 2275 61 \nQ 1981 -91 1556 -91 \nQ 1019 -91 701 211 \nQ 384 513 384 1019 \nQ 384 1609 779 1909 \nQ 1175 2209 1959 2209 \nL 2766 2209 \nL 2766 2266 \nQ 2766 2663 2505 2880 \nQ 2244 3097 1772 3097 \nQ 1472 3097 1187 3025 \nQ 903 2953 641 2809 \nL 641 3341 \nQ 956 3463 1253 3523 \nQ 1550 3584 1831 3584 \nQ 2591 3584 2966 3190 \nQ 3341 2797 3341 1997 \nz\n\" transform=\"scale(0.015625)\"/>\n       <path id=\"DejaVuSans-69\" d=\"M 603 3500 \nL 1178 3500 \nL 1178 0 \nL 603 0 \nL 603 3500 \nz\nM 603 4863 \nL 1178 4863 \nL 1178 4134 \nL 603 4134 \nL 603 4863 \nz\n\" transform=\"scale(0.015625)\"/>\n       <path id=\"DejaVuSans-6e\" d=\"M 3513 2113 \nL 3513 0 \nL 2938 0 \nL 2938 2094 \nQ 2938 2591 2744 2837 \nQ 2550 3084 2163 3084 \nQ 1697 3084 1428 2787 \nQ 1159 2491 1159 1978 \nL 1159 0 \nL 581 0 \nL 581 3500 \nL 1159 3500 \nL 1159 2956 \nQ 1366 3272 1645 3428 \nQ 1925 3584 2291 3584 \nQ 2894 3584 3203 3211 \nQ 3513 2838 3513 2113 \nz\n\" transform=\"scale(0.015625)\"/>\n       <path id=\"DejaVuSans-5f\" d=\"M 3263 -1063 \nL 3263 -1509 \nL -63 -1509 \nL -63 -1063 \nL 3263 -1063 \nz\n\" transform=\"scale(0.015625)\"/>\n       <path id=\"DejaVuSans-6c\" d=\"M 603 4863 \nL 1178 4863 \nL 1178 0 \nL 603 0 \nL 603 4863 \nz\n\" transform=\"scale(0.015625)\"/>\n       <path id=\"DejaVuSans-73\" d=\"M 2834 3397 \nL 2834 2853 \nQ 2591 2978 2328 3040 \nQ 2066 3103 1784 3103 \nQ 1356 3103 1142 2972 \nQ 928 2841 928 2578 \nQ 928 2378 1081 2264 \nQ 1234 2150 1697 2047 \nL 1894 2003 \nQ 2506 1872 2764 1633 \nQ 3022 1394 3022 966 \nQ 3022 478 2636 193 \nQ 2250 -91 1575 -91 \nQ 1294 -91 989 -36 \nQ 684 19 347 128 \nL 347 722 \nQ 666 556 975 473 \nQ 1284 391 1588 391 \nQ 1994 391 2212 530 \nQ 2431 669 2431 922 \nQ 2431 1156 2273 1281 \nQ 2116 1406 1581 1522 \nL 1381 1569 \nQ 847 1681 609 1914 \nQ 372 2147 372 2553 \nQ 372 3047 722 3315 \nQ 1072 3584 1716 3584 \nQ 2034 3584 2315 3537 \nQ 2597 3491 2834 3397 \nz\n\" transform=\"scale(0.015625)\"/>\n      </defs>\n      <use xlink:href=\"#DejaVuSans-74\"/>\n      <use xlink:href=\"#DejaVuSans-72\" transform=\"translate(39.208984 0)\"/>\n      <use xlink:href=\"#DejaVuSans-61\" transform=\"translate(80.322266 0)\"/>\n      <use xlink:href=\"#DejaVuSans-69\" transform=\"translate(141.601562 0)\"/>\n      <use xlink:href=\"#DejaVuSans-6e\" transform=\"translate(169.384766 0)\"/>\n      <use xlink:href=\"#DejaVuSans-5f\" transform=\"translate(232.763672 0)\"/>\n      <use xlink:href=\"#DejaVuSans-6c\" transform=\"translate(282.763672 0)\"/>\n      <use xlink:href=\"#DejaVuSans-6f\" transform=\"translate(310.546875 0)\"/>\n      <use xlink:href=\"#DejaVuSans-73\" transform=\"translate(371.728516 0)\"/>\n      <use xlink:href=\"#DejaVuSans-73\" transform=\"translate(423.828125 0)\"/>\n     </g>\n    </g>\n    <g id=\"line2d_129\">\n     <path d=\"M 140.8125 75.620313 \nL 150.8125 75.620313 \nL 160.8125 75.620313 \n\" style=\"fill: none; stroke-dasharray: 5.55,2.4; stroke-dashoffset: 0; stroke: #ff7f0e; stroke-width: 1.5\"/>\n    </g>\n    <g id=\"text_14\">\n     <!-- val_loss -->\n     <g transform=\"translate(168.8125 79.120313) scale(0.1 -0.1)\">\n      <defs>\n       <path id=\"DejaVuSans-76\" d=\"M 191 3500 \nL 800 3500 \nL 1894 563 \nL 2988 3500 \nL 3597 3500 \nL 2284 0 \nL 1503 0 \nL 191 3500 \nz\n\" transform=\"scale(0.015625)\"/>\n      </defs>\n      <use xlink:href=\"#DejaVuSans-76\"/>\n      <use xlink:href=\"#DejaVuSans-61\" transform=\"translate(59.179688 0)\"/>\n      <use xlink:href=\"#DejaVuSans-6c\" transform=\"translate(120.458984 0)\"/>\n      <use xlink:href=\"#DejaVuSans-5f\" transform=\"translate(148.242188 0)\"/>\n      <use xlink:href=\"#DejaVuSans-6c\" transform=\"translate(198.242188 0)\"/>\n      <use xlink:href=\"#DejaVuSans-6f\" transform=\"translate(226.025391 0)\"/>\n      <use xlink:href=\"#DejaVuSans-73\" transform=\"translate(287.207031 0)\"/>\n      <use xlink:href=\"#DejaVuSans-73\" transform=\"translate(339.306641 0)\"/>\n     </g>\n    </g>\n    <g id=\"line2d_130\">\n     <path d=\"M 140.8125 90.576563 \nL 150.8125 90.576563 \nL 160.8125 90.576563 \n\" style=\"fill: none; stroke-dasharray: 9.6,2.4,1.5,2.4; stroke-dashoffset: 0; stroke: #2ca02c; stroke-width: 1.5\"/>\n    </g>\n    <g id=\"text_15\">\n     <!-- val_acc -->\n     <g transform=\"translate(168.8125 94.076563) scale(0.1 -0.1)\">\n      <use xlink:href=\"#DejaVuSans-76\"/>\n      <use xlink:href=\"#DejaVuSans-61\" transform=\"translate(59.179688 0)\"/>\n      <use xlink:href=\"#DejaVuSans-6c\" transform=\"translate(120.458984 0)\"/>\n      <use xlink:href=\"#DejaVuSans-5f\" transform=\"translate(148.242188 0)\"/>\n      <use xlink:href=\"#DejaVuSans-61\" transform=\"translate(198.242188 0)\"/>\n      <use xlink:href=\"#DejaVuSans-63\" transform=\"translate(259.521484 0)\"/>\n      <use xlink:href=\"#DejaVuSans-63\" transform=\"translate(314.501953 0)\"/>\n     </g>\n    </g>\n   </g>\n  </g>\n </g>\n <defs>\n  <clipPath id=\"p0cb09e3dfd\">\n   <rect x=\"30.103125\" y=\"7.2\" width=\"195.3\" height=\"138.6\"/>\n  </clipPath>\n </defs>\n</svg>\n"
          },
          "metadata": {}
        }
      ],
      "source": [
        "model = ResNet18(lr=0.01)\n",
        "trainer = d2l.Trainer(max_epochs=10, num_gpus=1)\n",
        "data = d2l.FashionMNIST(batch_size=128, resize=(96, 96))\n",
        "model.apply_init([next(iter(data.get_dataloader(True)))[0]], d2l.init_cnn)\n",
        "trainer.fit(model, data)"
      ]
    },
    {
      "cell_type": "code",
      "source": [
        "print(model.board.data['train_loss'][-1].y)\n",
        "print(model.board.data['val_loss'][-1].y)\n",
        "print(model.board.data['val_acc'][-1].y)"
      ],
      "metadata": {
        "colab": {
          "base_uri": "https://localhost:8080/"
        },
        "id": "JsHVmglCBX1z",
        "outputId": "8e96a048-ce4e-40f1-a1ab-fc4c30997add"
      },
      "id": "JsHVmglCBX1z",
      "execution_count": 12,
      "outputs": [
        {
          "output_type": "stream",
          "name": "stdout",
          "text": [
            "0.027643792\n",
            "0.30566671\n",
            "0.91435915\n"
          ]
        }
      ]
    },
    {
      "cell_type": "markdown",
      "id": "bc09eb06",
      "metadata": {
        "origin_pos": 38,
        "id": "bc09eb06"
      },
      "source": [
        "## ResNeXt\n",
        ":label:`subsec_resnext`\n",
        "\n",
        "One of the challenges one encounters in the design of ResNet is the trade-off between nonlinearity and dimensionality within a given block. That is, we could add more nonlinearity by increasing the number of layers, or by increasing the width of the convolutions. An alternative strategy is to increase the number of channels that can carry information between blocks. Unfortunately, the latter comes with a quadratic penalty since the computational cost of ingesting $c_\\textrm{i}$ channels and emitting $c_\\textrm{o}$ channels is proportional to $\\mathcal{O}(c_\\textrm{i} \\cdot c_\\textrm{o})$ (see our discussion in :numref:`sec_channels`).\n",
        "\n",
        "We can take some inspiration from the Inception block of :numref:`fig_inception` which has information flowing through the block in separate groups. Applying the idea of multiple independent groups to the ResNet block of :numref:`fig_resnet_block` led to the design of ResNeXt :cite:`Xie.Girshick.Dollar.ea.2017`.\n",
        "Different from the smorgasbord of transformations in Inception,\n",
        "ResNeXt adopts the *same* transformation in all branches,\n",
        "thus minimizing the need for manual tuning of each branch.\n",
        "\n",
        "![The ResNeXt block. The use of grouped convolution with $\\mathit{g}$ groups is $\\mathit{g}$ times faster than a dense convolution. It is a bottleneck residual block when the number of intermediate channels $\\mathit{b}$ is less than $\\mathit{c}$.](https://github.com/d2l-ai/d2l-pytorch-colab/blob/master/img/resnext-block.svg?raw=1)\n",
        ":label:`fig_resnext_block`\n",
        "\n",
        "Breaking up a convolution from $c_\\textrm{i}$ to $c_\\textrm{o}$ channels into one of $g$ groups of size $c_\\textrm{i}/g$ generating $g$ outputs of size $c_\\textrm{o}/g$ is called, quite fittingly, a *grouped convolution*. The computational cost (proportionally) is reduced from $\\mathcal{O}(c_\\textrm{i} \\cdot c_\\textrm{o})$ to $\\mathcal{O}(g \\cdot (c_\\textrm{i}/g) \\cdot (c_\\textrm{o}/g)) = \\mathcal{O}(c_\\textrm{i} \\cdot c_\\textrm{o} / g)$, i.e., it is $g$ times faster. Even better, the number of parameters needed to generate the output is also reduced from a $c_\\textrm{i} \\times c_\\textrm{o}$ matrix to $g$ smaller matrices of size $(c_\\textrm{i}/g) \\times (c_\\textrm{o}/g)$, again a $g$ times reduction. In what follows we assume that both $c_\\textrm{i}$ and $c_\\textrm{o}$ are divisible by $g$.\n",
        "\n",
        "The only challenge in this design is that no information is exchanged between the $g$ groups. The ResNeXt block of\n",
        ":numref:`fig_resnext_block` amends this in two ways: the grouped convolution with a $3 \\times 3$ kernel is sandwiched in between two $1 \\times 1$ convolutions. The second one serves double duty in changing the number of channels back. The benefit is that we only pay the $\\mathcal{O}(c \\cdot b)$ cost for $1 \\times 1$ kernels and can make do with an $\\mathcal{O}(b^2 / g)$ cost for $3 \\times 3$ kernels. Similar to the residual block implementation in\n",
        ":numref:`subsec_residual-blks`, the residual connection is replaced (thus generalized) by a $1 \\times 1$ convolution.\n",
        "\n",
        "The right-hand figure in :numref:`fig_resnext_block` provides a much more concise summary of the resulting network block. It will also play a major role in the design of generic modern CNNs in :numref:`sec_cnn-design`. Note that the idea of grouped convolutions dates back to the implementation of AlexNet :cite:`Krizhevsky.Sutskever.Hinton.2012`. When distributing the network across two GPUs with limited memory, the implementation treated each GPU as its own channel with no ill effects.\n",
        "\n",
        "The following implementation of the `ResNeXtBlock` class takes as argument `groups` ($g$), with\n",
        "`bot_channels` ($b$) intermediate (bottleneck) channels. Lastly, when we need to reduce the height and width of the representation, we add a stride of $2$ by setting `use_1x1conv=True, strides=2`.\n"
      ]
    },
    {
      "cell_type": "code",
      "execution_count": 56,
      "id": "aa67ceaf",
      "metadata": {
        "execution": {
          "iopub.execute_input": "2023-08-18T19:53:34.757842Z",
          "iopub.status.busy": "2023-08-18T19:53:34.757550Z",
          "iopub.status.idle": "2023-08-18T19:53:34.767922Z",
          "shell.execute_reply": "2023-08-18T19:53:34.766805Z"
        },
        "origin_pos": 40,
        "tab": [
          "pytorch"
        ],
        "id": "aa67ceaf"
      },
      "outputs": [],
      "source": [
        "class ResNeXtBlock(nn.Module):  #@save\n",
        "    \"\"\"The ResNeXt block.\"\"\"\n",
        "    def __init__(self, num_channels, groups, bot_mul, use_1x1conv=False,\n",
        "                 strides=1):\n",
        "        # groups: number of groups (g) when applying 3x3 convolution\n",
        "        super().__init__()\n",
        "        bot_channels = int(round(num_channels * bot_mul))\n",
        "        self.conv1 = nn.LazyConv2d(bot_channels, kernel_size=1, stride=1)\n",
        "        self.conv2 = nn.LazyConv2d(bot_channels, kernel_size=3,\n",
        "                                   stride=strides, padding=1,\n",
        "                                   groups=bot_channels//groups)\n",
        "                                  # number of channels per group\n",
        "        self.conv3 = nn.LazyConv2d(num_channels, kernel_size=1, stride=1)\n",
        "        self.bn1 = nn.LazyBatchNorm2d()\n",
        "        self.bn2 = nn.LazyBatchNorm2d()\n",
        "        self.bn3 = nn.LazyBatchNorm2d()\n",
        "\n",
        "        if use_1x1conv:\n",
        "            self.conv4 = nn.LazyConv2d(num_channels, kernel_size=1,\n",
        "                                       stride=strides)\n",
        "            self.bn4 = nn.LazyBatchNorm2d()\n",
        "        else:\n",
        "            self.conv4 = None\n",
        "\n",
        "    def forward(self, X):\n",
        "        Y = F.relu(self.bn1(self.conv1(X)))\n",
        "        Y = F.relu(self.bn2(self.conv2(Y)))\n",
        "        Y = self.bn3(self.conv3(Y))\n",
        "        if self.conv4:\n",
        "            X = self.bn4(self.conv4(X))\n",
        "        return F.relu(Y + X)"
      ]
    },
    {
      "cell_type": "markdown",
      "id": "03b62951",
      "metadata": {
        "origin_pos": 43,
        "id": "03b62951"
      },
      "source": [
        "Its use is entirely analogous to that of the `ResNetBlock` discussed previously. For instance, when using (`use_1x1conv=False, strides=1`), the input and output are of the same shape. Alternatively, setting `use_1x1conv=True, strides=2` halves the output height and width.\n"
      ]
    },
    {
      "cell_type": "code",
      "execution_count": 58,
      "id": "ec6906e4",
      "metadata": {
        "execution": {
          "iopub.execute_input": "2023-08-18T19:53:34.771844Z",
          "iopub.status.busy": "2023-08-18T19:53:34.771565Z",
          "iopub.status.idle": "2023-08-18T19:53:34.803609Z",
          "shell.execute_reply": "2023-08-18T19:53:34.802407Z"
        },
        "origin_pos": 44,
        "tab": [
          "pytorch"
        ],
        "colab": {
          "base_uri": "https://localhost:8080/"
        },
        "id": "ec6906e4",
        "outputId": "57ffc527-aeb3-4626-ea7b-aea7eea569cb"
      },
      "outputs": [
        {
          "output_type": "execute_result",
          "data": {
            "text/plain": [
              "torch.Size([4, 32, 96, 96])"
            ]
          },
          "metadata": {},
          "execution_count": 58
        }
      ],
      "source": [
        "blk = ResNeXtBlock(32, 16, 1)\n",
        "X = torch.randn(4, 32, 96, 96)\n",
        "blk(X).shape"
      ]
    },
    {
      "cell_type": "code",
      "source": [
        "class ResNeXt(d2l.Classifier):\n",
        "  def b1(self):\n",
        "    return nn.Sequential(\n",
        "        nn.LazyConv2d(64, kernel_size=7, stride=2, padding=3),\n",
        "        nn.LazyBatchNorm2d(), nn.ReLU(),\n",
        "        nn.MaxPool2d(kernel_size=3, stride=2, padding=1))"
      ],
      "metadata": {
        "id": "Nt-x5XlWDmig"
      },
      "id": "Nt-x5XlWDmig",
      "execution_count": 59,
      "outputs": []
    },
    {
      "cell_type": "code",
      "source": [
        "@d2l.add_to_class(ResNeXt)\n",
        "def block(self, num_residuals, num_channels, groups, first_block=False):\n",
        "  blk = []\n",
        "  for i in range(num_residuals):\n",
        "    if i == 0:\n",
        "      blk.append(ResNeXtBlock(num_channels, groups,\n",
        "                              0.5, use_1x1conv=True, strides=2))\n",
        "    else:\n",
        "      blk.append(ResNeXtBlock(num_channels, groups, 0.5))\n",
        "  return nn.Sequential(*blk)"
      ],
      "metadata": {
        "id": "govS8-mKEToT"
      },
      "id": "govS8-mKEToT",
      "execution_count": 64,
      "outputs": []
    },
    {
      "cell_type": "code",
      "source": [
        "@d2l.add_to_class(ResNeXt)\n",
        "def __init__(self, arch, lr=0.1, num_classes=10):\n",
        "  super(ResNeXt, self).__init__()\n",
        "  self.save_hyperparameters()\n",
        "  self.net = nn.Sequential(self.b1())\n",
        "  for i, b in enumerate(arch):\n",
        "    self.net.add_module(f'b{i+2}', self.block(*b, first_block=(i==0)))\n",
        "  self.net.add_module('last', nn.Sequential(\n",
        "      nn.AdaptiveAvgPool2d((1, 1)), nn.Flatten(),\n",
        "      nn.LazyLinear(num_classes)))\n",
        "  self.net.apply(d2l.init_cnn)"
      ],
      "metadata": {
        "id": "_mJP3xhhFSn8"
      },
      "id": "_mJP3xhhFSn8",
      "execution_count": 65,
      "outputs": []
    },
    {
      "cell_type": "code",
      "source": [
        "class ResNeXt50(ResNeXt):\n",
        "    def __init__(self, lr=0.1, num_classes=10):\n",
        "        arch = (\n",
        "            (3, 256, 32),\n",
        "            (4, 512, 32),\n",
        "            (6, 1024, 32),\n",
        "            (3, 2048, 32)\n",
        "        )\n",
        "        super().__init__(arch, lr, num_classes)"
      ],
      "metadata": {
        "id": "PL2XcRgzF7kN"
      },
      "id": "PL2XcRgzF7kN",
      "execution_count": 66,
      "outputs": []
    },
    {
      "cell_type": "code",
      "metadata": {
        "colab": {
          "base_uri": "https://localhost:8080/",
          "height": 266
        },
        "id": "05f7b14f",
        "outputId": "3510872e-2a8f-4d9d-f92a-c9a70e61df3a"
      },
      "source": [
        "model2 = ResNeXt50(lr=0.01)\n",
        "trainer = d2l.Trainer(max_epochs=10, num_gpus=1)\n",
        "data = d2l.FashionMNIST(batch_size=128, resize=(96, 96))\n",
        "model2.apply_init([next(iter(data.get_dataloader(True)))[0]], d2l.init_cnn)\n",
        "trainer.fit(model2, data)"
      ],
      "id": "05f7b14f",
      "execution_count": 67,
      "outputs": [
        {
          "output_type": "display_data",
          "data": {
            "text/plain": [
              "<Figure size 350x250 with 1 Axes>"
            ],
            "image/svg+xml": "<?xml version=\"1.0\" encoding=\"utf-8\" standalone=\"no\"?>\n<!DOCTYPE svg PUBLIC \"-//W3C//DTD SVG 1.1//EN\"\n  \"http://www.w3.org/Graphics/SVG/1.1/DTD/svg11.dtd\">\n<svg xmlns:xlink=\"http://www.w3.org/1999/xlink\" width=\"238.965625pt\" height=\"183.35625pt\" viewBox=\"0 0 238.965625 183.35625\" xmlns=\"http://www.w3.org/2000/svg\" version=\"1.1\">\n <metadata>\n  <rdf:RDF xmlns:dc=\"http://purl.org/dc/elements/1.1/\" xmlns:cc=\"http://creativecommons.org/ns#\" xmlns:rdf=\"http://www.w3.org/1999/02/22-rdf-syntax-ns#\">\n   <cc:Work>\n    <dc:type rdf:resource=\"http://purl.org/dc/dcmitype/StillImage\"/>\n    <dc:date>2025-10-11T12:45:55.975727</dc:date>\n    <dc:format>image/svg+xml</dc:format>\n    <dc:creator>\n     <cc:Agent>\n      <dc:title>Matplotlib v3.10.0, https://matplotlib.org/</dc:title>\n     </cc:Agent>\n    </dc:creator>\n   </cc:Work>\n  </rdf:RDF>\n </metadata>\n <defs>\n  <style type=\"text/css\">*{stroke-linejoin: round; stroke-linecap: butt}</style>\n </defs>\n <g id=\"figure_1\">\n  <g id=\"patch_1\">\n   <path d=\"M 0 183.35625 \nL 238.965625 183.35625 \nL 238.965625 0 \nL 0 0 \nz\n\" style=\"fill: #ffffff\"/>\n  </g>\n  <g id=\"axes_1\">\n   <g id=\"patch_2\">\n    <path d=\"M 30.103125 145.8 \nL 225.403125 145.8 \nL 225.403125 7.2 \nL 30.103125 7.2 \nz\n\" style=\"fill: #ffffff\"/>\n   </g>\n   <g id=\"matplotlib.axis_1\">\n    <g id=\"xtick_1\">\n     <g id=\"line2d_1\">\n      <defs>\n       <path id=\"m8d251ce56e\" d=\"M 0 0 \nL 0 3.5 \n\" style=\"stroke: #000000; stroke-width: 0.8\"/>\n      </defs>\n      <g>\n       <use xlink:href=\"#m8d251ce56e\" x=\"30.103125\" y=\"145.8\" style=\"stroke: #000000; stroke-width: 0.8\"/>\n      </g>\n     </g>\n     <g id=\"text_1\">\n      <!-- 0 -->\n      <g transform=\"translate(26.921875 160.398438) scale(0.1 -0.1)\">\n       <defs>\n        <path id=\"DejaVuSans-30\" d=\"M 2034 4250 \nQ 1547 4250 1301 3770 \nQ 1056 3291 1056 2328 \nQ 1056 1369 1301 889 \nQ 1547 409 2034 409 \nQ 2525 409 2770 889 \nQ 3016 1369 3016 2328 \nQ 3016 3291 2770 3770 \nQ 2525 4250 2034 4250 \nz\nM 2034 4750 \nQ 2819 4750 3233 4129 \nQ 3647 3509 3647 2328 \nQ 3647 1150 3233 529 \nQ 2819 -91 2034 -91 \nQ 1250 -91 836 529 \nQ 422 1150 422 2328 \nQ 422 3509 836 4129 \nQ 1250 4750 2034 4750 \nz\n\" transform=\"scale(0.015625)\"/>\n       </defs>\n       <use xlink:href=\"#DejaVuSans-30\"/>\n      </g>\n     </g>\n    </g>\n    <g id=\"xtick_2\">\n     <g id=\"line2d_2\">\n      <g>\n       <use xlink:href=\"#m8d251ce56e\" x=\"69.163125\" y=\"145.8\" style=\"stroke: #000000; stroke-width: 0.8\"/>\n      </g>\n     </g>\n     <g id=\"text_2\">\n      <!-- 2 -->\n      <g transform=\"translate(65.981875 160.398438) scale(0.1 -0.1)\">\n       <defs>\n        <path id=\"DejaVuSans-32\" d=\"M 1228 531 \nL 3431 531 \nL 3431 0 \nL 469 0 \nL 469 531 \nQ 828 903 1448 1529 \nQ 2069 2156 2228 2338 \nQ 2531 2678 2651 2914 \nQ 2772 3150 2772 3378 \nQ 2772 3750 2511 3984 \nQ 2250 4219 1831 4219 \nQ 1534 4219 1204 4116 \nQ 875 4013 500 3803 \nL 500 4441 \nQ 881 4594 1212 4672 \nQ 1544 4750 1819 4750 \nQ 2544 4750 2975 4387 \nQ 3406 4025 3406 3419 \nQ 3406 3131 3298 2873 \nQ 3191 2616 2906 2266 \nQ 2828 2175 2409 1742 \nQ 1991 1309 1228 531 \nz\n\" transform=\"scale(0.015625)\"/>\n       </defs>\n       <use xlink:href=\"#DejaVuSans-32\"/>\n      </g>\n     </g>\n    </g>\n    <g id=\"xtick_3\">\n     <g id=\"line2d_3\">\n      <g>\n       <use xlink:href=\"#m8d251ce56e\" x=\"108.223125\" y=\"145.8\" style=\"stroke: #000000; stroke-width: 0.8\"/>\n      </g>\n     </g>\n     <g id=\"text_3\">\n      <!-- 4 -->\n      <g transform=\"translate(105.041875 160.398438) scale(0.1 -0.1)\">\n       <defs>\n        <path id=\"DejaVuSans-34\" d=\"M 2419 4116 \nL 825 1625 \nL 2419 1625 \nL 2419 4116 \nz\nM 2253 4666 \nL 3047 4666 \nL 3047 1625 \nL 3713 1625 \nL 3713 1100 \nL 3047 1100 \nL 3047 0 \nL 2419 0 \nL 2419 1100 \nL 313 1100 \nL 313 1709 \nL 2253 4666 \nz\n\" transform=\"scale(0.015625)\"/>\n       </defs>\n       <use xlink:href=\"#DejaVuSans-34\"/>\n      </g>\n     </g>\n    </g>\n    <g id=\"xtick_4\">\n     <g id=\"line2d_4\">\n      <g>\n       <use xlink:href=\"#m8d251ce56e\" x=\"147.283125\" y=\"145.8\" style=\"stroke: #000000; stroke-width: 0.8\"/>\n      </g>\n     </g>\n     <g id=\"text_4\">\n      <!-- 6 -->\n      <g transform=\"translate(144.101875 160.398438) scale(0.1 -0.1)\">\n       <defs>\n        <path id=\"DejaVuSans-36\" d=\"M 2113 2584 \nQ 1688 2584 1439 2293 \nQ 1191 2003 1191 1497 \nQ 1191 994 1439 701 \nQ 1688 409 2113 409 \nQ 2538 409 2786 701 \nQ 3034 994 3034 1497 \nQ 3034 2003 2786 2293 \nQ 2538 2584 2113 2584 \nz\nM 3366 4563 \nL 3366 3988 \nQ 3128 4100 2886 4159 \nQ 2644 4219 2406 4219 \nQ 1781 4219 1451 3797 \nQ 1122 3375 1075 2522 \nQ 1259 2794 1537 2939 \nQ 1816 3084 2150 3084 \nQ 2853 3084 3261 2657 \nQ 3669 2231 3669 1497 \nQ 3669 778 3244 343 \nQ 2819 -91 2113 -91 \nQ 1303 -91 875 529 \nQ 447 1150 447 2328 \nQ 447 3434 972 4092 \nQ 1497 4750 2381 4750 \nQ 2619 4750 2861 4703 \nQ 3103 4656 3366 4563 \nz\n\" transform=\"scale(0.015625)\"/>\n       </defs>\n       <use xlink:href=\"#DejaVuSans-36\"/>\n      </g>\n     </g>\n    </g>\n    <g id=\"xtick_5\">\n     <g id=\"line2d_5\">\n      <g>\n       <use xlink:href=\"#m8d251ce56e\" x=\"186.343125\" y=\"145.8\" style=\"stroke: #000000; stroke-width: 0.8\"/>\n      </g>\n     </g>\n     <g id=\"text_5\">\n      <!-- 8 -->\n      <g transform=\"translate(183.161875 160.398438) scale(0.1 -0.1)\">\n       <defs>\n        <path id=\"DejaVuSans-38\" d=\"M 2034 2216 \nQ 1584 2216 1326 1975 \nQ 1069 1734 1069 1313 \nQ 1069 891 1326 650 \nQ 1584 409 2034 409 \nQ 2484 409 2743 651 \nQ 3003 894 3003 1313 \nQ 3003 1734 2745 1975 \nQ 2488 2216 2034 2216 \nz\nM 1403 2484 \nQ 997 2584 770 2862 \nQ 544 3141 544 3541 \nQ 544 4100 942 4425 \nQ 1341 4750 2034 4750 \nQ 2731 4750 3128 4425 \nQ 3525 4100 3525 3541 \nQ 3525 3141 3298 2862 \nQ 3072 2584 2669 2484 \nQ 3125 2378 3379 2068 \nQ 3634 1759 3634 1313 \nQ 3634 634 3220 271 \nQ 2806 -91 2034 -91 \nQ 1263 -91 848 271 \nQ 434 634 434 1313 \nQ 434 1759 690 2068 \nQ 947 2378 1403 2484 \nz\nM 1172 3481 \nQ 1172 3119 1398 2916 \nQ 1625 2713 2034 2713 \nQ 2441 2713 2670 2916 \nQ 2900 3119 2900 3481 \nQ 2900 3844 2670 4047 \nQ 2441 4250 2034 4250 \nQ 1625 4250 1398 4047 \nQ 1172 3844 1172 3481 \nz\n\" transform=\"scale(0.015625)\"/>\n       </defs>\n       <use xlink:href=\"#DejaVuSans-38\"/>\n      </g>\n     </g>\n    </g>\n    <g id=\"xtick_6\">\n     <g id=\"line2d_6\">\n      <g>\n       <use xlink:href=\"#m8d251ce56e\" x=\"225.403125\" y=\"145.8\" style=\"stroke: #000000; stroke-width: 0.8\"/>\n      </g>\n     </g>\n     <g id=\"text_6\">\n      <!-- 10 -->\n      <g transform=\"translate(219.040625 160.398438) scale(0.1 -0.1)\">\n       <defs>\n        <path id=\"DejaVuSans-31\" d=\"M 794 531 \nL 1825 531 \nL 1825 4091 \nL 703 3866 \nL 703 4441 \nL 1819 4666 \nL 2450 4666 \nL 2450 531 \nL 3481 531 \nL 3481 0 \nL 794 0 \nL 794 531 \nz\n\" transform=\"scale(0.015625)\"/>\n       </defs>\n       <use xlink:href=\"#DejaVuSans-31\"/>\n       <use xlink:href=\"#DejaVuSans-30\" transform=\"translate(63.623047 0)\"/>\n      </g>\n     </g>\n    </g>\n    <g id=\"text_7\">\n     <!-- epoch -->\n     <g transform=\"translate(112.525 174.076563) scale(0.1 -0.1)\">\n      <defs>\n       <path id=\"DejaVuSans-65\" d=\"M 3597 1894 \nL 3597 1613 \nL 953 1613 \nQ 991 1019 1311 708 \nQ 1631 397 2203 397 \nQ 2534 397 2845 478 \nQ 3156 559 3463 722 \nL 3463 178 \nQ 3153 47 2828 -22 \nQ 2503 -91 2169 -91 \nQ 1331 -91 842 396 \nQ 353 884 353 1716 \nQ 353 2575 817 3079 \nQ 1281 3584 2069 3584 \nQ 2775 3584 3186 3129 \nQ 3597 2675 3597 1894 \nz\nM 3022 2063 \nQ 3016 2534 2758 2815 \nQ 2500 3097 2075 3097 \nQ 1594 3097 1305 2825 \nQ 1016 2553 972 2059 \nL 3022 2063 \nz\n\" transform=\"scale(0.015625)\"/>\n       <path id=\"DejaVuSans-70\" d=\"M 1159 525 \nL 1159 -1331 \nL 581 -1331 \nL 581 3500 \nL 1159 3500 \nL 1159 2969 \nQ 1341 3281 1617 3432 \nQ 1894 3584 2278 3584 \nQ 2916 3584 3314 3078 \nQ 3713 2572 3713 1747 \nQ 3713 922 3314 415 \nQ 2916 -91 2278 -91 \nQ 1894 -91 1617 61 \nQ 1341 213 1159 525 \nz\nM 3116 1747 \nQ 3116 2381 2855 2742 \nQ 2594 3103 2138 3103 \nQ 1681 3103 1420 2742 \nQ 1159 2381 1159 1747 \nQ 1159 1113 1420 752 \nQ 1681 391 2138 391 \nQ 2594 391 2855 752 \nQ 3116 1113 3116 1747 \nz\n\" transform=\"scale(0.015625)\"/>\n       <path id=\"DejaVuSans-6f\" d=\"M 1959 3097 \nQ 1497 3097 1228 2736 \nQ 959 2375 959 1747 \nQ 959 1119 1226 758 \nQ 1494 397 1959 397 \nQ 2419 397 2687 759 \nQ 2956 1122 2956 1747 \nQ 2956 2369 2687 2733 \nQ 2419 3097 1959 3097 \nz\nM 1959 3584 \nQ 2709 3584 3137 3096 \nQ 3566 2609 3566 1747 \nQ 3566 888 3137 398 \nQ 2709 -91 1959 -91 \nQ 1206 -91 779 398 \nQ 353 888 353 1747 \nQ 353 2609 779 3096 \nQ 1206 3584 1959 3584 \nz\n\" transform=\"scale(0.015625)\"/>\n       <path id=\"DejaVuSans-63\" d=\"M 3122 3366 \nL 3122 2828 \nQ 2878 2963 2633 3030 \nQ 2388 3097 2138 3097 \nQ 1578 3097 1268 2742 \nQ 959 2388 959 1747 \nQ 959 1106 1268 751 \nQ 1578 397 2138 397 \nQ 2388 397 2633 464 \nQ 2878 531 3122 666 \nL 3122 134 \nQ 2881 22 2623 -34 \nQ 2366 -91 2075 -91 \nQ 1284 -91 818 406 \nQ 353 903 353 1747 \nQ 353 2603 823 3093 \nQ 1294 3584 2113 3584 \nQ 2378 3584 2631 3529 \nQ 2884 3475 3122 3366 \nz\n\" transform=\"scale(0.015625)\"/>\n       <path id=\"DejaVuSans-68\" d=\"M 3513 2113 \nL 3513 0 \nL 2938 0 \nL 2938 2094 \nQ 2938 2591 2744 2837 \nQ 2550 3084 2163 3084 \nQ 1697 3084 1428 2787 \nQ 1159 2491 1159 1978 \nL 1159 0 \nL 581 0 \nL 581 4863 \nL 1159 4863 \nL 1159 2956 \nQ 1366 3272 1645 3428 \nQ 1925 3584 2291 3584 \nQ 2894 3584 3203 3211 \nQ 3513 2838 3513 2113 \nz\n\" transform=\"scale(0.015625)\"/>\n      </defs>\n      <use xlink:href=\"#DejaVuSans-65\"/>\n      <use xlink:href=\"#DejaVuSans-70\" transform=\"translate(61.523438 0)\"/>\n      <use xlink:href=\"#DejaVuSans-6f\" transform=\"translate(125 0)\"/>\n      <use xlink:href=\"#DejaVuSans-63\" transform=\"translate(186.181641 0)\"/>\n      <use xlink:href=\"#DejaVuSans-68\" transform=\"translate(241.162109 0)\"/>\n     </g>\n    </g>\n   </g>\n   <g id=\"matplotlib.axis_2\">\n    <g id=\"ytick_1\">\n     <g id=\"line2d_7\">\n      <defs>\n       <path id=\"m07992bc566\" d=\"M 0 0 \nL -3.5 0 \n\" style=\"stroke: #000000; stroke-width: 0.8\"/>\n      </defs>\n      <g>\n       <use xlink:href=\"#m07992bc566\" x=\"30.103125\" y=\"127.078644\" style=\"stroke: #000000; stroke-width: 0.8\"/>\n      </g>\n     </g>\n     <g id=\"text_8\">\n      <!-- 0.2 -->\n      <g transform=\"translate(7.2 130.877863) scale(0.1 -0.1)\">\n       <defs>\n        <path id=\"DejaVuSans-2e\" d=\"M 684 794 \nL 1344 794 \nL 1344 0 \nL 684 0 \nL 684 794 \nz\n\" transform=\"scale(0.015625)\"/>\n       </defs>\n       <use xlink:href=\"#DejaVuSans-30\"/>\n       <use xlink:href=\"#DejaVuSans-2e\" transform=\"translate(63.623047 0)\"/>\n       <use xlink:href=\"#DejaVuSans-32\" transform=\"translate(95.410156 0)\"/>\n      </g>\n     </g>\n    </g>\n    <g id=\"ytick_2\">\n     <g id=\"line2d_8\">\n      <g>\n       <use xlink:href=\"#m07992bc566\" x=\"30.103125\" y=\"100.67343\" style=\"stroke: #000000; stroke-width: 0.8\"/>\n      </g>\n     </g>\n     <g id=\"text_9\">\n      <!-- 0.4 -->\n      <g transform=\"translate(7.2 104.472649) scale(0.1 -0.1)\">\n       <use xlink:href=\"#DejaVuSans-30\"/>\n       <use xlink:href=\"#DejaVuSans-2e\" transform=\"translate(63.623047 0)\"/>\n       <use xlink:href=\"#DejaVuSans-34\" transform=\"translate(95.410156 0)\"/>\n      </g>\n     </g>\n    </g>\n    <g id=\"ytick_3\">\n     <g id=\"line2d_9\">\n      <g>\n       <use xlink:href=\"#m07992bc566\" x=\"30.103125\" y=\"74.268216\" style=\"stroke: #000000; stroke-width: 0.8\"/>\n      </g>\n     </g>\n     <g id=\"text_10\">\n      <!-- 0.6 -->\n      <g transform=\"translate(7.2 78.067434) scale(0.1 -0.1)\">\n       <use xlink:href=\"#DejaVuSans-30\"/>\n       <use xlink:href=\"#DejaVuSans-2e\" transform=\"translate(63.623047 0)\"/>\n       <use xlink:href=\"#DejaVuSans-36\" transform=\"translate(95.410156 0)\"/>\n      </g>\n     </g>\n    </g>\n    <g id=\"ytick_4\">\n     <g id=\"line2d_10\">\n      <g>\n       <use xlink:href=\"#m07992bc566\" x=\"30.103125\" y=\"47.863002\" style=\"stroke: #000000; stroke-width: 0.8\"/>\n      </g>\n     </g>\n     <g id=\"text_11\">\n      <!-- 0.8 -->\n      <g transform=\"translate(7.2 51.66222) scale(0.1 -0.1)\">\n       <use xlink:href=\"#DejaVuSans-30\"/>\n       <use xlink:href=\"#DejaVuSans-2e\" transform=\"translate(63.623047 0)\"/>\n       <use xlink:href=\"#DejaVuSans-38\" transform=\"translate(95.410156 0)\"/>\n      </g>\n     </g>\n    </g>\n    <g id=\"ytick_5\">\n     <g id=\"line2d_11\">\n      <g>\n       <use xlink:href=\"#m07992bc566\" x=\"30.103125\" y=\"21.457787\" style=\"stroke: #000000; stroke-width: 0.8\"/>\n      </g>\n     </g>\n     <g id=\"text_12\">\n      <!-- 1.0 -->\n      <g transform=\"translate(7.2 25.257006) scale(0.1 -0.1)\">\n       <use xlink:href=\"#DejaVuSans-31\"/>\n       <use xlink:href=\"#DejaVuSans-2e\" transform=\"translate(63.623047 0)\"/>\n       <use xlink:href=\"#DejaVuSans-30\" transform=\"translate(95.410156 0)\"/>\n      </g>\n     </g>\n    </g>\n   </g>\n   <g id=\"line2d_12\">\n    <path d=\"M 34.954394 13.5 \n\" clip-path=\"url(#p73d35b4ef8)\" style=\"fill: none; stroke: #1f77b4; stroke-width: 1.5; stroke-linecap: square\"/>\n   </g>\n   <g id=\"line2d_13\">\n    <path d=\"M 34.954394 13.5 \nL 44.698573 78.095731 \n\" clip-path=\"url(#p73d35b4ef8)\" style=\"fill: none; stroke: #1f77b4; stroke-width: 1.5; stroke-linecap: square\"/>\n   </g>\n   <g id=\"line2d_14\">\n    <path d=\"M 34.954394 13.5 \nL 44.698573 78.095731 \n\" clip-path=\"url(#p73d35b4ef8)\" style=\"fill: none; stroke: #1f77b4; stroke-width: 1.5; stroke-linecap: square\"/>\n   </g>\n   <g id=\"line2d_15\">\n    <path d=\"M 49.633125 84.019586 \n\" clip-path=\"url(#p73d35b4ef8)\" style=\"fill: none; stroke-dasharray: 5.55,2.4; stroke-dashoffset: 0; stroke: #ff7f0e; stroke-width: 1.5\"/>\n   </g>\n   <g id=\"line2d_16\"/>\n   <g id=\"line2d_17\">\n    <path d=\"M 34.954394 13.5 \nL 44.698573 78.095731 \n\" clip-path=\"url(#p73d35b4ef8)\" style=\"fill: none; stroke: #1f77b4; stroke-width: 1.5; stroke-linecap: square\"/>\n   </g>\n   <g id=\"line2d_18\">\n    <path d=\"M 49.633125 84.019586 \n\" clip-path=\"url(#p73d35b4ef8)\" style=\"fill: none; stroke-dasharray: 5.55,2.4; stroke-dashoffset: 0; stroke: #ff7f0e; stroke-width: 1.5\"/>\n   </g>\n   <g id=\"line2d_19\">\n    <path d=\"M 49.633125 46.69576 \n\" clip-path=\"url(#p73d35b4ef8)\" style=\"fill: none; stroke-dasharray: 9.6,2.4,1.5,2.4; stroke-dashoffset: 0; stroke: #2ca02c; stroke-width: 1.5\"/>\n   </g>\n   <g id=\"line2d_20\">\n    <path d=\"M 34.954394 13.5 \nL 44.698573 78.095731 \nL 54.442752 94.383369 \n\" clip-path=\"url(#p73d35b4ef8)\" style=\"fill: none; stroke: #1f77b4; stroke-width: 1.5; stroke-linecap: square\"/>\n   </g>\n   <g id=\"line2d_21\">\n    <path d=\"M 49.633125 84.019586 \n\" clip-path=\"url(#p73d35b4ef8)\" style=\"fill: none; stroke-dasharray: 5.55,2.4; stroke-dashoffset: 0; stroke: #ff7f0e; stroke-width: 1.5\"/>\n   </g>\n   <g id=\"line2d_22\">\n    <path d=\"M 49.633125 46.69576 \n\" clip-path=\"url(#p73d35b4ef8)\" style=\"fill: none; stroke-dasharray: 9.6,2.4,1.5,2.4; stroke-dashoffset: 0; stroke: #2ca02c; stroke-width: 1.5\"/>\n   </g>\n   <g id=\"line2d_23\">\n    <path d=\"M 34.954394 13.5 \nL 44.698573 78.095731 \nL 54.442752 94.383369 \nL 64.186931 99.953925 \n\" clip-path=\"url(#p73d35b4ef8)\" style=\"fill: none; stroke: #1f77b4; stroke-width: 1.5; stroke-linecap: square\"/>\n   </g>\n   <g id=\"line2d_24\">\n    <path d=\"M 49.633125 84.019586 \n\" clip-path=\"url(#p73d35b4ef8)\" style=\"fill: none; stroke-dasharray: 5.55,2.4; stroke-dashoffset: 0; stroke: #ff7f0e; stroke-width: 1.5\"/>\n   </g>\n   <g id=\"line2d_25\">\n    <path d=\"M 49.633125 46.69576 \n\" clip-path=\"url(#p73d35b4ef8)\" style=\"fill: none; stroke-dasharray: 9.6,2.4,1.5,2.4; stroke-dashoffset: 0; stroke: #2ca02c; stroke-width: 1.5\"/>\n   </g>\n   <g id=\"line2d_26\">\n    <path d=\"M 34.954394 13.5 \nL 44.698573 78.095731 \nL 54.442752 94.383369 \nL 64.186931 99.953925 \n\" clip-path=\"url(#p73d35b4ef8)\" style=\"fill: none; stroke: #1f77b4; stroke-width: 1.5; stroke-linecap: square\"/>\n   </g>\n   <g id=\"line2d_27\">\n    <path d=\"M 49.633125 84.019586 \nL 69.163125 95.190042 \n\" clip-path=\"url(#p73d35b4ef8)\" style=\"fill: none; stroke-dasharray: 5.55,2.4; stroke-dashoffset: 0; stroke: #ff7f0e; stroke-width: 1.5\"/>\n   </g>\n   <g id=\"line2d_28\">\n    <path d=\"M 49.633125 46.69576 \n\" clip-path=\"url(#p73d35b4ef8)\" style=\"fill: none; stroke-dasharray: 9.6,2.4,1.5,2.4; stroke-dashoffset: 0; stroke: #2ca02c; stroke-width: 1.5\"/>\n   </g>\n   <g id=\"line2d_29\">\n    <path d=\"M 34.954394 13.5 \nL 44.698573 78.095731 \nL 54.442752 94.383369 \nL 64.186931 99.953925 \n\" clip-path=\"url(#p73d35b4ef8)\" style=\"fill: none; stroke: #1f77b4; stroke-width: 1.5; stroke-linecap: square\"/>\n   </g>\n   <g id=\"line2d_30\">\n    <path d=\"M 49.633125 84.019586 \nL 69.163125 95.190042 \n\" clip-path=\"url(#p73d35b4ef8)\" style=\"fill: none; stroke-dasharray: 5.55,2.4; stroke-dashoffset: 0; stroke: #ff7f0e; stroke-width: 1.5\"/>\n   </g>\n   <g id=\"line2d_31\">\n    <path d=\"M 49.633125 46.69576 \nL 69.163125 42.334935 \n\" clip-path=\"url(#p73d35b4ef8)\" style=\"fill: none; stroke-dasharray: 9.6,2.4,1.5,2.4; stroke-dashoffset: 0; stroke: #2ca02c; stroke-width: 1.5\"/>\n   </g>\n   <g id=\"line2d_32\">\n    <path d=\"M 34.954394 13.5 \nL 44.698573 78.095731 \nL 54.442752 94.383369 \nL 64.186931 99.953925 \nL 73.93111 107.549926 \n\" clip-path=\"url(#p73d35b4ef8)\" style=\"fill: none; stroke: #1f77b4; stroke-width: 1.5; stroke-linecap: square\"/>\n   </g>\n   <g id=\"line2d_33\">\n    <path d=\"M 49.633125 84.019586 \nL 69.163125 95.190042 \n\" clip-path=\"url(#p73d35b4ef8)\" style=\"fill: none; stroke-dasharray: 5.55,2.4; stroke-dashoffset: 0; stroke: #ff7f0e; stroke-width: 1.5\"/>\n   </g>\n   <g id=\"line2d_34\">\n    <path d=\"M 49.633125 46.69576 \nL 69.163125 42.334935 \n\" clip-path=\"url(#p73d35b4ef8)\" style=\"fill: none; stroke-dasharray: 9.6,2.4,1.5,2.4; stroke-dashoffset: 0; stroke: #2ca02c; stroke-width: 1.5\"/>\n   </g>\n   <g id=\"line2d_35\">\n    <path d=\"M 34.954394 13.5 \nL 44.698573 78.095731 \nL 54.442752 94.383369 \nL 64.186931 99.953925 \nL 73.93111 107.549926 \nL 83.675289 108.399987 \n\" clip-path=\"url(#p73d35b4ef8)\" style=\"fill: none; stroke: #1f77b4; stroke-width: 1.5; stroke-linecap: square\"/>\n   </g>\n   <g id=\"line2d_36\">\n    <path d=\"M 49.633125 84.019586 \nL 69.163125 95.190042 \n\" clip-path=\"url(#p73d35b4ef8)\" style=\"fill: none; stroke-dasharray: 5.55,2.4; stroke-dashoffset: 0; stroke: #ff7f0e; stroke-width: 1.5\"/>\n   </g>\n   <g id=\"line2d_37\">\n    <path d=\"M 49.633125 46.69576 \nL 69.163125 42.334935 \n\" clip-path=\"url(#p73d35b4ef8)\" style=\"fill: none; stroke-dasharray: 9.6,2.4,1.5,2.4; stroke-dashoffset: 0; stroke: #2ca02c; stroke-width: 1.5\"/>\n   </g>\n   <g id=\"line2d_38\">\n    <path d=\"M 34.954394 13.5 \nL 44.698573 78.095731 \nL 54.442752 94.383369 \nL 64.186931 99.953925 \nL 73.93111 107.549926 \nL 83.675289 108.399987 \n\" clip-path=\"url(#p73d35b4ef8)\" style=\"fill: none; stroke: #1f77b4; stroke-width: 1.5; stroke-linecap: square\"/>\n   </g>\n   <g id=\"line2d_39\">\n    <path d=\"M 49.633125 84.019586 \nL 69.163125 95.190042 \nL 88.693125 98.465202 \n\" clip-path=\"url(#p73d35b4ef8)\" style=\"fill: none; stroke-dasharray: 5.55,2.4; stroke-dashoffset: 0; stroke: #ff7f0e; stroke-width: 1.5\"/>\n   </g>\n   <g id=\"line2d_40\">\n    <path d=\"M 49.633125 46.69576 \nL 69.163125 42.334935 \n\" clip-path=\"url(#p73d35b4ef8)\" style=\"fill: none; stroke-dasharray: 9.6,2.4,1.5,2.4; stroke-dashoffset: 0; stroke: #2ca02c; stroke-width: 1.5\"/>\n   </g>\n   <g id=\"line2d_41\">\n    <path d=\"M 34.954394 13.5 \nL 44.698573 78.095731 \nL 54.442752 94.383369 \nL 64.186931 99.953925 \nL 73.93111 107.549926 \nL 83.675289 108.399987 \n\" clip-path=\"url(#p73d35b4ef8)\" style=\"fill: none; stroke: #1f77b4; stroke-width: 1.5; stroke-linecap: square\"/>\n   </g>\n   <g id=\"line2d_42\">\n    <path d=\"M 49.633125 84.019586 \nL 69.163125 95.190042 \nL 88.693125 98.465202 \n\" clip-path=\"url(#p73d35b4ef8)\" style=\"fill: none; stroke-dasharray: 5.55,2.4; stroke-dashoffset: 0; stroke: #ff7f0e; stroke-width: 1.5\"/>\n   </g>\n   <g id=\"line2d_43\">\n    <path d=\"M 49.633125 46.69576 \nL 69.163125 42.334935 \nL 88.693125 41.551547 \n\" clip-path=\"url(#p73d35b4ef8)\" style=\"fill: none; stroke-dasharray: 9.6,2.4,1.5,2.4; stroke-dashoffset: 0; stroke: #2ca02c; stroke-width: 1.5\"/>\n   </g>\n   <g id=\"line2d_44\">\n    <path d=\"M 34.954394 13.5 \nL 44.698573 78.095731 \nL 54.442752 94.383369 \nL 64.186931 99.953925 \nL 73.93111 107.549926 \nL 83.675289 108.399987 \nL 93.419468 115.169342 \n\" clip-path=\"url(#p73d35b4ef8)\" style=\"fill: none; stroke: #1f77b4; stroke-width: 1.5; stroke-linecap: square\"/>\n   </g>\n   <g id=\"line2d_45\">\n    <path d=\"M 49.633125 84.019586 \nL 69.163125 95.190042 \nL 88.693125 98.465202 \n\" clip-path=\"url(#p73d35b4ef8)\" style=\"fill: none; stroke-dasharray: 5.55,2.4; stroke-dashoffset: 0; stroke: #ff7f0e; stroke-width: 1.5\"/>\n   </g>\n   <g id=\"line2d_46\">\n    <path d=\"M 49.633125 46.69576 \nL 69.163125 42.334935 \nL 88.693125 41.551547 \n\" clip-path=\"url(#p73d35b4ef8)\" style=\"fill: none; stroke-dasharray: 9.6,2.4,1.5,2.4; stroke-dashoffset: 0; stroke: #2ca02c; stroke-width: 1.5\"/>\n   </g>\n   <g id=\"line2d_47\">\n    <path d=\"M 34.954394 13.5 \nL 44.698573 78.095731 \nL 54.442752 94.383369 \nL 64.186931 99.953925 \nL 73.93111 107.549926 \nL 83.675289 108.399987 \nL 93.419468 115.169342 \nL 103.163647 115.410043 \n\" clip-path=\"url(#p73d35b4ef8)\" style=\"fill: none; stroke: #1f77b4; stroke-width: 1.5; stroke-linecap: square\"/>\n   </g>\n   <g id=\"line2d_48\">\n    <path d=\"M 49.633125 84.019586 \nL 69.163125 95.190042 \nL 88.693125 98.465202 \n\" clip-path=\"url(#p73d35b4ef8)\" style=\"fill: none; stroke-dasharray: 5.55,2.4; stroke-dashoffset: 0; stroke: #ff7f0e; stroke-width: 1.5\"/>\n   </g>\n   <g id=\"line2d_49\">\n    <path d=\"M 49.633125 46.69576 \nL 69.163125 42.334935 \nL 88.693125 41.551547 \n\" clip-path=\"url(#p73d35b4ef8)\" style=\"fill: none; stroke-dasharray: 9.6,2.4,1.5,2.4; stroke-dashoffset: 0; stroke: #2ca02c; stroke-width: 1.5\"/>\n   </g>\n   <g id=\"line2d_50\">\n    <path d=\"M 34.954394 13.5 \nL 44.698573 78.095731 \nL 54.442752 94.383369 \nL 64.186931 99.953925 \nL 73.93111 107.549926 \nL 83.675289 108.399987 \nL 93.419468 115.169342 \nL 103.163647 115.410043 \n\" clip-path=\"url(#p73d35b4ef8)\" style=\"fill: none; stroke: #1f77b4; stroke-width: 1.5; stroke-linecap: square\"/>\n   </g>\n   <g id=\"line2d_51\">\n    <path d=\"M 49.633125 84.019586 \nL 69.163125 95.190042 \nL 88.693125 98.465202 \nL 108.223125 107.046885 \n\" clip-path=\"url(#p73d35b4ef8)\" style=\"fill: none; stroke-dasharray: 5.55,2.4; stroke-dashoffset: 0; stroke: #ff7f0e; stroke-width: 1.5\"/>\n   </g>\n   <g id=\"line2d_52\">\n    <path d=\"M 49.633125 46.69576 \nL 69.163125 42.334935 \nL 88.693125 41.551547 \n\" clip-path=\"url(#p73d35b4ef8)\" style=\"fill: none; stroke-dasharray: 9.6,2.4,1.5,2.4; stroke-dashoffset: 0; stroke: #2ca02c; stroke-width: 1.5\"/>\n   </g>\n   <g id=\"line2d_53\">\n    <path d=\"M 34.954394 13.5 \nL 44.698573 78.095731 \nL 54.442752 94.383369 \nL 64.186931 99.953925 \nL 73.93111 107.549926 \nL 83.675289 108.399987 \nL 93.419468 115.169342 \nL 103.163647 115.410043 \n\" clip-path=\"url(#p73d35b4ef8)\" style=\"fill: none; stroke: #1f77b4; stroke-width: 1.5; stroke-linecap: square\"/>\n   </g>\n   <g id=\"line2d_54\">\n    <path d=\"M 49.633125 84.019586 \nL 69.163125 95.190042 \nL 88.693125 98.465202 \nL 108.223125 107.046885 \n\" clip-path=\"url(#p73d35b4ef8)\" style=\"fill: none; stroke-dasharray: 5.55,2.4; stroke-dashoffset: 0; stroke: #ff7f0e; stroke-width: 1.5\"/>\n   </g>\n   <g id=\"line2d_55\">\n    <path d=\"M 49.633125 46.69576 \nL 69.163125 42.334935 \nL 88.693125 41.551547 \nL 108.223125 37.947991 \n\" clip-path=\"url(#p73d35b4ef8)\" style=\"fill: none; stroke-dasharray: 9.6,2.4,1.5,2.4; stroke-dashoffset: 0; stroke: #2ca02c; stroke-width: 1.5\"/>\n   </g>\n   <g id=\"line2d_56\">\n    <path d=\"M 34.954394 13.5 \nL 44.698573 78.095731 \nL 54.442752 94.383369 \nL 64.186931 99.953925 \nL 73.93111 107.549926 \nL 83.675289 108.399987 \nL 93.419468 115.169342 \nL 103.163647 115.410043 \nL 112.907826 121.404096 \n\" clip-path=\"url(#p73d35b4ef8)\" style=\"fill: none; stroke: #1f77b4; stroke-width: 1.5; stroke-linecap: square\"/>\n   </g>\n   <g id=\"line2d_57\">\n    <path d=\"M 49.633125 84.019586 \nL 69.163125 95.190042 \nL 88.693125 98.465202 \nL 108.223125 107.046885 \n\" clip-path=\"url(#p73d35b4ef8)\" style=\"fill: none; stroke-dasharray: 5.55,2.4; stroke-dashoffset: 0; stroke: #ff7f0e; stroke-width: 1.5\"/>\n   </g>\n   <g id=\"line2d_58\">\n    <path d=\"M 49.633125 46.69576 \nL 69.163125 42.334935 \nL 88.693125 41.551547 \nL 108.223125 37.947991 \n\" clip-path=\"url(#p73d35b4ef8)\" style=\"fill: none; stroke-dasharray: 9.6,2.4,1.5,2.4; stroke-dashoffset: 0; stroke: #2ca02c; stroke-width: 1.5\"/>\n   </g>\n   <g id=\"line2d_59\">\n    <path d=\"M 34.954394 13.5 \nL 44.698573 78.095731 \nL 54.442752 94.383369 \nL 64.186931 99.953925 \nL 73.93111 107.549926 \nL 83.675289 108.399987 \nL 93.419468 115.169342 \nL 103.163647 115.410043 \nL 112.907826 121.404096 \nL 122.652006 120.471313 \n\" clip-path=\"url(#p73d35b4ef8)\" style=\"fill: none; stroke: #1f77b4; stroke-width: 1.5; stroke-linecap: square\"/>\n   </g>\n   <g id=\"line2d_60\">\n    <path d=\"M 49.633125 84.019586 \nL 69.163125 95.190042 \nL 88.693125 98.465202 \nL 108.223125 107.046885 \n\" clip-path=\"url(#p73d35b4ef8)\" style=\"fill: none; stroke-dasharray: 5.55,2.4; stroke-dashoffset: 0; stroke: #ff7f0e; stroke-width: 1.5\"/>\n   </g>\n   <g id=\"line2d_61\">\n    <path d=\"M 49.633125 46.69576 \nL 69.163125 42.334935 \nL 88.693125 41.551547 \nL 108.223125 37.947991 \n\" clip-path=\"url(#p73d35b4ef8)\" style=\"fill: none; stroke-dasharray: 9.6,2.4,1.5,2.4; stroke-dashoffset: 0; stroke: #2ca02c; stroke-width: 1.5\"/>\n   </g>\n   <g id=\"line2d_62\">\n    <path d=\"M 34.954394 13.5 \nL 44.698573 78.095731 \nL 54.442752 94.383369 \nL 64.186931 99.953925 \nL 73.93111 107.549926 \nL 83.675289 108.399987 \nL 93.419468 115.169342 \nL 103.163647 115.410043 \nL 112.907826 121.404096 \nL 122.652006 120.471313 \n\" clip-path=\"url(#p73d35b4ef8)\" style=\"fill: none; stroke: #1f77b4; stroke-width: 1.5; stroke-linecap: square\"/>\n   </g>\n   <g id=\"line2d_63\">\n    <path d=\"M 49.633125 84.019586 \nL 69.163125 95.190042 \nL 88.693125 98.465202 \nL 108.223125 107.046885 \nL 127.753125 105.78138 \n\" clip-path=\"url(#p73d35b4ef8)\" style=\"fill: none; stroke-dasharray: 5.55,2.4; stroke-dashoffset: 0; stroke: #ff7f0e; stroke-width: 1.5\"/>\n   </g>\n   <g id=\"line2d_64\">\n    <path d=\"M 49.633125 46.69576 \nL 69.163125 42.334935 \nL 88.693125 41.551547 \nL 108.223125 37.947991 \n\" clip-path=\"url(#p73d35b4ef8)\" style=\"fill: none; stroke-dasharray: 9.6,2.4,1.5,2.4; stroke-dashoffset: 0; stroke: #2ca02c; stroke-width: 1.5\"/>\n   </g>\n   <g id=\"line2d_65\">\n    <path d=\"M 34.954394 13.5 \nL 44.698573 78.095731 \nL 54.442752 94.383369 \nL 64.186931 99.953925 \nL 73.93111 107.549926 \nL 83.675289 108.399987 \nL 93.419468 115.169342 \nL 103.163647 115.410043 \nL 112.907826 121.404096 \nL 122.652006 120.471313 \n\" clip-path=\"url(#p73d35b4ef8)\" style=\"fill: none; stroke: #1f77b4; stroke-width: 1.5; stroke-linecap: square\"/>\n   </g>\n   <g id=\"line2d_66\">\n    <path d=\"M 49.633125 84.019586 \nL 69.163125 95.190042 \nL 88.693125 98.465202 \nL 108.223125 107.046885 \nL 127.753125 105.78138 \n\" clip-path=\"url(#p73d35b4ef8)\" style=\"fill: none; stroke-dasharray: 5.55,2.4; stroke-dashoffset: 0; stroke: #ff7f0e; stroke-width: 1.5\"/>\n   </g>\n   <g id=\"line2d_67\">\n    <path d=\"M 49.633125 46.69576 \nL 69.163125 42.334935 \nL 88.693125 41.551547 \nL 108.223125 37.947991 \nL 127.753125 38.548581 \n\" clip-path=\"url(#p73d35b4ef8)\" style=\"fill: none; stroke-dasharray: 9.6,2.4,1.5,2.4; stroke-dashoffset: 0; stroke: #2ca02c; stroke-width: 1.5\"/>\n   </g>\n   <g id=\"line2d_68\">\n    <path d=\"M 34.954394 13.5 \nL 44.698573 78.095731 \nL 54.442752 94.383369 \nL 64.186931 99.953925 \nL 73.93111 107.549926 \nL 83.675289 108.399987 \nL 93.419468 115.169342 \nL 103.163647 115.410043 \nL 112.907826 121.404096 \nL 122.652006 120.471313 \nL 132.396185 127.27405 \n\" clip-path=\"url(#p73d35b4ef8)\" style=\"fill: none; stroke: #1f77b4; stroke-width: 1.5; stroke-linecap: square\"/>\n   </g>\n   <g id=\"line2d_69\">\n    <path d=\"M 49.633125 84.019586 \nL 69.163125 95.190042 \nL 88.693125 98.465202 \nL 108.223125 107.046885 \nL 127.753125 105.78138 \n\" clip-path=\"url(#p73d35b4ef8)\" style=\"fill: none; stroke-dasharray: 5.55,2.4; stroke-dashoffset: 0; stroke: #ff7f0e; stroke-width: 1.5\"/>\n   </g>\n   <g id=\"line2d_70\">\n    <path d=\"M 49.633125 46.69576 \nL 69.163125 42.334935 \nL 88.693125 41.551547 \nL 108.223125 37.947991 \nL 127.753125 38.548581 \n\" clip-path=\"url(#p73d35b4ef8)\" style=\"fill: none; stroke-dasharray: 9.6,2.4,1.5,2.4; stroke-dashoffset: 0; stroke: #2ca02c; stroke-width: 1.5\"/>\n   </g>\n   <g id=\"line2d_71\">\n    <path d=\"M 34.954394 13.5 \nL 44.698573 78.095731 \nL 54.442752 94.383369 \nL 64.186931 99.953925 \nL 73.93111 107.549926 \nL 83.675289 108.399987 \nL 93.419468 115.169342 \nL 103.163647 115.410043 \nL 112.907826 121.404096 \nL 122.652006 120.471313 \nL 132.396185 127.27405 \nL 142.140364 123.896427 \n\" clip-path=\"url(#p73d35b4ef8)\" style=\"fill: none; stroke: #1f77b4; stroke-width: 1.5; stroke-linecap: square\"/>\n   </g>\n   <g id=\"line2d_72\">\n    <path d=\"M 49.633125 84.019586 \nL 69.163125 95.190042 \nL 88.693125 98.465202 \nL 108.223125 107.046885 \nL 127.753125 105.78138 \n\" clip-path=\"url(#p73d35b4ef8)\" style=\"fill: none; stroke-dasharray: 5.55,2.4; stroke-dashoffset: 0; stroke: #ff7f0e; stroke-width: 1.5\"/>\n   </g>\n   <g id=\"line2d_73\">\n    <path d=\"M 49.633125 46.69576 \nL 69.163125 42.334935 \nL 88.693125 41.551547 \nL 108.223125 37.947991 \nL 127.753125 38.548581 \n\" clip-path=\"url(#p73d35b4ef8)\" style=\"fill: none; stroke-dasharray: 9.6,2.4,1.5,2.4; stroke-dashoffset: 0; stroke: #2ca02c; stroke-width: 1.5\"/>\n   </g>\n   <g id=\"line2d_74\">\n    <path d=\"M 34.954394 13.5 \nL 44.698573 78.095731 \nL 54.442752 94.383369 \nL 64.186931 99.953925 \nL 73.93111 107.549926 \nL 83.675289 108.399987 \nL 93.419468 115.169342 \nL 103.163647 115.410043 \nL 112.907826 121.404096 \nL 122.652006 120.471313 \nL 132.396185 127.27405 \nL 142.140364 123.896427 \n\" clip-path=\"url(#p73d35b4ef8)\" style=\"fill: none; stroke: #1f77b4; stroke-width: 1.5; stroke-linecap: square\"/>\n   </g>\n   <g id=\"line2d_75\">\n    <path d=\"M 49.633125 84.019586 \nL 69.163125 95.190042 \nL 88.693125 98.465202 \nL 108.223125 107.046885 \nL 127.753125 105.78138 \nL 147.283125 100.815664 \n\" clip-path=\"url(#p73d35b4ef8)\" style=\"fill: none; stroke-dasharray: 5.55,2.4; stroke-dashoffset: 0; stroke: #ff7f0e; stroke-width: 1.5\"/>\n   </g>\n   <g id=\"line2d_76\">\n    <path d=\"M 49.633125 46.69576 \nL 69.163125 42.334935 \nL 88.693125 41.551547 \nL 108.223125 37.947991 \nL 127.753125 38.548581 \n\" clip-path=\"url(#p73d35b4ef8)\" style=\"fill: none; stroke-dasharray: 9.6,2.4,1.5,2.4; stroke-dashoffset: 0; stroke: #2ca02c; stroke-width: 1.5\"/>\n   </g>\n   <g id=\"line2d_77\">\n    <path d=\"M 34.954394 13.5 \nL 44.698573 78.095731 \nL 54.442752 94.383369 \nL 64.186931 99.953925 \nL 73.93111 107.549926 \nL 83.675289 108.399987 \nL 93.419468 115.169342 \nL 103.163647 115.410043 \nL 112.907826 121.404096 \nL 122.652006 120.471313 \nL 132.396185 127.27405 \nL 142.140364 123.896427 \n\" clip-path=\"url(#p73d35b4ef8)\" style=\"fill: none; stroke: #1f77b4; stroke-width: 1.5; stroke-linecap: square\"/>\n   </g>\n   <g id=\"line2d_78\">\n    <path d=\"M 49.633125 84.019586 \nL 69.163125 95.190042 \nL 88.693125 98.465202 \nL 108.223125 107.046885 \nL 127.753125 105.78138 \nL 147.283125 100.815664 \n\" clip-path=\"url(#p73d35b4ef8)\" style=\"fill: none; stroke-dasharray: 5.55,2.4; stroke-dashoffset: 0; stroke: #ff7f0e; stroke-width: 1.5\"/>\n   </g>\n   <g id=\"line2d_79\">\n    <path d=\"M 49.633125 46.69576 \nL 69.163125 42.334935 \nL 88.693125 41.551547 \nL 108.223125 37.947991 \nL 127.753125 38.548581 \nL 147.283125 38.796655 \n\" clip-path=\"url(#p73d35b4ef8)\" style=\"fill: none; stroke-dasharray: 9.6,2.4,1.5,2.4; stroke-dashoffset: 0; stroke: #2ca02c; stroke-width: 1.5\"/>\n   </g>\n   <g id=\"line2d_80\">\n    <path d=\"M 34.954394 13.5 \nL 44.698573 78.095731 \nL 54.442752 94.383369 \nL 64.186931 99.953925 \nL 73.93111 107.549926 \nL 83.675289 108.399987 \nL 93.419468 115.169342 \nL 103.163647 115.410043 \nL 112.907826 121.404096 \nL 122.652006 120.471313 \nL 132.396185 127.27405 \nL 142.140364 123.896427 \nL 151.884543 130.081057 \n\" clip-path=\"url(#p73d35b4ef8)\" style=\"fill: none; stroke: #1f77b4; stroke-width: 1.5; stroke-linecap: square\"/>\n   </g>\n   <g id=\"line2d_81\">\n    <path d=\"M 49.633125 84.019586 \nL 69.163125 95.190042 \nL 88.693125 98.465202 \nL 108.223125 107.046885 \nL 127.753125 105.78138 \nL 147.283125 100.815664 \n\" clip-path=\"url(#p73d35b4ef8)\" style=\"fill: none; stroke-dasharray: 5.55,2.4; stroke-dashoffset: 0; stroke: #ff7f0e; stroke-width: 1.5\"/>\n   </g>\n   <g id=\"line2d_82\">\n    <path d=\"M 49.633125 46.69576 \nL 69.163125 42.334935 \nL 88.693125 41.551547 \nL 108.223125 37.947991 \nL 127.753125 38.548581 \nL 147.283125 38.796655 \n\" clip-path=\"url(#p73d35b4ef8)\" style=\"fill: none; stroke-dasharray: 9.6,2.4,1.5,2.4; stroke-dashoffset: 0; stroke: #2ca02c; stroke-width: 1.5\"/>\n   </g>\n   <g id=\"line2d_83\">\n    <path d=\"M 34.954394 13.5 \nL 44.698573 78.095731 \nL 54.442752 94.383369 \nL 64.186931 99.953925 \nL 73.93111 107.549926 \nL 83.675289 108.399987 \nL 93.419468 115.169342 \nL 103.163647 115.410043 \nL 112.907826 121.404096 \nL 122.652006 120.471313 \nL 132.396185 127.27405 \nL 142.140364 123.896427 \nL 151.884543 130.081057 \nL 161.628722 128.06739 \n\" clip-path=\"url(#p73d35b4ef8)\" style=\"fill: none; stroke: #1f77b4; stroke-width: 1.5; stroke-linecap: square\"/>\n   </g>\n   <g id=\"line2d_84\">\n    <path d=\"M 49.633125 84.019586 \nL 69.163125 95.190042 \nL 88.693125 98.465202 \nL 108.223125 107.046885 \nL 127.753125 105.78138 \nL 147.283125 100.815664 \n\" clip-path=\"url(#p73d35b4ef8)\" style=\"fill: none; stroke-dasharray: 5.55,2.4; stroke-dashoffset: 0; stroke: #ff7f0e; stroke-width: 1.5\"/>\n   </g>\n   <g id=\"line2d_85\">\n    <path d=\"M 49.633125 46.69576 \nL 69.163125 42.334935 \nL 88.693125 41.551547 \nL 108.223125 37.947991 \nL 127.753125 38.548581 \nL 147.283125 38.796655 \n\" clip-path=\"url(#p73d35b4ef8)\" style=\"fill: none; stroke-dasharray: 9.6,2.4,1.5,2.4; stroke-dashoffset: 0; stroke: #2ca02c; stroke-width: 1.5\"/>\n   </g>\n   <g id=\"line2d_86\">\n    <path d=\"M 34.954394 13.5 \nL 44.698573 78.095731 \nL 54.442752 94.383369 \nL 64.186931 99.953925 \nL 73.93111 107.549926 \nL 83.675289 108.399987 \nL 93.419468 115.169342 \nL 103.163647 115.410043 \nL 112.907826 121.404096 \nL 122.652006 120.471313 \nL 132.396185 127.27405 \nL 142.140364 123.896427 \nL 151.884543 130.081057 \nL 161.628722 128.06739 \n\" clip-path=\"url(#p73d35b4ef8)\" style=\"fill: none; stroke: #1f77b4; stroke-width: 1.5; stroke-linecap: square\"/>\n   </g>\n   <g id=\"line2d_87\">\n    <path d=\"M 49.633125 84.019586 \nL 69.163125 95.190042 \nL 88.693125 98.465202 \nL 108.223125 107.046885 \nL 127.753125 105.78138 \nL 147.283125 100.815664 \nL 166.813125 109.755135 \n\" clip-path=\"url(#p73d35b4ef8)\" style=\"fill: none; stroke-dasharray: 5.55,2.4; stroke-dashoffset: 0; stroke: #ff7f0e; stroke-width: 1.5\"/>\n   </g>\n   <g id=\"line2d_88\">\n    <path d=\"M 49.633125 46.69576 \nL 69.163125 42.334935 \nL 88.693125 41.551547 \nL 108.223125 37.947991 \nL 127.753125 38.548581 \nL 147.283125 38.796655 \n\" clip-path=\"url(#p73d35b4ef8)\" style=\"fill: none; stroke-dasharray: 9.6,2.4,1.5,2.4; stroke-dashoffset: 0; stroke: #2ca02c; stroke-width: 1.5\"/>\n   </g>\n   <g id=\"line2d_89\">\n    <path d=\"M 34.954394 13.5 \nL 44.698573 78.095731 \nL 54.442752 94.383369 \nL 64.186931 99.953925 \nL 73.93111 107.549926 \nL 83.675289 108.399987 \nL 93.419468 115.169342 \nL 103.163647 115.410043 \nL 112.907826 121.404096 \nL 122.652006 120.471313 \nL 132.396185 127.27405 \nL 142.140364 123.896427 \nL 151.884543 130.081057 \nL 161.628722 128.06739 \n\" clip-path=\"url(#p73d35b4ef8)\" style=\"fill: none; stroke: #1f77b4; stroke-width: 1.5; stroke-linecap: square\"/>\n   </g>\n   <g id=\"line2d_90\">\n    <path d=\"M 49.633125 84.019586 \nL 69.163125 95.190042 \nL 88.693125 98.465202 \nL 108.223125 107.046885 \nL 127.753125 105.78138 \nL 147.283125 100.815664 \nL 166.813125 109.755135 \n\" clip-path=\"url(#p73d35b4ef8)\" style=\"fill: none; stroke-dasharray: 5.55,2.4; stroke-dashoffset: 0; stroke: #ff7f0e; stroke-width: 1.5\"/>\n   </g>\n   <g id=\"line2d_91\">\n    <path d=\"M 49.633125 46.69576 \nL 69.163125 42.334935 \nL 88.693125 41.551547 \nL 108.223125 37.947991 \nL 127.753125 38.548581 \nL 147.283125 38.796655 \nL 166.813125 36.133157 \n\" clip-path=\"url(#p73d35b4ef8)\" style=\"fill: none; stroke-dasharray: 9.6,2.4,1.5,2.4; stroke-dashoffset: 0; stroke: #2ca02c; stroke-width: 1.5\"/>\n   </g>\n   <g id=\"line2d_92\">\n    <path d=\"M 34.954394 13.5 \nL 44.698573 78.095731 \nL 54.442752 94.383369 \nL 64.186931 99.953925 \nL 73.93111 107.549926 \nL 83.675289 108.399987 \nL 93.419468 115.169342 \nL 103.163647 115.410043 \nL 112.907826 121.404096 \nL 122.652006 120.471313 \nL 132.396185 127.27405 \nL 142.140364 123.896427 \nL 151.884543 130.081057 \nL 161.628722 128.06739 \nL 171.372901 133.507319 \n\" clip-path=\"url(#p73d35b4ef8)\" style=\"fill: none; stroke: #1f77b4; stroke-width: 1.5; stroke-linecap: square\"/>\n   </g>\n   <g id=\"line2d_93\">\n    <path d=\"M 49.633125 84.019586 \nL 69.163125 95.190042 \nL 88.693125 98.465202 \nL 108.223125 107.046885 \nL 127.753125 105.78138 \nL 147.283125 100.815664 \nL 166.813125 109.755135 \n\" clip-path=\"url(#p73d35b4ef8)\" style=\"fill: none; stroke-dasharray: 5.55,2.4; stroke-dashoffset: 0; stroke: #ff7f0e; stroke-width: 1.5\"/>\n   </g>\n   <g id=\"line2d_94\">\n    <path d=\"M 49.633125 46.69576 \nL 69.163125 42.334935 \nL 88.693125 41.551547 \nL 108.223125 37.947991 \nL 127.753125 38.548581 \nL 147.283125 38.796655 \nL 166.813125 36.133157 \n\" clip-path=\"url(#p73d35b4ef8)\" style=\"fill: none; stroke-dasharray: 9.6,2.4,1.5,2.4; stroke-dashoffset: 0; stroke: #2ca02c; stroke-width: 1.5\"/>\n   </g>\n   <g id=\"line2d_95\">\n    <path d=\"M 34.954394 13.5 \nL 44.698573 78.095731 \nL 54.442752 94.383369 \nL 64.186931 99.953925 \nL 73.93111 107.549926 \nL 83.675289 108.399987 \nL 93.419468 115.169342 \nL 103.163647 115.410043 \nL 112.907826 121.404096 \nL 122.652006 120.471313 \nL 132.396185 127.27405 \nL 142.140364 123.896427 \nL 151.884543 130.081057 \nL 161.628722 128.06739 \nL 171.372901 133.507319 \nL 181.11708 131.69714 \n\" clip-path=\"url(#p73d35b4ef8)\" style=\"fill: none; stroke: #1f77b4; stroke-width: 1.5; stroke-linecap: square\"/>\n   </g>\n   <g id=\"line2d_96\">\n    <path d=\"M 49.633125 84.019586 \nL 69.163125 95.190042 \nL 88.693125 98.465202 \nL 108.223125 107.046885 \nL 127.753125 105.78138 \nL 147.283125 100.815664 \nL 166.813125 109.755135 \n\" clip-path=\"url(#p73d35b4ef8)\" style=\"fill: none; stroke-dasharray: 5.55,2.4; stroke-dashoffset: 0; stroke: #ff7f0e; stroke-width: 1.5\"/>\n   </g>\n   <g id=\"line2d_97\">\n    <path d=\"M 49.633125 46.69576 \nL 69.163125 42.334935 \nL 88.693125 41.551547 \nL 108.223125 37.947991 \nL 127.753125 38.548581 \nL 147.283125 38.796655 \nL 166.813125 36.133157 \n\" clip-path=\"url(#p73d35b4ef8)\" style=\"fill: none; stroke-dasharray: 9.6,2.4,1.5,2.4; stroke-dashoffset: 0; stroke: #2ca02c; stroke-width: 1.5\"/>\n   </g>\n   <g id=\"line2d_98\">\n    <path d=\"M 34.954394 13.5 \nL 44.698573 78.095731 \nL 54.442752 94.383369 \nL 64.186931 99.953925 \nL 73.93111 107.549926 \nL 83.675289 108.399987 \nL 93.419468 115.169342 \nL 103.163647 115.410043 \nL 112.907826 121.404096 \nL 122.652006 120.471313 \nL 132.396185 127.27405 \nL 142.140364 123.896427 \nL 151.884543 130.081057 \nL 161.628722 128.06739 \nL 171.372901 133.507319 \nL 181.11708 131.69714 \n\" clip-path=\"url(#p73d35b4ef8)\" style=\"fill: none; stroke: #1f77b4; stroke-width: 1.5; stroke-linecap: square\"/>\n   </g>\n   <g id=\"line2d_99\">\n    <path d=\"M 49.633125 84.019586 \nL 69.163125 95.190042 \nL 88.693125 98.465202 \nL 108.223125 107.046885 \nL 127.753125 105.78138 \nL 147.283125 100.815664 \nL 166.813125 109.755135 \nL 186.343125 98.984907 \n\" clip-path=\"url(#p73d35b4ef8)\" style=\"fill: none; stroke-dasharray: 5.55,2.4; stroke-dashoffset: 0; stroke: #ff7f0e; stroke-width: 1.5\"/>\n   </g>\n   <g id=\"line2d_100\">\n    <path d=\"M 49.633125 46.69576 \nL 69.163125 42.334935 \nL 88.693125 41.551547 \nL 108.223125 37.947991 \nL 127.753125 38.548581 \nL 147.283125 38.796655 \nL 166.813125 36.133157 \n\" clip-path=\"url(#p73d35b4ef8)\" style=\"fill: none; stroke-dasharray: 9.6,2.4,1.5,2.4; stroke-dashoffset: 0; stroke: #2ca02c; stroke-width: 1.5\"/>\n   </g>\n   <g id=\"line2d_101\">\n    <path d=\"M 34.954394 13.5 \nL 44.698573 78.095731 \nL 54.442752 94.383369 \nL 64.186931 99.953925 \nL 73.93111 107.549926 \nL 83.675289 108.399987 \nL 93.419468 115.169342 \nL 103.163647 115.410043 \nL 112.907826 121.404096 \nL 122.652006 120.471313 \nL 132.396185 127.27405 \nL 142.140364 123.896427 \nL 151.884543 130.081057 \nL 161.628722 128.06739 \nL 171.372901 133.507319 \nL 181.11708 131.69714 \n\" clip-path=\"url(#p73d35b4ef8)\" style=\"fill: none; stroke: #1f77b4; stroke-width: 1.5; stroke-linecap: square\"/>\n   </g>\n   <g id=\"line2d_102\">\n    <path d=\"M 49.633125 84.019586 \nL 69.163125 95.190042 \nL 88.693125 98.465202 \nL 108.223125 107.046885 \nL 127.753125 105.78138 \nL 147.283125 100.815664 \nL 166.813125 109.755135 \nL 186.343125 98.984907 \n\" clip-path=\"url(#p73d35b4ef8)\" style=\"fill: none; stroke-dasharray: 5.55,2.4; stroke-dashoffset: 0; stroke: #ff7f0e; stroke-width: 1.5\"/>\n   </g>\n   <g id=\"line2d_103\">\n    <path d=\"M 49.633125 46.69576 \nL 69.163125 42.334935 \nL 88.693125 41.551547 \nL 108.223125 37.947991 \nL 127.753125 38.548581 \nL 147.283125 38.796655 \nL 166.813125 36.133157 \nL 186.343125 38.653031 \n\" clip-path=\"url(#p73d35b4ef8)\" style=\"fill: none; stroke-dasharray: 9.6,2.4,1.5,2.4; stroke-dashoffset: 0; stroke: #2ca02c; stroke-width: 1.5\"/>\n   </g>\n   <g id=\"line2d_104\">\n    <path d=\"M 34.954394 13.5 \nL 44.698573 78.095731 \nL 54.442752 94.383369 \nL 64.186931 99.953925 \nL 73.93111 107.549926 \nL 83.675289 108.399987 \nL 93.419468 115.169342 \nL 103.163647 115.410043 \nL 112.907826 121.404096 \nL 122.652006 120.471313 \nL 132.396185 127.27405 \nL 142.140364 123.896427 \nL 151.884543 130.081057 \nL 161.628722 128.06739 \nL 171.372901 133.507319 \nL 181.11708 131.69714 \nL 190.861259 136.546435 \n\" clip-path=\"url(#p73d35b4ef8)\" style=\"fill: none; stroke: #1f77b4; stroke-width: 1.5; stroke-linecap: square\"/>\n   </g>\n   <g id=\"line2d_105\">\n    <path d=\"M 49.633125 84.019586 \nL 69.163125 95.190042 \nL 88.693125 98.465202 \nL 108.223125 107.046885 \nL 127.753125 105.78138 \nL 147.283125 100.815664 \nL 166.813125 109.755135 \nL 186.343125 98.984907 \n\" clip-path=\"url(#p73d35b4ef8)\" style=\"fill: none; stroke-dasharray: 5.55,2.4; stroke-dashoffset: 0; stroke: #ff7f0e; stroke-width: 1.5\"/>\n   </g>\n   <g id=\"line2d_106\">\n    <path d=\"M 49.633125 46.69576 \nL 69.163125 42.334935 \nL 88.693125 41.551547 \nL 108.223125 37.947991 \nL 127.753125 38.548581 \nL 147.283125 38.796655 \nL 166.813125 36.133157 \nL 186.343125 38.653031 \n\" clip-path=\"url(#p73d35b4ef8)\" style=\"fill: none; stroke-dasharray: 9.6,2.4,1.5,2.4; stroke-dashoffset: 0; stroke: #2ca02c; stroke-width: 1.5\"/>\n   </g>\n   <g id=\"line2d_107\">\n    <path d=\"M 34.954394 13.5 \nL 44.698573 78.095731 \nL 54.442752 94.383369 \nL 64.186931 99.953925 \nL 73.93111 107.549926 \nL 83.675289 108.399987 \nL 93.419468 115.169342 \nL 103.163647 115.410043 \nL 112.907826 121.404096 \nL 122.652006 120.471313 \nL 132.396185 127.27405 \nL 142.140364 123.896427 \nL 151.884543 130.081057 \nL 161.628722 128.06739 \nL 171.372901 133.507319 \nL 181.11708 131.69714 \nL 190.861259 136.546435 \nL 200.605438 133.99423 \n\" clip-path=\"url(#p73d35b4ef8)\" style=\"fill: none; stroke: #1f77b4; stroke-width: 1.5; stroke-linecap: square\"/>\n   </g>\n   <g id=\"line2d_108\">\n    <path d=\"M 49.633125 84.019586 \nL 69.163125 95.190042 \nL 88.693125 98.465202 \nL 108.223125 107.046885 \nL 127.753125 105.78138 \nL 147.283125 100.815664 \nL 166.813125 109.755135 \nL 186.343125 98.984907 \n\" clip-path=\"url(#p73d35b4ef8)\" style=\"fill: none; stroke-dasharray: 5.55,2.4; stroke-dashoffset: 0; stroke: #ff7f0e; stroke-width: 1.5\"/>\n   </g>\n   <g id=\"line2d_109\">\n    <path d=\"M 49.633125 46.69576 \nL 69.163125 42.334935 \nL 88.693125 41.551547 \nL 108.223125 37.947991 \nL 127.753125 38.548581 \nL 147.283125 38.796655 \nL 166.813125 36.133157 \nL 186.343125 38.653031 \n\" clip-path=\"url(#p73d35b4ef8)\" style=\"fill: none; stroke-dasharray: 9.6,2.4,1.5,2.4; stroke-dashoffset: 0; stroke: #2ca02c; stroke-width: 1.5\"/>\n   </g>\n   <g id=\"line2d_110\">\n    <path d=\"M 34.954394 13.5 \nL 44.698573 78.095731 \nL 54.442752 94.383369 \nL 64.186931 99.953925 \nL 73.93111 107.549926 \nL 83.675289 108.399987 \nL 93.419468 115.169342 \nL 103.163647 115.410043 \nL 112.907826 121.404096 \nL 122.652006 120.471313 \nL 132.396185 127.27405 \nL 142.140364 123.896427 \nL 151.884543 130.081057 \nL 161.628722 128.06739 \nL 171.372901 133.507319 \nL 181.11708 131.69714 \nL 190.861259 136.546435 \nL 200.605438 133.99423 \n\" clip-path=\"url(#p73d35b4ef8)\" style=\"fill: none; stroke: #1f77b4; stroke-width: 1.5; stroke-linecap: square\"/>\n   </g>\n   <g id=\"line2d_111\">\n    <path d=\"M 49.633125 84.019586 \nL 69.163125 95.190042 \nL 88.693125 98.465202 \nL 108.223125 107.046885 \nL 127.753125 105.78138 \nL 147.283125 100.815664 \nL 166.813125 109.755135 \nL 186.343125 98.984907 \nL 205.873125 107.734718 \n\" clip-path=\"url(#p73d35b4ef8)\" style=\"fill: none; stroke-dasharray: 5.55,2.4; stroke-dashoffset: 0; stroke: #ff7f0e; stroke-width: 1.5\"/>\n   </g>\n   <g id=\"line2d_112\">\n    <path d=\"M 49.633125 46.69576 \nL 69.163125 42.334935 \nL 88.693125 41.551547 \nL 108.223125 37.947991 \nL 127.753125 38.548581 \nL 147.283125 38.796655 \nL 166.813125 36.133157 \nL 186.343125 38.653031 \n\" clip-path=\"url(#p73d35b4ef8)\" style=\"fill: none; stroke-dasharray: 9.6,2.4,1.5,2.4; stroke-dashoffset: 0; stroke: #2ca02c; stroke-width: 1.5\"/>\n   </g>\n   <g id=\"line2d_113\">\n    <path d=\"M 34.954394 13.5 \nL 44.698573 78.095731 \nL 54.442752 94.383369 \nL 64.186931 99.953925 \nL 73.93111 107.549926 \nL 83.675289 108.399987 \nL 93.419468 115.169342 \nL 103.163647 115.410043 \nL 112.907826 121.404096 \nL 122.652006 120.471313 \nL 132.396185 127.27405 \nL 142.140364 123.896427 \nL 151.884543 130.081057 \nL 161.628722 128.06739 \nL 171.372901 133.507319 \nL 181.11708 131.69714 \nL 190.861259 136.546435 \nL 200.605438 133.99423 \n\" clip-path=\"url(#p73d35b4ef8)\" style=\"fill: none; stroke: #1f77b4; stroke-width: 1.5; stroke-linecap: square\"/>\n   </g>\n   <g id=\"line2d_114\">\n    <path d=\"M 49.633125 84.019586 \nL 69.163125 95.190042 \nL 88.693125 98.465202 \nL 108.223125 107.046885 \nL 127.753125 105.78138 \nL 147.283125 100.815664 \nL 166.813125 109.755135 \nL 186.343125 98.984907 \nL 205.873125 107.734718 \n\" clip-path=\"url(#p73d35b4ef8)\" style=\"fill: none; stroke-dasharray: 5.55,2.4; stroke-dashoffset: 0; stroke: #ff7f0e; stroke-width: 1.5\"/>\n   </g>\n   <g id=\"line2d_115\">\n    <path d=\"M 49.633125 46.69576 \nL 69.163125 42.334935 \nL 88.693125 41.551547 \nL 108.223125 37.947991 \nL 127.753125 38.548581 \nL 147.283125 38.796655 \nL 166.813125 36.133157 \nL 186.343125 38.653031 \nL 205.873125 35.898139 \n\" clip-path=\"url(#p73d35b4ef8)\" style=\"fill: none; stroke-dasharray: 9.6,2.4,1.5,2.4; stroke-dashoffset: 0; stroke: #2ca02c; stroke-width: 1.5\"/>\n   </g>\n   <g id=\"line2d_116\">\n    <path d=\"M 34.954394 13.5 \nL 44.698573 78.095731 \nL 54.442752 94.383369 \nL 64.186931 99.953925 \nL 73.93111 107.549926 \nL 83.675289 108.399987 \nL 93.419468 115.169342 \nL 103.163647 115.410043 \nL 112.907826 121.404096 \nL 122.652006 120.471313 \nL 132.396185 127.27405 \nL 142.140364 123.896427 \nL 151.884543 130.081057 \nL 161.628722 128.06739 \nL 171.372901 133.507319 \nL 181.11708 131.69714 \nL 190.861259 136.546435 \nL 200.605438 133.99423 \nL 210.349618 139.5 \n\" clip-path=\"url(#p73d35b4ef8)\" style=\"fill: none; stroke: #1f77b4; stroke-width: 1.5; stroke-linecap: square\"/>\n   </g>\n   <g id=\"line2d_117\">\n    <path d=\"M 49.633125 84.019586 \nL 69.163125 95.190042 \nL 88.693125 98.465202 \nL 108.223125 107.046885 \nL 127.753125 105.78138 \nL 147.283125 100.815664 \nL 166.813125 109.755135 \nL 186.343125 98.984907 \nL 205.873125 107.734718 \n\" clip-path=\"url(#p73d35b4ef8)\" style=\"fill: none; stroke-dasharray: 5.55,2.4; stroke-dashoffset: 0; stroke: #ff7f0e; stroke-width: 1.5\"/>\n   </g>\n   <g id=\"line2d_118\">\n    <path d=\"M 49.633125 46.69576 \nL 69.163125 42.334935 \nL 88.693125 41.551547 \nL 108.223125 37.947991 \nL 127.753125 38.548581 \nL 147.283125 38.796655 \nL 166.813125 36.133157 \nL 186.343125 38.653031 \nL 205.873125 35.898139 \n\" clip-path=\"url(#p73d35b4ef8)\" style=\"fill: none; stroke-dasharray: 9.6,2.4,1.5,2.4; stroke-dashoffset: 0; stroke: #2ca02c; stroke-width: 1.5\"/>\n   </g>\n   <g id=\"line2d_119\">\n    <path d=\"M 34.954394 13.5 \nL 44.698573 78.095731 \nL 54.442752 94.383369 \nL 64.186931 99.953925 \nL 73.93111 107.549926 \nL 83.675289 108.399987 \nL 93.419468 115.169342 \nL 103.163647 115.410043 \nL 112.907826 121.404096 \nL 122.652006 120.471313 \nL 132.396185 127.27405 \nL 142.140364 123.896427 \nL 151.884543 130.081057 \nL 161.628722 128.06739 \nL 171.372901 133.507319 \nL 181.11708 131.69714 \nL 190.861259 136.546435 \nL 200.605438 133.99423 \nL 210.349618 139.5 \nL 220.093797 135.726187 \n\" clip-path=\"url(#p73d35b4ef8)\" style=\"fill: none; stroke: #1f77b4; stroke-width: 1.5; stroke-linecap: square\"/>\n   </g>\n   <g id=\"line2d_120\">\n    <path d=\"M 49.633125 84.019586 \nL 69.163125 95.190042 \nL 88.693125 98.465202 \nL 108.223125 107.046885 \nL 127.753125 105.78138 \nL 147.283125 100.815664 \nL 166.813125 109.755135 \nL 186.343125 98.984907 \nL 205.873125 107.734718 \n\" clip-path=\"url(#p73d35b4ef8)\" style=\"fill: none; stroke-dasharray: 5.55,2.4; stroke-dashoffset: 0; stroke: #ff7f0e; stroke-width: 1.5\"/>\n   </g>\n   <g id=\"line2d_121\">\n    <path d=\"M 49.633125 46.69576 \nL 69.163125 42.334935 \nL 88.693125 41.551547 \nL 108.223125 37.947991 \nL 127.753125 38.548581 \nL 147.283125 38.796655 \nL 166.813125 36.133157 \nL 186.343125 38.653031 \nL 205.873125 35.898139 \n\" clip-path=\"url(#p73d35b4ef8)\" style=\"fill: none; stroke-dasharray: 9.6,2.4,1.5,2.4; stroke-dashoffset: 0; stroke: #2ca02c; stroke-width: 1.5\"/>\n   </g>\n   <g id=\"line2d_122\">\n    <path d=\"M 34.954394 13.5 \nL 44.698573 78.095731 \nL 54.442752 94.383369 \nL 64.186931 99.953925 \nL 73.93111 107.549926 \nL 83.675289 108.399987 \nL 93.419468 115.169342 \nL 103.163647 115.410043 \nL 112.907826 121.404096 \nL 122.652006 120.471313 \nL 132.396185 127.27405 \nL 142.140364 123.896427 \nL 151.884543 130.081057 \nL 161.628722 128.06739 \nL 171.372901 133.507319 \nL 181.11708 131.69714 \nL 190.861259 136.546435 \nL 200.605438 133.99423 \nL 210.349618 139.5 \nL 220.093797 135.726187 \n\" clip-path=\"url(#p73d35b4ef8)\" style=\"fill: none; stroke: #1f77b4; stroke-width: 1.5; stroke-linecap: square\"/>\n   </g>\n   <g id=\"line2d_123\">\n    <path d=\"M 49.633125 84.019586 \nL 69.163125 95.190042 \nL 88.693125 98.465202 \nL 108.223125 107.046885 \nL 127.753125 105.78138 \nL 147.283125 100.815664 \nL 166.813125 109.755135 \nL 186.343125 98.984907 \nL 205.873125 107.734718 \nL 225.403125 106.724044 \n\" clip-path=\"url(#p73d35b4ef8)\" style=\"fill: none; stroke-dasharray: 5.55,2.4; stroke-dashoffset: 0; stroke: #ff7f0e; stroke-width: 1.5\"/>\n   </g>\n   <g id=\"line2d_124\">\n    <path d=\"M 49.633125 46.69576 \nL 69.163125 42.334935 \nL 88.693125 41.551547 \nL 108.223125 37.947991 \nL 127.753125 38.548581 \nL 147.283125 38.796655 \nL 166.813125 36.133157 \nL 186.343125 38.653031 \nL 205.873125 35.898139 \n\" clip-path=\"url(#p73d35b4ef8)\" style=\"fill: none; stroke-dasharray: 9.6,2.4,1.5,2.4; stroke-dashoffset: 0; stroke: #2ca02c; stroke-width: 1.5\"/>\n   </g>\n   <g id=\"line2d_125\">\n    <path d=\"M 34.954394 13.5 \nL 44.698573 78.095731 \nL 54.442752 94.383369 \nL 64.186931 99.953925 \nL 73.93111 107.549926 \nL 83.675289 108.399987 \nL 93.419468 115.169342 \nL 103.163647 115.410043 \nL 112.907826 121.404096 \nL 122.652006 120.471313 \nL 132.396185 127.27405 \nL 142.140364 123.896427 \nL 151.884543 130.081057 \nL 161.628722 128.06739 \nL 171.372901 133.507319 \nL 181.11708 131.69714 \nL 190.861259 136.546435 \nL 200.605438 133.99423 \nL 210.349618 139.5 \nL 220.093797 135.726187 \n\" clip-path=\"url(#p73d35b4ef8)\" style=\"fill: none; stroke: #1f77b4; stroke-width: 1.5; stroke-linecap: square\"/>\n   </g>\n   <g id=\"line2d_126\">\n    <path d=\"M 49.633125 84.019586 \nL 69.163125 95.190042 \nL 88.693125 98.465202 \nL 108.223125 107.046885 \nL 127.753125 105.78138 \nL 147.283125 100.815664 \nL 166.813125 109.755135 \nL 186.343125 98.984907 \nL 205.873125 107.734718 \nL 225.403125 106.724044 \n\" clip-path=\"url(#p73d35b4ef8)\" style=\"fill: none; stroke-dasharray: 5.55,2.4; stroke-dashoffset: 0; stroke: #ff7f0e; stroke-width: 1.5\"/>\n   </g>\n   <g id=\"line2d_127\">\n    <path d=\"M 49.633125 46.69576 \nL 69.163125 42.334935 \nL 88.693125 41.551547 \nL 108.223125 37.947991 \nL 127.753125 38.548581 \nL 147.283125 38.796655 \nL 166.813125 36.133157 \nL 186.343125 38.653031 \nL 205.873125 35.898139 \nL 225.403125 36.224544 \n\" clip-path=\"url(#p73d35b4ef8)\" style=\"fill: none; stroke-dasharray: 9.6,2.4,1.5,2.4; stroke-dashoffset: 0; stroke: #2ca02c; stroke-width: 1.5\"/>\n   </g>\n   <g id=\"patch_3\">\n    <path d=\"M 30.103125 145.8 \nL 30.103125 7.2 \n\" style=\"fill: none; stroke: #000000; stroke-width: 0.8; stroke-linejoin: miter; stroke-linecap: square\"/>\n   </g>\n   <g id=\"patch_4\">\n    <path d=\"M 225.403125 145.8 \nL 225.403125 7.2 \n\" style=\"fill: none; stroke: #000000; stroke-width: 0.8; stroke-linejoin: miter; stroke-linecap: square\"/>\n   </g>\n   <g id=\"patch_5\">\n    <path d=\"M 30.103125 145.8 \nL 225.403125 145.8 \n\" style=\"fill: none; stroke: #000000; stroke-width: 0.8; stroke-linejoin: miter; stroke-linecap: square\"/>\n   </g>\n   <g id=\"patch_6\">\n    <path d=\"M 30.103125 7.2 \nL 225.403125 7.2 \n\" style=\"fill: none; stroke: #000000; stroke-width: 0.8; stroke-linejoin: miter; stroke-linecap: square\"/>\n   </g>\n   <g id=\"legend_1\">\n    <g id=\"patch_7\">\n     <path d=\"M 138.8125 100.434375 \nL 218.403125 100.434375 \nQ 220.403125 100.434375 220.403125 98.434375 \nL 220.403125 54.565625 \nQ 220.403125 52.565625 218.403125 52.565625 \nL 138.8125 52.565625 \nQ 136.8125 52.565625 136.8125 54.565625 \nL 136.8125 98.434375 \nQ 136.8125 100.434375 138.8125 100.434375 \nz\n\" style=\"fill: #ffffff; opacity: 0.8; stroke: #cccccc; stroke-linejoin: miter\"/>\n    </g>\n    <g id=\"line2d_128\">\n     <path d=\"M 140.8125 60.664063 \nL 150.8125 60.664063 \nL 160.8125 60.664063 \n\" style=\"fill: none; stroke: #1f77b4; stroke-width: 1.5; stroke-linecap: square\"/>\n    </g>\n    <g id=\"text_13\">\n     <!-- train_loss -->\n     <g transform=\"translate(168.8125 64.164063) scale(0.1 -0.1)\">\n      <defs>\n       <path id=\"DejaVuSans-74\" d=\"M 1172 4494 \nL 1172 3500 \nL 2356 3500 \nL 2356 3053 \nL 1172 3053 \nL 1172 1153 \nQ 1172 725 1289 603 \nQ 1406 481 1766 481 \nL 2356 481 \nL 2356 0 \nL 1766 0 \nQ 1100 0 847 248 \nQ 594 497 594 1153 \nL 594 3053 \nL 172 3053 \nL 172 3500 \nL 594 3500 \nL 594 4494 \nL 1172 4494 \nz\n\" transform=\"scale(0.015625)\"/>\n       <path id=\"DejaVuSans-72\" d=\"M 2631 2963 \nQ 2534 3019 2420 3045 \nQ 2306 3072 2169 3072 \nQ 1681 3072 1420 2755 \nQ 1159 2438 1159 1844 \nL 1159 0 \nL 581 0 \nL 581 3500 \nL 1159 3500 \nL 1159 2956 \nQ 1341 3275 1631 3429 \nQ 1922 3584 2338 3584 \nQ 2397 3584 2469 3576 \nQ 2541 3569 2628 3553 \nL 2631 2963 \nz\n\" transform=\"scale(0.015625)\"/>\n       <path id=\"DejaVuSans-61\" d=\"M 2194 1759 \nQ 1497 1759 1228 1600 \nQ 959 1441 959 1056 \nQ 959 750 1161 570 \nQ 1363 391 1709 391 \nQ 2188 391 2477 730 \nQ 2766 1069 2766 1631 \nL 2766 1759 \nL 2194 1759 \nz\nM 3341 1997 \nL 3341 0 \nL 2766 0 \nL 2766 531 \nQ 2569 213 2275 61 \nQ 1981 -91 1556 -91 \nQ 1019 -91 701 211 \nQ 384 513 384 1019 \nQ 384 1609 779 1909 \nQ 1175 2209 1959 2209 \nL 2766 2209 \nL 2766 2266 \nQ 2766 2663 2505 2880 \nQ 2244 3097 1772 3097 \nQ 1472 3097 1187 3025 \nQ 903 2953 641 2809 \nL 641 3341 \nQ 956 3463 1253 3523 \nQ 1550 3584 1831 3584 \nQ 2591 3584 2966 3190 \nQ 3341 2797 3341 1997 \nz\n\" transform=\"scale(0.015625)\"/>\n       <path id=\"DejaVuSans-69\" d=\"M 603 3500 \nL 1178 3500 \nL 1178 0 \nL 603 0 \nL 603 3500 \nz\nM 603 4863 \nL 1178 4863 \nL 1178 4134 \nL 603 4134 \nL 603 4863 \nz\n\" transform=\"scale(0.015625)\"/>\n       <path id=\"DejaVuSans-6e\" d=\"M 3513 2113 \nL 3513 0 \nL 2938 0 \nL 2938 2094 \nQ 2938 2591 2744 2837 \nQ 2550 3084 2163 3084 \nQ 1697 3084 1428 2787 \nQ 1159 2491 1159 1978 \nL 1159 0 \nL 581 0 \nL 581 3500 \nL 1159 3500 \nL 1159 2956 \nQ 1366 3272 1645 3428 \nQ 1925 3584 2291 3584 \nQ 2894 3584 3203 3211 \nQ 3513 2838 3513 2113 \nz\n\" transform=\"scale(0.015625)\"/>\n       <path id=\"DejaVuSans-5f\" d=\"M 3263 -1063 \nL 3263 -1509 \nL -63 -1509 \nL -63 -1063 \nL 3263 -1063 \nz\n\" transform=\"scale(0.015625)\"/>\n       <path id=\"DejaVuSans-6c\" d=\"M 603 4863 \nL 1178 4863 \nL 1178 0 \nL 603 0 \nL 603 4863 \nz\n\" transform=\"scale(0.015625)\"/>\n       <path id=\"DejaVuSans-73\" d=\"M 2834 3397 \nL 2834 2853 \nQ 2591 2978 2328 3040 \nQ 2066 3103 1784 3103 \nQ 1356 3103 1142 2972 \nQ 928 2841 928 2578 \nQ 928 2378 1081 2264 \nQ 1234 2150 1697 2047 \nL 1894 2003 \nQ 2506 1872 2764 1633 \nQ 3022 1394 3022 966 \nQ 3022 478 2636 193 \nQ 2250 -91 1575 -91 \nQ 1294 -91 989 -36 \nQ 684 19 347 128 \nL 347 722 \nQ 666 556 975 473 \nQ 1284 391 1588 391 \nQ 1994 391 2212 530 \nQ 2431 669 2431 922 \nQ 2431 1156 2273 1281 \nQ 2116 1406 1581 1522 \nL 1381 1569 \nQ 847 1681 609 1914 \nQ 372 2147 372 2553 \nQ 372 3047 722 3315 \nQ 1072 3584 1716 3584 \nQ 2034 3584 2315 3537 \nQ 2597 3491 2834 3397 \nz\n\" transform=\"scale(0.015625)\"/>\n      </defs>\n      <use xlink:href=\"#DejaVuSans-74\"/>\n      <use xlink:href=\"#DejaVuSans-72\" transform=\"translate(39.208984 0)\"/>\n      <use xlink:href=\"#DejaVuSans-61\" transform=\"translate(80.322266 0)\"/>\n      <use xlink:href=\"#DejaVuSans-69\" transform=\"translate(141.601562 0)\"/>\n      <use xlink:href=\"#DejaVuSans-6e\" transform=\"translate(169.384766 0)\"/>\n      <use xlink:href=\"#DejaVuSans-5f\" transform=\"translate(232.763672 0)\"/>\n      <use xlink:href=\"#DejaVuSans-6c\" transform=\"translate(282.763672 0)\"/>\n      <use xlink:href=\"#DejaVuSans-6f\" transform=\"translate(310.546875 0)\"/>\n      <use xlink:href=\"#DejaVuSans-73\" transform=\"translate(371.728516 0)\"/>\n      <use xlink:href=\"#DejaVuSans-73\" transform=\"translate(423.828125 0)\"/>\n     </g>\n    </g>\n    <g id=\"line2d_129\">\n     <path d=\"M 140.8125 75.620313 \nL 150.8125 75.620313 \nL 160.8125 75.620313 \n\" style=\"fill: none; stroke-dasharray: 5.55,2.4; stroke-dashoffset: 0; stroke: #ff7f0e; stroke-width: 1.5\"/>\n    </g>\n    <g id=\"text_14\">\n     <!-- val_loss -->\n     <g transform=\"translate(168.8125 79.120313) scale(0.1 -0.1)\">\n      <defs>\n       <path id=\"DejaVuSans-76\" d=\"M 191 3500 \nL 800 3500 \nL 1894 563 \nL 2988 3500 \nL 3597 3500 \nL 2284 0 \nL 1503 0 \nL 191 3500 \nz\n\" transform=\"scale(0.015625)\"/>\n      </defs>\n      <use xlink:href=\"#DejaVuSans-76\"/>\n      <use xlink:href=\"#DejaVuSans-61\" transform=\"translate(59.179688 0)\"/>\n      <use xlink:href=\"#DejaVuSans-6c\" transform=\"translate(120.458984 0)\"/>\n      <use xlink:href=\"#DejaVuSans-5f\" transform=\"translate(148.242188 0)\"/>\n      <use xlink:href=\"#DejaVuSans-6c\" transform=\"translate(198.242188 0)\"/>\n      <use xlink:href=\"#DejaVuSans-6f\" transform=\"translate(226.025391 0)\"/>\n      <use xlink:href=\"#DejaVuSans-73\" transform=\"translate(287.207031 0)\"/>\n      <use xlink:href=\"#DejaVuSans-73\" transform=\"translate(339.306641 0)\"/>\n     </g>\n    </g>\n    <g id=\"line2d_130\">\n     <path d=\"M 140.8125 90.576563 \nL 150.8125 90.576563 \nL 160.8125 90.576563 \n\" style=\"fill: none; stroke-dasharray: 9.6,2.4,1.5,2.4; stroke-dashoffset: 0; stroke: #2ca02c; stroke-width: 1.5\"/>\n    </g>\n    <g id=\"text_15\">\n     <!-- val_acc -->\n     <g transform=\"translate(168.8125 94.076563) scale(0.1 -0.1)\">\n      <use xlink:href=\"#DejaVuSans-76\"/>\n      <use xlink:href=\"#DejaVuSans-61\" transform=\"translate(59.179688 0)\"/>\n      <use xlink:href=\"#DejaVuSans-6c\" transform=\"translate(120.458984 0)\"/>\n      <use xlink:href=\"#DejaVuSans-5f\" transform=\"translate(148.242188 0)\"/>\n      <use xlink:href=\"#DejaVuSans-61\" transform=\"translate(198.242188 0)\"/>\n      <use xlink:href=\"#DejaVuSans-63\" transform=\"translate(259.521484 0)\"/>\n      <use xlink:href=\"#DejaVuSans-63\" transform=\"translate(314.501953 0)\"/>\n     </g>\n    </g>\n   </g>\n  </g>\n </g>\n <defs>\n  <clipPath id=\"p73d35b4ef8\">\n   <rect x=\"30.103125\" y=\"7.2\" width=\"195.3\" height=\"138.6\"/>\n  </clipPath>\n </defs>\n</svg>\n"
          },
          "metadata": {}
        }
      ]
    },
    {
      "cell_type": "code",
      "source": [
        "print(model2.board.data['train_loss'][-1].y)\n",
        "print(model2.board.data['val_loss'][-1].y)\n",
        "print(model2.board.data['val_acc'][-1].y)"
      ],
      "metadata": {
        "colab": {
          "base_uri": "https://localhost:8080/"
        },
        "id": "jcWYAljgPASG",
        "outputId": "155cf841-0790-433a-ffee-d34d4dbe02f9"
      },
      "id": "jcWYAljgPASG",
      "execution_count": 69,
      "outputs": [
        {
          "output_type": "stream",
          "name": "stdout",
          "text": [
            "0.13450125\n",
            "0.35417107\n",
            "0.8881527\n"
          ]
        }
      ]
    },
    {
      "cell_type": "markdown",
      "id": "94a2283f",
      "metadata": {
        "origin_pos": 47,
        "id": "94a2283f"
      },
      "source": [
        "## Summary and Discussion\n",
        "\n",
        "Nested function classes are desirable since they allow us to obtain strictly *more powerful* rather than also subtly *different* function classes when adding capacity. One way of accomplishing this is by letting additional layers to simply pass through the input to the output. Residual connections allow for this. As a consequence, this changes the inductive bias from simple functions being of the form $f(\\mathbf{x}) = 0$ to simple functions looking like $f(\\mathbf{x}) = \\mathbf{x}$.\n",
        "\n",
        "\n",
        "The residual mapping can learn the identity function more easily, such as pushing parameters in the weight layer to zero. We can train an effective *deep* neural network by having residual blocks. Inputs can forward propagate faster through the residual connections across layers. As a consequence, we can thus train much deeper networks. For instance, the original ResNet paper :cite:`He.Zhang.Ren.ea.2016` allowed for up to 152 layers. Another benefit of residual networks is that it allows us to add layers, initialized as the identity function, *during* the training process. After all, the default behavior of a layer is to let the data pass through unchanged. This can accelerate the training of very large networks in some cases.\n",
        "\n",
        "Prior to residual connections,\n",
        "bypassing paths with gating units were introduced\n",
        "to effectively train highway networks with over 100 layers\n",
        ":cite:`srivastava2015highway`.\n",
        "Using identity functions as bypassing paths,\n",
        "ResNet performed remarkably well\n",
        "on multiple computer vision tasks.\n",
        "Residual connections had a major influence on the design of subsequent deep neural networks, of either convolutional or sequential nature.\n",
        "As we will introduce later,\n",
        "the Transformer architecture :cite:`Vaswani.Shazeer.Parmar.ea.2017`\n",
        "adopts residual connections (together with other design choices) and is pervasive\n",
        "in areas as diverse as\n",
        "language, vision, speech, and reinforcement learning.\n",
        "\n",
        "ResNeXt is an example for how the design of convolutional neural networks has evolved over time: by being more frugal with computation and trading it off against the size of the activations (number of channels), it allows for faster and more accurate networks at lower cost. An alternative way of viewing grouped convolutions is to think of a block-diagonal matrix for the convolutional weights. Note that there are quite a few such \"tricks\" that lead to more efficient networks. For instance, ShiftNet :cite:`wu2018shift` mimicks the effects of a $3 \\times 3$ convolution, simply by adding shifted activations to the channels, offering increased function complexity, this time without any computational cost.\n",
        "\n",
        "A common feature of the designs we have discussed so far is that the network design is fairly manual, primarily relying on the ingenuity of the designer to find the \"right\" network hyperparameters. While clearly feasible, it is also very costly in terms of human time and there is no guarantee that the outcome is optimal in any sense. In :numref:`sec_cnn-design` we will discuss a number of strategies for obtaining high quality networks in a more automated fashion. In particular, we will review the notion of *network design spaces* that led to the RegNetX/Y models\n",
        ":cite:`Radosavovic.Kosaraju.Girshick.ea.2020`.\n",
        "\n",
        "## Exercises\n",
        "\n",
        "1. What are the major differences between the Inception block in :numref:`fig_inception` and the residual block? How do they compare in terms of computation, accuracy, and the classes of functions they can describe?\n",
        "1. Refer to Table 1 in the ResNet paper :cite:`He.Zhang.Ren.ea.2016` to implement different variants of the network.\n",
        "1. For deeper networks, ResNet introduces a \"bottleneck\" architecture to reduce model complexity. Try to implement it.\n",
        "1. In subsequent versions of ResNet, the authors changed the \"convolution, batch normalization, and activation\" structure to the \"batch normalization, activation, and convolution\" structure. Make this improvement yourself. See Figure 1 in :citet:`He.Zhang.Ren.ea.2016*1` for details.\n",
        "1. Why can't we just increase the complexity of functions without bound, even if the function classes are nested?\n"
      ]
    },
    {
      "cell_type": "markdown",
      "id": "af80c347",
      "metadata": {
        "origin_pos": 49,
        "tab": [
          "pytorch"
        ],
        "id": "af80c347"
      },
      "source": [
        "[Discussions](https://discuss.d2l.ai/t/86)\n"
      ]
    }
  ],
  "metadata": {
    "accelerator": "GPU",
    "kernelspec": {
      "display_name": "Python 3",
      "name": "python3"
    },
    "language_info": {
      "name": "python"
    },
    "required_libs": [],
    "colab": {
      "provenance": [],
      "gpuType": "T4"
    }
  },
  "nbformat": 4,
  "nbformat_minor": 5
}